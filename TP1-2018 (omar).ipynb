{
 "cells": [
  {
   "cell_type": "code",
   "execution_count": 1,
   "metadata": {
    "collapsed": true
   },
   "outputs": [],
   "source": [
    "import pandas as pd\n",
    "import numpy as np\n",
    "import seaborn as sns\n",
    "import matplotlib.pyplot as plt\n",
    "import datetime as datetime\n",
    "import warnings\n",
    "warnings.filterwarnings('ignore')\n",
    "\n",
    "%matplotlib inline"
   ]
  },
  {
   "cell_type": "markdown",
   "metadata": {},
   "source": [
    "**CARGA DE DATOS**\n",
    "====================="
   ]
  },
  {
   "cell_type": "code",
   "execution_count": 2,
   "metadata": {
    "collapsed": false
   },
   "outputs": [],
   "source": [
    "postulantesEducacion=pd.read_csv('fiuba_1_postulantes_educacion.csv',low_memory=False)\n",
    "postulantesGeneroYEdad=pd.read_csv('fiuba_2_postulantes_genero_y_edad.csv',low_memory=False)\n",
    "vistas=pd.read_csv('fiuba_3_vistas.csv',low_memory=False)\n",
    "postulaciones=pd.read_csv('fiuba_4_postulaciones.csv',low_memory=False)\n",
    "avisosOnline=pd.read_csv('fiuba_5_avisos_online.csv',low_memory=False)\n",
    "avisosDetalle=pd.read_csv('fiuba_6_avisos_detalle.csv',low_memory=False)"
   ]
  },
  {
   "cell_type": "markdown",
   "metadata": {},
   "source": [
    "** Merge entre los archivos:**\n",
    "============================"
   ]
  },
  {
   "cell_type": "markdown",
   "metadata": {},
   "source": [
    "** 1. Educacion, genero y edad de los postulantes**"
   ]
  },
  {
   "cell_type": "code",
   "execution_count": 3,
   "metadata": {
    "collapsed": false
   },
   "outputs": [
    {
     "data": {
      "text/html": [
       "<div>\n",
       "<table border=\"1\" class=\"dataframe\">\n",
       "  <thead>\n",
       "    <tr style=\"text-align: right;\">\n",
       "      <th></th>\n",
       "      <th>idpostulante</th>\n",
       "      <th>nombre</th>\n",
       "      <th>estado</th>\n",
       "      <th>fechanacimiento</th>\n",
       "      <th>sexo</th>\n",
       "    </tr>\n",
       "  </thead>\n",
       "  <tbody>\n",
       "    <tr>\n",
       "      <th>310362</th>\n",
       "      <td>mzdNo99</td>\n",
       "      <td>NaN</td>\n",
       "      <td>NaN</td>\n",
       "      <td>1999-08-10</td>\n",
       "      <td>FEM</td>\n",
       "    </tr>\n",
       "    <tr>\n",
       "      <th>310363</th>\n",
       "      <td>Nzr1J34</td>\n",
       "      <td>NaN</td>\n",
       "      <td>NaN</td>\n",
       "      <td>NaN</td>\n",
       "      <td>NO_DECLARA</td>\n",
       "    </tr>\n",
       "    <tr>\n",
       "      <th>310364</th>\n",
       "      <td>JBrNMNk</td>\n",
       "      <td>NaN</td>\n",
       "      <td>NaN</td>\n",
       "      <td>1997-01-11</td>\n",
       "      <td>MASC</td>\n",
       "    </tr>\n",
       "    <tr>\n",
       "      <th>310365</th>\n",
       "      <td>2zP6Jd0</td>\n",
       "      <td>NaN</td>\n",
       "      <td>NaN</td>\n",
       "      <td>1997-03-06</td>\n",
       "      <td>FEM</td>\n",
       "    </tr>\n",
       "    <tr>\n",
       "      <th>310366</th>\n",
       "      <td>2zP6J9V</td>\n",
       "      <td>NaN</td>\n",
       "      <td>NaN</td>\n",
       "      <td>NaN</td>\n",
       "      <td>NO_DECLARA</td>\n",
       "    </tr>\n",
       "  </tbody>\n",
       "</table>\n",
       "</div>"
      ],
      "text/plain": [
       "       idpostulante nombre estado fechanacimiento        sexo\n",
       "310362      mzdNo99    NaN    NaN      1999-08-10         FEM\n",
       "310363      Nzr1J34    NaN    NaN             NaN  NO_DECLARA\n",
       "310364      JBrNMNk    NaN    NaN      1997-01-11        MASC\n",
       "310365      2zP6Jd0    NaN    NaN      1997-03-06         FEM\n",
       "310366      2zP6J9V    NaN    NaN             NaN  NO_DECLARA"
      ]
     },
     "execution_count": 3,
     "metadata": {},
     "output_type": "execute_result"
    }
   ],
   "source": [
    "postulantes = pd.merge(postulantesEducacion, postulantesGeneroYEdad, on='idpostulante', how='outer')\n",
    "postulantes.tail()"
   ]
  },
  {
   "cell_type": "markdown",
   "metadata": {},
   "source": [
    "**2. AvisosOnline y avisosDetalle, asi generan un solo archivo de avisos**"
   ]
  },
  {
   "cell_type": "code",
   "execution_count": 4,
   "metadata": {
    "collapsed": false
   },
   "outputs": [
    {
     "data": {
      "text/html": [
       "<div>\n",
       "<table border=\"1\" class=\"dataframe\">\n",
       "  <thead>\n",
       "    <tr style=\"text-align: right;\">\n",
       "      <th></th>\n",
       "      <th>idaviso</th>\n",
       "      <th>idpais</th>\n",
       "      <th>titulo</th>\n",
       "      <th>descripcion</th>\n",
       "      <th>nombre_zona</th>\n",
       "      <th>ciudad</th>\n",
       "      <th>mapacalle</th>\n",
       "      <th>tipo_de_trabajo</th>\n",
       "      <th>nivel_laboral</th>\n",
       "      <th>nombre_area</th>\n",
       "      <th>denominacion_empresa</th>\n",
       "    </tr>\n",
       "  </thead>\n",
       "  <tbody>\n",
       "    <tr>\n",
       "      <th>13844</th>\n",
       "      <td>1112342204</td>\n",
       "      <td>1.0</td>\n",
       "      <td>Ejecutivo de Ventas - Prov. de Bs. As e Interi...</td>\n",
       "      <td>&lt;p&gt;Editorial Rubinzal Culzoni, líder en el ámb...</td>\n",
       "      <td>Gran Buenos Aires</td>\n",
       "      <td>NaN</td>\n",
       "      <td>NaN</td>\n",
       "      <td>Full-time</td>\n",
       "      <td>Senior / Semi-Senior</td>\n",
       "      <td>Ventas</td>\n",
       "      <td>Rubinzal Editorial</td>\n",
       "    </tr>\n",
       "    <tr>\n",
       "      <th>13845</th>\n",
       "      <td>1112341862</td>\n",
       "      <td>1.0</td>\n",
       "      <td>24 Feb - Chief Software Architect ($100K/yr) -...</td>\n",
       "      <td>&lt;p&gt;Para inscribirse en el torneo debe ingresar...</td>\n",
       "      <td>Gran Buenos Aires</td>\n",
       "      <td>NaN</td>\n",
       "      <td>NaN</td>\n",
       "      <td>Teletrabajo</td>\n",
       "      <td>Jefe / Supervisor / Responsable</td>\n",
       "      <td>Tecnologia / Sistemas</td>\n",
       "      <td>CrossOver</td>\n",
       "    </tr>\n",
       "    <tr>\n",
       "      <th>13846</th>\n",
       "      <td>1112341899</td>\n",
       "      <td>1.0</td>\n",
       "      <td>24 Feb - Customer Support Manager ($100K/yr) -...</td>\n",
       "      <td>&lt;p&gt;Para inscribirse en el torneo debe ingresar...</td>\n",
       "      <td>Gran Buenos Aires</td>\n",
       "      <td>NaN</td>\n",
       "      <td>NaN</td>\n",
       "      <td>Teletrabajo</td>\n",
       "      <td>Jefe / Supervisor / Responsable</td>\n",
       "      <td>Soporte Técnico</td>\n",
       "      <td>CrossOver</td>\n",
       "    </tr>\n",
       "    <tr>\n",
       "      <th>13847</th>\n",
       "      <td>1112341992</td>\n",
       "      <td>1.0</td>\n",
       "      <td>24 Feb - VP of Customer Support ($200K/yr) - O...</td>\n",
       "      <td>&lt;p&gt;Para inscribirse en el torneo debe ingresar...</td>\n",
       "      <td>Gran Buenos Aires</td>\n",
       "      <td>NaN</td>\n",
       "      <td>NaN</td>\n",
       "      <td>Teletrabajo</td>\n",
       "      <td>Jefe / Supervisor / Responsable</td>\n",
       "      <td>Atención al Cliente</td>\n",
       "      <td>CrossOver</td>\n",
       "    </tr>\n",
       "    <tr>\n",
       "      <th>13848</th>\n",
       "      <td>1112342193</td>\n",
       "      <td>1.0</td>\n",
       "      <td>Supervisor de Mantenimiento</td>\n",
       "      <td>&lt;p&gt;Nuestro cliente, un importante PYME dedicad...</td>\n",
       "      <td>Gran Buenos Aires</td>\n",
       "      <td>NaN</td>\n",
       "      <td>NaN</td>\n",
       "      <td>Full-time</td>\n",
       "      <td>Jefe / Supervisor / Responsable</td>\n",
       "      <td>Mantenimiento</td>\n",
       "      <td>VF CONSULTING</td>\n",
       "    </tr>\n",
       "  </tbody>\n",
       "</table>\n",
       "</div>"
      ],
      "text/plain": [
       "          idaviso  idpais                                             titulo  \\\n",
       "13844  1112342204     1.0  Ejecutivo de Ventas - Prov. de Bs. As e Interi...   \n",
       "13845  1112341862     1.0  24 Feb - Chief Software Architect ($100K/yr) -...   \n",
       "13846  1112341899     1.0  24 Feb - Customer Support Manager ($100K/yr) -...   \n",
       "13847  1112341992     1.0  24 Feb - VP of Customer Support ($200K/yr) - O...   \n",
       "13848  1112342193     1.0                        Supervisor de Mantenimiento   \n",
       "\n",
       "                                             descripcion        nombre_zona  \\\n",
       "13844  <p>Editorial Rubinzal Culzoni, líder en el ámb...  Gran Buenos Aires   \n",
       "13845  <p>Para inscribirse en el torneo debe ingresar...  Gran Buenos Aires   \n",
       "13846  <p>Para inscribirse en el torneo debe ingresar...  Gran Buenos Aires   \n",
       "13847  <p>Para inscribirse en el torneo debe ingresar...  Gran Buenos Aires   \n",
       "13848  <p>Nuestro cliente, un importante PYME dedicad...  Gran Buenos Aires   \n",
       "\n",
       "      ciudad mapacalle tipo_de_trabajo                    nivel_laboral  \\\n",
       "13844    NaN       NaN       Full-time             Senior / Semi-Senior   \n",
       "13845    NaN       NaN     Teletrabajo  Jefe / Supervisor / Responsable   \n",
       "13846    NaN       NaN     Teletrabajo  Jefe / Supervisor / Responsable   \n",
       "13847    NaN       NaN     Teletrabajo  Jefe / Supervisor / Responsable   \n",
       "13848    NaN       NaN       Full-time  Jefe / Supervisor / Responsable   \n",
       "\n",
       "                 nombre_area denominacion_empresa  \n",
       "13844                 Ventas   Rubinzal Editorial  \n",
       "13845  Tecnologia / Sistemas            CrossOver  \n",
       "13846        Soporte Técnico            CrossOver  \n",
       "13847    Atención al Cliente            CrossOver  \n",
       "13848          Mantenimiento        VF CONSULTING  "
      ]
     },
     "execution_count": 4,
     "metadata": {},
     "output_type": "execute_result"
    }
   ],
   "source": [
    "avisos = pd.merge(avisosOnline, avisosDetalle, on='idaviso', how='outer')\n",
    "avisos.tail()"
   ]
  },
  {
   "cell_type": "markdown",
   "metadata": {},
   "source": [
    "**VISUALIZACIONES**\n",
    "===================\n",
    "**_1. Hora con mayor y menor cantidad de vistas_**\n",
    "=====================================================\n",
    "* Verificacion de la calidad de datos"
   ]
  },
  {
   "cell_type": "code",
   "execution_count": 15,
   "metadata": {
    "collapsed": false
   },
   "outputs": [
    {
     "data": {
      "text/plain": [
       "idAviso          int64\n",
       "timestamp       object\n",
       "idpostulante    object\n",
       "dtype: object"
      ]
     },
     "execution_count": 15,
     "metadata": {},
     "output_type": "execute_result"
    }
   ],
   "source": [
    "vistas.dtypes"
   ]
  },
  {
   "cell_type": "code",
   "execution_count": 16,
   "metadata": {
    "collapsed": false
   },
   "outputs": [
    {
     "data": {
      "text/plain": [
       "2018-02-28T18:13:14.254-0500    3\n",
       "2018-02-27T10:14:18.766-0500    3\n",
       "2018-02-26T12:22:26.834-0500    3\n",
       "2018-02-24T09:49:12.766-0500    3\n",
       "2018-02-26T09:52:20.019-0500    3\n",
       "Name: timestamp, dtype: int64"
      ]
     },
     "execution_count": 16,
     "metadata": {},
     "output_type": "execute_result"
    }
   ],
   "source": [
    "vistas.timestamp.value_counts().head()"
   ]
  },
  {
   "cell_type": "code",
   "execution_count": 17,
   "metadata": {
    "collapsed": false
   },
   "outputs": [
    {
     "data": {
      "text/plain": [
       "idAviso         False\n",
       "timestamp       False\n",
       "idpostulante    False\n",
       "dtype: bool"
      ]
     },
     "execution_count": 17,
     "metadata": {},
     "output_type": "execute_result"
    }
   ],
   "source": [
    "vistas.isnull().any()"
   ]
  },
  {
   "cell_type": "markdown",
   "metadata": {},
   "source": [
    "* Se agregan la columnas dia, mes, año y hora"
   ]
  },
  {
   "cell_type": "code",
   "execution_count": 18,
   "metadata": {
    "collapsed": true
   },
   "outputs": [],
   "source": [
    "# Convertimos año, mes, dia de la semana y hora\n",
    "import calendar\n",
    "vistas['timestamp'] = pd.to_datetime(vistas['timestamp'])\n",
    "vistas['Anio'] = vistas['timestamp'].map(lambda x:x.year)\n",
    "vistas['Mes'] = vistas['timestamp'].map(lambda x:x.month)\n",
    "vistas['Dia'] = vistas['timestamp'].map(lambda x:x.weekday_name)\n",
    "vistas['Hora'] = pd.to_datetime(vistas['timestamp'], format='%H:%M',errors='coerce').dt.hour\n"
   ]
  },
  {
   "cell_type": "markdown",
   "metadata": {},
   "source": [
    "* Despreciamos el mes de 3, ya que la cantidad de vistas son muy chicas a comparacion a las del mes 2"
   ]
  },
  {
   "cell_type": "code",
   "execution_count": 19,
   "metadata": {
    "collapsed": false
   },
   "outputs": [
    {
     "data": {
      "text/plain": [
       "2    921074\n",
       "3     40823\n",
       "Name: Mes, dtype: int64"
      ]
     },
     "execution_count": 19,
     "metadata": {},
     "output_type": "execute_result"
    }
   ],
   "source": [
    "vistas.Mes.value_counts()"
   ]
  },
  {
   "cell_type": "code",
   "execution_count": 20,
   "metadata": {
    "collapsed": false
   },
   "outputs": [
    {
     "data": {
      "text/html": [
       "<div>\n",
       "<table border=\"1\" class=\"dataframe\">\n",
       "  <thead>\n",
       "    <tr style=\"text-align: right;\">\n",
       "      <th></th>\n",
       "      <th>idAviso</th>\n",
       "      <th>timestamp</th>\n",
       "      <th>idpostulante</th>\n",
       "      <th>Anio</th>\n",
       "      <th>Mes</th>\n",
       "      <th>Dia</th>\n",
       "      <th>Hora</th>\n",
       "    </tr>\n",
       "  </thead>\n",
       "  <tbody>\n",
       "    <tr>\n",
       "      <th>926019</th>\n",
       "      <td>1112352879</td>\n",
       "      <td>2018-02-28 23:59:43.373</td>\n",
       "      <td>vV9BGbE</td>\n",
       "      <td>2018</td>\n",
       "      <td>2</td>\n",
       "      <td>Wednesday</td>\n",
       "      <td>23</td>\n",
       "    </tr>\n",
       "    <tr>\n",
       "      <th>926020</th>\n",
       "      <td>1112303807</td>\n",
       "      <td>2018-02-28 23:59:46.717</td>\n",
       "      <td>ZD8QEXE</td>\n",
       "      <td>2018</td>\n",
       "      <td>2</td>\n",
       "      <td>Wednesday</td>\n",
       "      <td>23</td>\n",
       "    </tr>\n",
       "    <tr>\n",
       "      <th>926021</th>\n",
       "      <td>1112322670</td>\n",
       "      <td>2018-02-28 23:59:50.148</td>\n",
       "      <td>bOj3ojq</td>\n",
       "      <td>2018</td>\n",
       "      <td>2</td>\n",
       "      <td>Wednesday</td>\n",
       "      <td>23</td>\n",
       "    </tr>\n",
       "    <tr>\n",
       "      <th>926022</th>\n",
       "      <td>1112347283</td>\n",
       "      <td>2018-02-28 23:59:53.949</td>\n",
       "      <td>ZDNJzJE</td>\n",
       "      <td>2018</td>\n",
       "      <td>2</td>\n",
       "      <td>Wednesday</td>\n",
       "      <td>23</td>\n",
       "    </tr>\n",
       "    <tr>\n",
       "      <th>926023</th>\n",
       "      <td>1112316657</td>\n",
       "      <td>2018-02-28 23:59:59.935</td>\n",
       "      <td>owavZOL</td>\n",
       "      <td>2018</td>\n",
       "      <td>2</td>\n",
       "      <td>Wednesday</td>\n",
       "      <td>23</td>\n",
       "    </tr>\n",
       "  </tbody>\n",
       "</table>\n",
       "</div>"
      ],
      "text/plain": [
       "           idAviso               timestamp idpostulante  Anio  Mes        Dia  \\\n",
       "926019  1112352879 2018-02-28 23:59:43.373      vV9BGbE  2018    2  Wednesday   \n",
       "926020  1112303807 2018-02-28 23:59:46.717      ZD8QEXE  2018    2  Wednesday   \n",
       "926021  1112322670 2018-02-28 23:59:50.148      bOj3ojq  2018    2  Wednesday   \n",
       "926022  1112347283 2018-02-28 23:59:53.949      ZDNJzJE  2018    2  Wednesday   \n",
       "926023  1112316657 2018-02-28 23:59:59.935      owavZOL  2018    2  Wednesday   \n",
       "\n",
       "        Hora  \n",
       "926019    23  \n",
       "926020    23  \n",
       "926021    23  \n",
       "926022    23  \n",
       "926023    23  "
      ]
     },
     "execution_count": 20,
     "metadata": {},
     "output_type": "execute_result"
    }
   ],
   "source": [
    "vistasFebrero= vistas[vistas.Mes==2]\n",
    "vistasFebrero.tail()"
   ]
  },
  {
   "cell_type": "markdown",
   "metadata": {},
   "source": [
    "* Eliminamos las columnas con la que no vamos a trabajar"
   ]
  },
  {
   "cell_type": "code",
   "execution_count": 21,
   "metadata": {
    "collapsed": false
   },
   "outputs": [
    {
     "data": {
      "text/html": [
       "<div>\n",
       "<table border=\"1\" class=\"dataframe\">\n",
       "  <thead>\n",
       "    <tr style=\"text-align: right;\">\n",
       "      <th></th>\n",
       "      <th>idAviso</th>\n",
       "      <th>idpostulante</th>\n",
       "      <th>Anio</th>\n",
       "      <th>Mes</th>\n",
       "      <th>Dia</th>\n",
       "      <th>Hora</th>\n",
       "    </tr>\n",
       "  </thead>\n",
       "  <tbody>\n",
       "    <tr>\n",
       "      <th>926019</th>\n",
       "      <td>1112352879</td>\n",
       "      <td>vV9BGbE</td>\n",
       "      <td>2018</td>\n",
       "      <td>2</td>\n",
       "      <td>Wednesday</td>\n",
       "      <td>23</td>\n",
       "    </tr>\n",
       "    <tr>\n",
       "      <th>926020</th>\n",
       "      <td>1112303807</td>\n",
       "      <td>ZD8QEXE</td>\n",
       "      <td>2018</td>\n",
       "      <td>2</td>\n",
       "      <td>Wednesday</td>\n",
       "      <td>23</td>\n",
       "    </tr>\n",
       "    <tr>\n",
       "      <th>926021</th>\n",
       "      <td>1112322670</td>\n",
       "      <td>bOj3ojq</td>\n",
       "      <td>2018</td>\n",
       "      <td>2</td>\n",
       "      <td>Wednesday</td>\n",
       "      <td>23</td>\n",
       "    </tr>\n",
       "    <tr>\n",
       "      <th>926022</th>\n",
       "      <td>1112347283</td>\n",
       "      <td>ZDNJzJE</td>\n",
       "      <td>2018</td>\n",
       "      <td>2</td>\n",
       "      <td>Wednesday</td>\n",
       "      <td>23</td>\n",
       "    </tr>\n",
       "    <tr>\n",
       "      <th>926023</th>\n",
       "      <td>1112316657</td>\n",
       "      <td>owavZOL</td>\n",
       "      <td>2018</td>\n",
       "      <td>2</td>\n",
       "      <td>Wednesday</td>\n",
       "      <td>23</td>\n",
       "    </tr>\n",
       "  </tbody>\n",
       "</table>\n",
       "</div>"
      ],
      "text/plain": [
       "           idAviso idpostulante  Anio  Mes        Dia  Hora\n",
       "926019  1112352879      vV9BGbE  2018    2  Wednesday    23\n",
       "926020  1112303807      ZD8QEXE  2018    2  Wednesday    23\n",
       "926021  1112322670      bOj3ojq  2018    2  Wednesday    23\n",
       "926022  1112347283      ZDNJzJE  2018    2  Wednesday    23\n",
       "926023  1112316657      owavZOL  2018    2  Wednesday    23"
      ]
     },
     "execution_count": 21,
     "metadata": {},
     "output_type": "execute_result"
    }
   ],
   "source": [
    "vistasFebrero.drop([\"timestamp\"],axis=1,inplace=True)\n",
    "vistasFebrero.tail()"
   ]
  },
  {
   "cell_type": "code",
   "execution_count": 22,
   "metadata": {
    "collapsed": false
   },
   "outputs": [
    {
     "data": {
      "text/plain": [
       "idAviso         False\n",
       "idpostulante    False\n",
       "Anio            False\n",
       "Mes             False\n",
       "Dia             False\n",
       "Hora            False\n",
       "dtype: bool"
      ]
     },
     "execution_count": 22,
     "metadata": {},
     "output_type": "execute_result"
    }
   ],
   "source": [
    "vistasFebrero.isnull().any()"
   ]
  },
  {
   "cell_type": "code",
   "execution_count": 23,
   "metadata": {
    "collapsed": false
   },
   "outputs": [
    {
     "data": {
      "text/plain": [
       "Hora\n",
       "14    66168\n",
       "15    63737\n",
       "13    60972\n",
       "19    59214\n",
       "20    58042\n",
       "Name: (idAviso, count), dtype: int64"
      ]
     },
     "execution_count": 23,
     "metadata": {},
     "output_type": "execute_result"
    }
   ],
   "source": [
    "vistasFebreroPorHora=vistasFebrero\n",
    "\n",
    "grouped = vistasFebreroPorHora.loc[:,['Hora','idAviso']].groupby('Hora').agg(['count'])\n",
    "top_vistas = grouped[('idAviso','count')].sort_values(ascending=False)\n",
    "top_vistas.head()"
   ]
  },
  {
   "cell_type": "code",
   "execution_count": 140,
   "metadata": {
    "collapsed": false
   },
   "outputs": [
    {
     "data": {
      "text/plain": [
       "Text(0.5,0,'Horas')"
      ]
     },
     "execution_count": 140,
     "metadata": {},
     "output_type": "execute_result"
    },
    {
     "name": "stdout",
     "output_type": "stream",
     "text": [
      "Error in callback <function post_execute at 0x7feb8a966938> (for post_execute):\n"
     ]
    },
    {
     "ename": "ValueError",
     "evalue": "matplotlib display text must have all code points < 128 or use Unicode strings",
     "output_type": "error",
     "traceback": [
      "\u001b[0;31m---------------------------------------------------------------------------\u001b[0m",
      "\u001b[0;31mValueError\u001b[0m                                Traceback (most recent call last)",
      "\u001b[0;32m/home/gonzalo/Datos/local/lib/python2.7/site-packages/matplotlib/pyplot.pyc\u001b[0m in \u001b[0;36mpost_execute\u001b[0;34m()\u001b[0m\n\u001b[1;32m    147\u001b[0m             \u001b[0;32mdef\u001b[0m \u001b[0mpost_execute\u001b[0m\u001b[0;34m(\u001b[0m\u001b[0;34m)\u001b[0m\u001b[0;34m:\u001b[0m\u001b[0;34m\u001b[0m\u001b[0m\n\u001b[1;32m    148\u001b[0m                 \u001b[0;32mif\u001b[0m \u001b[0mmatplotlib\u001b[0m\u001b[0;34m.\u001b[0m\u001b[0mis_interactive\u001b[0m\u001b[0;34m(\u001b[0m\u001b[0;34m)\u001b[0m\u001b[0;34m:\u001b[0m\u001b[0;34m\u001b[0m\u001b[0m\n\u001b[0;32m--> 149\u001b[0;31m                     \u001b[0mdraw_all\u001b[0m\u001b[0;34m(\u001b[0m\u001b[0;34m)\u001b[0m\u001b[0;34m\u001b[0m\u001b[0m\n\u001b[0m\u001b[1;32m    150\u001b[0m \u001b[0;34m\u001b[0m\u001b[0m\n\u001b[1;32m    151\u001b[0m             \u001b[0;31m# IPython >= 2\u001b[0m\u001b[0;34m\u001b[0m\u001b[0;34m\u001b[0m\u001b[0m\n",
      "\u001b[0;32m/home/gonzalo/Datos/local/lib/python2.7/site-packages/matplotlib/_pylab_helpers.pyc\u001b[0m in \u001b[0;36mdraw_all\u001b[0;34m(cls, force)\u001b[0m\n\u001b[1;32m    134\u001b[0m         \u001b[0;32mfor\u001b[0m \u001b[0mf_mgr\u001b[0m \u001b[0;32min\u001b[0m \u001b[0mcls\u001b[0m\u001b[0;34m.\u001b[0m\u001b[0mget_all_fig_managers\u001b[0m\u001b[0;34m(\u001b[0m\u001b[0;34m)\u001b[0m\u001b[0;34m:\u001b[0m\u001b[0;34m\u001b[0m\u001b[0m\n\u001b[1;32m    135\u001b[0m             \u001b[0;32mif\u001b[0m \u001b[0mforce\u001b[0m \u001b[0;32mor\u001b[0m \u001b[0mf_mgr\u001b[0m\u001b[0;34m.\u001b[0m\u001b[0mcanvas\u001b[0m\u001b[0;34m.\u001b[0m\u001b[0mfigure\u001b[0m\u001b[0;34m.\u001b[0m\u001b[0mstale\u001b[0m\u001b[0;34m:\u001b[0m\u001b[0;34m\u001b[0m\u001b[0m\n\u001b[0;32m--> 136\u001b[0;31m                 \u001b[0mf_mgr\u001b[0m\u001b[0;34m.\u001b[0m\u001b[0mcanvas\u001b[0m\u001b[0;34m.\u001b[0m\u001b[0mdraw_idle\u001b[0m\u001b[0;34m(\u001b[0m\u001b[0;34m)\u001b[0m\u001b[0;34m\u001b[0m\u001b[0m\n\u001b[0m\u001b[1;32m    137\u001b[0m \u001b[0;34m\u001b[0m\u001b[0m\n\u001b[1;32m    138\u001b[0m \u001b[0matexit\u001b[0m\u001b[0;34m.\u001b[0m\u001b[0mregister\u001b[0m\u001b[0;34m(\u001b[0m\u001b[0mGcf\u001b[0m\u001b[0;34m.\u001b[0m\u001b[0mdestroy_all\u001b[0m\u001b[0;34m)\u001b[0m\u001b[0;34m\u001b[0m\u001b[0m\n",
      "\u001b[0;32m/home/gonzalo/Datos/local/lib/python2.7/site-packages/matplotlib/backend_bases.pyc\u001b[0m in \u001b[0;36mdraw_idle\u001b[0;34m(self, *args, **kwargs)\u001b[0m\n\u001b[1;32m   2053\u001b[0m         \u001b[0;32mif\u001b[0m \u001b[0;32mnot\u001b[0m \u001b[0mself\u001b[0m\u001b[0;34m.\u001b[0m\u001b[0m_is_idle_drawing\u001b[0m\u001b[0;34m:\u001b[0m\u001b[0;34m\u001b[0m\u001b[0m\n\u001b[1;32m   2054\u001b[0m             \u001b[0;32mwith\u001b[0m \u001b[0mself\u001b[0m\u001b[0;34m.\u001b[0m\u001b[0m_idle_draw_cntx\u001b[0m\u001b[0;34m(\u001b[0m\u001b[0;34m)\u001b[0m\u001b[0;34m:\u001b[0m\u001b[0;34m\u001b[0m\u001b[0m\n\u001b[0;32m-> 2055\u001b[0;31m                 \u001b[0mself\u001b[0m\u001b[0;34m.\u001b[0m\u001b[0mdraw\u001b[0m\u001b[0;34m(\u001b[0m\u001b[0;34m*\u001b[0m\u001b[0margs\u001b[0m\u001b[0;34m,\u001b[0m \u001b[0;34m**\u001b[0m\u001b[0mkwargs\u001b[0m\u001b[0;34m)\u001b[0m\u001b[0;34m\u001b[0m\u001b[0m\n\u001b[0m\u001b[1;32m   2056\u001b[0m \u001b[0;34m\u001b[0m\u001b[0m\n\u001b[1;32m   2057\u001b[0m     \u001b[0;32mdef\u001b[0m \u001b[0mdraw_cursor\u001b[0m\u001b[0;34m(\u001b[0m\u001b[0mself\u001b[0m\u001b[0;34m,\u001b[0m \u001b[0mevent\u001b[0m\u001b[0;34m)\u001b[0m\u001b[0;34m:\u001b[0m\u001b[0;34m\u001b[0m\u001b[0m\n",
      "\u001b[0;32m/home/gonzalo/Datos/local/lib/python2.7/site-packages/matplotlib/backends/backend_agg.pyc\u001b[0m in \u001b[0;36mdraw\u001b[0;34m(self)\u001b[0m\n\u001b[1;32m    431\u001b[0m             \u001b[0;31m# if toolbar:\u001b[0m\u001b[0;34m\u001b[0m\u001b[0;34m\u001b[0m\u001b[0m\n\u001b[1;32m    432\u001b[0m             \u001b[0;31m#     toolbar.set_cursor(cursors.WAIT)\u001b[0m\u001b[0;34m\u001b[0m\u001b[0;34m\u001b[0m\u001b[0m\n\u001b[0;32m--> 433\u001b[0;31m             \u001b[0mself\u001b[0m\u001b[0;34m.\u001b[0m\u001b[0mfigure\u001b[0m\u001b[0;34m.\u001b[0m\u001b[0mdraw\u001b[0m\u001b[0;34m(\u001b[0m\u001b[0mself\u001b[0m\u001b[0;34m.\u001b[0m\u001b[0mrenderer\u001b[0m\u001b[0;34m)\u001b[0m\u001b[0;34m\u001b[0m\u001b[0m\n\u001b[0m\u001b[1;32m    434\u001b[0m             \u001b[0;31m# A GUI class may be need to update a window using this draw, so\u001b[0m\u001b[0;34m\u001b[0m\u001b[0;34m\u001b[0m\u001b[0m\n\u001b[1;32m    435\u001b[0m             \u001b[0;31m# don't forget to call the superclass.\u001b[0m\u001b[0;34m\u001b[0m\u001b[0;34m\u001b[0m\u001b[0m\n",
      "\u001b[0;32m/home/gonzalo/Datos/local/lib/python2.7/site-packages/matplotlib/artist.pyc\u001b[0m in \u001b[0;36mdraw_wrapper\u001b[0;34m(artist, renderer, *args, **kwargs)\u001b[0m\n\u001b[1;32m     53\u001b[0m                 \u001b[0mrenderer\u001b[0m\u001b[0;34m.\u001b[0m\u001b[0mstart_filter\u001b[0m\u001b[0;34m(\u001b[0m\u001b[0;34m)\u001b[0m\u001b[0;34m\u001b[0m\u001b[0m\n\u001b[1;32m     54\u001b[0m \u001b[0;34m\u001b[0m\u001b[0m\n\u001b[0;32m---> 55\u001b[0;31m             \u001b[0;32mreturn\u001b[0m \u001b[0mdraw\u001b[0m\u001b[0;34m(\u001b[0m\u001b[0martist\u001b[0m\u001b[0;34m,\u001b[0m \u001b[0mrenderer\u001b[0m\u001b[0;34m,\u001b[0m \u001b[0;34m*\u001b[0m\u001b[0margs\u001b[0m\u001b[0;34m,\u001b[0m \u001b[0;34m**\u001b[0m\u001b[0mkwargs\u001b[0m\u001b[0;34m)\u001b[0m\u001b[0;34m\u001b[0m\u001b[0m\n\u001b[0m\u001b[1;32m     56\u001b[0m         \u001b[0;32mfinally\u001b[0m\u001b[0;34m:\u001b[0m\u001b[0;34m\u001b[0m\u001b[0m\n\u001b[1;32m     57\u001b[0m             \u001b[0;32mif\u001b[0m \u001b[0martist\u001b[0m\u001b[0;34m.\u001b[0m\u001b[0mget_agg_filter\u001b[0m\u001b[0;34m(\u001b[0m\u001b[0;34m)\u001b[0m \u001b[0;32mis\u001b[0m \u001b[0;32mnot\u001b[0m \u001b[0mNone\u001b[0m\u001b[0;34m:\u001b[0m\u001b[0;34m\u001b[0m\u001b[0m\n",
      "\u001b[0;32m/home/gonzalo/Datos/local/lib/python2.7/site-packages/matplotlib/figure.pyc\u001b[0m in \u001b[0;36mdraw\u001b[0;34m(self, renderer)\u001b[0m\n\u001b[1;32m   1473\u001b[0m \u001b[0;34m\u001b[0m\u001b[0m\n\u001b[1;32m   1474\u001b[0m             mimage._draw_list_compositing_images(\n\u001b[0;32m-> 1475\u001b[0;31m                 renderer, self, artists, self.suppressComposite)\n\u001b[0m\u001b[1;32m   1476\u001b[0m \u001b[0;34m\u001b[0m\u001b[0m\n\u001b[1;32m   1477\u001b[0m             \u001b[0mrenderer\u001b[0m\u001b[0;34m.\u001b[0m\u001b[0mclose_group\u001b[0m\u001b[0;34m(\u001b[0m\u001b[0;34m'figure'\u001b[0m\u001b[0;34m)\u001b[0m\u001b[0;34m\u001b[0m\u001b[0m\n",
      "\u001b[0;32m/home/gonzalo/Datos/local/lib/python2.7/site-packages/matplotlib/image.pyc\u001b[0m in \u001b[0;36m_draw_list_compositing_images\u001b[0;34m(renderer, parent, artists, suppress_composite)\u001b[0m\n\u001b[1;32m    139\u001b[0m     \u001b[0;32mif\u001b[0m \u001b[0mnot_composite\u001b[0m \u001b[0;32mor\u001b[0m \u001b[0;32mnot\u001b[0m \u001b[0mhas_images\u001b[0m\u001b[0;34m:\u001b[0m\u001b[0;34m\u001b[0m\u001b[0m\n\u001b[1;32m    140\u001b[0m         \u001b[0;32mfor\u001b[0m \u001b[0ma\u001b[0m \u001b[0;32min\u001b[0m \u001b[0martists\u001b[0m\u001b[0;34m:\u001b[0m\u001b[0;34m\u001b[0m\u001b[0m\n\u001b[0;32m--> 141\u001b[0;31m             \u001b[0ma\u001b[0m\u001b[0;34m.\u001b[0m\u001b[0mdraw\u001b[0m\u001b[0;34m(\u001b[0m\u001b[0mrenderer\u001b[0m\u001b[0;34m)\u001b[0m\u001b[0;34m\u001b[0m\u001b[0m\n\u001b[0m\u001b[1;32m    142\u001b[0m     \u001b[0;32melse\u001b[0m\u001b[0;34m:\u001b[0m\u001b[0;34m\u001b[0m\u001b[0m\n\u001b[1;32m    143\u001b[0m         \u001b[0;31m# Composite any adjacent images together\u001b[0m\u001b[0;34m\u001b[0m\u001b[0;34m\u001b[0m\u001b[0m\n",
      "\u001b[0;32m/home/gonzalo/Datos/local/lib/python2.7/site-packages/matplotlib/artist.pyc\u001b[0m in \u001b[0;36mdraw_wrapper\u001b[0;34m(artist, renderer, *args, **kwargs)\u001b[0m\n\u001b[1;32m     53\u001b[0m                 \u001b[0mrenderer\u001b[0m\u001b[0;34m.\u001b[0m\u001b[0mstart_filter\u001b[0m\u001b[0;34m(\u001b[0m\u001b[0;34m)\u001b[0m\u001b[0;34m\u001b[0m\u001b[0m\n\u001b[1;32m     54\u001b[0m \u001b[0;34m\u001b[0m\u001b[0m\n\u001b[0;32m---> 55\u001b[0;31m             \u001b[0;32mreturn\u001b[0m \u001b[0mdraw\u001b[0m\u001b[0;34m(\u001b[0m\u001b[0martist\u001b[0m\u001b[0;34m,\u001b[0m \u001b[0mrenderer\u001b[0m\u001b[0;34m,\u001b[0m \u001b[0;34m*\u001b[0m\u001b[0margs\u001b[0m\u001b[0;34m,\u001b[0m \u001b[0;34m**\u001b[0m\u001b[0mkwargs\u001b[0m\u001b[0;34m)\u001b[0m\u001b[0;34m\u001b[0m\u001b[0m\n\u001b[0m\u001b[1;32m     56\u001b[0m         \u001b[0;32mfinally\u001b[0m\u001b[0;34m:\u001b[0m\u001b[0;34m\u001b[0m\u001b[0m\n\u001b[1;32m     57\u001b[0m             \u001b[0;32mif\u001b[0m \u001b[0martist\u001b[0m\u001b[0;34m.\u001b[0m\u001b[0mget_agg_filter\u001b[0m\u001b[0;34m(\u001b[0m\u001b[0;34m)\u001b[0m \u001b[0;32mis\u001b[0m \u001b[0;32mnot\u001b[0m \u001b[0mNone\u001b[0m\u001b[0;34m:\u001b[0m\u001b[0;34m\u001b[0m\u001b[0m\n",
      "\u001b[0;32m/home/gonzalo/Datos/local/lib/python2.7/site-packages/matplotlib/axes/_base.pyc\u001b[0m in \u001b[0;36mdraw\u001b[0;34m(self, renderer, inframe)\u001b[0m\n\u001b[1;32m   2605\u001b[0m             \u001b[0mrenderer\u001b[0m\u001b[0;34m.\u001b[0m\u001b[0mstop_rasterizing\u001b[0m\u001b[0;34m(\u001b[0m\u001b[0;34m)\u001b[0m\u001b[0;34m\u001b[0m\u001b[0m\n\u001b[1;32m   2606\u001b[0m \u001b[0;34m\u001b[0m\u001b[0m\n\u001b[0;32m-> 2607\u001b[0;31m         \u001b[0mmimage\u001b[0m\u001b[0;34m.\u001b[0m\u001b[0m_draw_list_compositing_images\u001b[0m\u001b[0;34m(\u001b[0m\u001b[0mrenderer\u001b[0m\u001b[0;34m,\u001b[0m \u001b[0mself\u001b[0m\u001b[0;34m,\u001b[0m \u001b[0martists\u001b[0m\u001b[0;34m)\u001b[0m\u001b[0;34m\u001b[0m\u001b[0m\n\u001b[0m\u001b[1;32m   2608\u001b[0m \u001b[0;34m\u001b[0m\u001b[0m\n\u001b[1;32m   2609\u001b[0m         \u001b[0mrenderer\u001b[0m\u001b[0;34m.\u001b[0m\u001b[0mclose_group\u001b[0m\u001b[0;34m(\u001b[0m\u001b[0;34m'axes'\u001b[0m\u001b[0;34m)\u001b[0m\u001b[0;34m\u001b[0m\u001b[0m\n",
      "\u001b[0;32m/home/gonzalo/Datos/local/lib/python2.7/site-packages/matplotlib/image.pyc\u001b[0m in \u001b[0;36m_draw_list_compositing_images\u001b[0;34m(renderer, parent, artists, suppress_composite)\u001b[0m\n\u001b[1;32m    139\u001b[0m     \u001b[0;32mif\u001b[0m \u001b[0mnot_composite\u001b[0m \u001b[0;32mor\u001b[0m \u001b[0;32mnot\u001b[0m \u001b[0mhas_images\u001b[0m\u001b[0;34m:\u001b[0m\u001b[0;34m\u001b[0m\u001b[0m\n\u001b[1;32m    140\u001b[0m         \u001b[0;32mfor\u001b[0m \u001b[0ma\u001b[0m \u001b[0;32min\u001b[0m \u001b[0martists\u001b[0m\u001b[0;34m:\u001b[0m\u001b[0;34m\u001b[0m\u001b[0m\n\u001b[0;32m--> 141\u001b[0;31m             \u001b[0ma\u001b[0m\u001b[0;34m.\u001b[0m\u001b[0mdraw\u001b[0m\u001b[0;34m(\u001b[0m\u001b[0mrenderer\u001b[0m\u001b[0;34m)\u001b[0m\u001b[0;34m\u001b[0m\u001b[0m\n\u001b[0m\u001b[1;32m    142\u001b[0m     \u001b[0;32melse\u001b[0m\u001b[0;34m:\u001b[0m\u001b[0;34m\u001b[0m\u001b[0m\n\u001b[1;32m    143\u001b[0m         \u001b[0;31m# Composite any adjacent images together\u001b[0m\u001b[0;34m\u001b[0m\u001b[0;34m\u001b[0m\u001b[0m\n",
      "\u001b[0;32m/home/gonzalo/Datos/local/lib/python2.7/site-packages/matplotlib/artist.pyc\u001b[0m in \u001b[0;36mdraw_wrapper\u001b[0;34m(artist, renderer, *args, **kwargs)\u001b[0m\n\u001b[1;32m     53\u001b[0m                 \u001b[0mrenderer\u001b[0m\u001b[0;34m.\u001b[0m\u001b[0mstart_filter\u001b[0m\u001b[0;34m(\u001b[0m\u001b[0;34m)\u001b[0m\u001b[0;34m\u001b[0m\u001b[0m\n\u001b[1;32m     54\u001b[0m \u001b[0;34m\u001b[0m\u001b[0m\n\u001b[0;32m---> 55\u001b[0;31m             \u001b[0;32mreturn\u001b[0m \u001b[0mdraw\u001b[0m\u001b[0;34m(\u001b[0m\u001b[0martist\u001b[0m\u001b[0;34m,\u001b[0m \u001b[0mrenderer\u001b[0m\u001b[0;34m,\u001b[0m \u001b[0;34m*\u001b[0m\u001b[0margs\u001b[0m\u001b[0;34m,\u001b[0m \u001b[0;34m**\u001b[0m\u001b[0mkwargs\u001b[0m\u001b[0;34m)\u001b[0m\u001b[0;34m\u001b[0m\u001b[0m\n\u001b[0m\u001b[1;32m     56\u001b[0m         \u001b[0;32mfinally\u001b[0m\u001b[0;34m:\u001b[0m\u001b[0;34m\u001b[0m\u001b[0m\n\u001b[1;32m     57\u001b[0m             \u001b[0;32mif\u001b[0m \u001b[0martist\u001b[0m\u001b[0;34m.\u001b[0m\u001b[0mget_agg_filter\u001b[0m\u001b[0;34m(\u001b[0m\u001b[0;34m)\u001b[0m \u001b[0;32mis\u001b[0m \u001b[0;32mnot\u001b[0m \u001b[0mNone\u001b[0m\u001b[0;34m:\u001b[0m\u001b[0;34m\u001b[0m\u001b[0m\n",
      "\u001b[0;32m/home/gonzalo/Datos/local/lib/python2.7/site-packages/matplotlib/text.pyc\u001b[0m in \u001b[0;36mdraw\u001b[0;34m(self, renderer)\u001b[0m\n\u001b[1;32m    704\u001b[0m \u001b[0;34m\u001b[0m\u001b[0m\n\u001b[1;32m    705\u001b[0m         \u001b[0;32mwith\u001b[0m \u001b[0m_wrap_text\u001b[0m\u001b[0;34m(\u001b[0m\u001b[0mself\u001b[0m\u001b[0;34m)\u001b[0m \u001b[0;32mas\u001b[0m \u001b[0mtextobj\u001b[0m\u001b[0;34m:\u001b[0m\u001b[0;34m\u001b[0m\u001b[0m\n\u001b[0;32m--> 706\u001b[0;31m             \u001b[0mbbox\u001b[0m\u001b[0;34m,\u001b[0m \u001b[0minfo\u001b[0m\u001b[0;34m,\u001b[0m \u001b[0mdescent\u001b[0m \u001b[0;34m=\u001b[0m \u001b[0mtextobj\u001b[0m\u001b[0;34m.\u001b[0m\u001b[0m_get_layout\u001b[0m\u001b[0;34m(\u001b[0m\u001b[0mrenderer\u001b[0m\u001b[0;34m)\u001b[0m\u001b[0;34m\u001b[0m\u001b[0m\n\u001b[0m\u001b[1;32m    707\u001b[0m             \u001b[0mtrans\u001b[0m \u001b[0;34m=\u001b[0m \u001b[0mtextobj\u001b[0m\u001b[0;34m.\u001b[0m\u001b[0mget_transform\u001b[0m\u001b[0;34m(\u001b[0m\u001b[0;34m)\u001b[0m\u001b[0;34m\u001b[0m\u001b[0m\n\u001b[1;32m    708\u001b[0m \u001b[0;34m\u001b[0m\u001b[0m\n",
      "\u001b[0;32m/home/gonzalo/Datos/local/lib/python2.7/site-packages/matplotlib/text.pyc\u001b[0m in \u001b[0;36m_get_layout\u001b[0;34m(self, renderer)\u001b[0m\n\u001b[1;32m    303\u001b[0m         \u001b[0mbaseline\u001b[0m \u001b[0;34m=\u001b[0m \u001b[0;36m0\u001b[0m\u001b[0;34m\u001b[0m\u001b[0m\n\u001b[1;32m    304\u001b[0m         \u001b[0;32mfor\u001b[0m \u001b[0mi\u001b[0m\u001b[0;34m,\u001b[0m \u001b[0mline\u001b[0m \u001b[0;32min\u001b[0m \u001b[0menumerate\u001b[0m\u001b[0;34m(\u001b[0m\u001b[0mlines\u001b[0m\u001b[0;34m)\u001b[0m\u001b[0;34m:\u001b[0m\u001b[0;34m\u001b[0m\u001b[0m\n\u001b[0;32m--> 305\u001b[0;31m             \u001b[0mclean_line\u001b[0m\u001b[0;34m,\u001b[0m \u001b[0mismath\u001b[0m \u001b[0;34m=\u001b[0m \u001b[0mself\u001b[0m\u001b[0;34m.\u001b[0m\u001b[0mis_math_text\u001b[0m\u001b[0;34m(\u001b[0m\u001b[0mline\u001b[0m\u001b[0;34m,\u001b[0m \u001b[0mself\u001b[0m\u001b[0;34m.\u001b[0m\u001b[0mget_usetex\u001b[0m\u001b[0;34m(\u001b[0m\u001b[0;34m)\u001b[0m\u001b[0;34m)\u001b[0m\u001b[0;34m\u001b[0m\u001b[0m\n\u001b[0m\u001b[1;32m    306\u001b[0m             \u001b[0;32mif\u001b[0m \u001b[0mclean_line\u001b[0m\u001b[0;34m:\u001b[0m\u001b[0;34m\u001b[0m\u001b[0m\n\u001b[1;32m    307\u001b[0m                 w, h, d = renderer.get_text_width_height_descent(clean_line,\n",
      "\u001b[0;32m/home/gonzalo/Datos/local/lib/python2.7/site-packages/matplotlib/text.pyc\u001b[0m in \u001b[0;36mis_math_text\u001b[0;34m(s, usetex)\u001b[0m\n\u001b[1;32m   1186\u001b[0m             \u001b[0;32mreturn\u001b[0m \u001b[0ms\u001b[0m\u001b[0;34m,\u001b[0m \u001b[0;34m'TeX'\u001b[0m\u001b[0;34m\u001b[0m\u001b[0m\n\u001b[1;32m   1187\u001b[0m \u001b[0;34m\u001b[0m\u001b[0m\n\u001b[0;32m-> 1188\u001b[0;31m         \u001b[0;32mif\u001b[0m \u001b[0mcbook\u001b[0m\u001b[0;34m.\u001b[0m\u001b[0mis_math_text\u001b[0m\u001b[0;34m(\u001b[0m\u001b[0ms\u001b[0m\u001b[0;34m)\u001b[0m\u001b[0;34m:\u001b[0m\u001b[0;34m\u001b[0m\u001b[0m\n\u001b[0m\u001b[1;32m   1189\u001b[0m             \u001b[0;32mreturn\u001b[0m \u001b[0ms\u001b[0m\u001b[0;34m,\u001b[0m \u001b[0mTrue\u001b[0m\u001b[0;34m\u001b[0m\u001b[0m\n\u001b[1;32m   1190\u001b[0m         \u001b[0;32melse\u001b[0m\u001b[0;34m:\u001b[0m\u001b[0;34m\u001b[0m\u001b[0m\n",
      "\u001b[0;32m/home/gonzalo/Datos/local/lib/python2.7/site-packages/matplotlib/cbook/__init__.pyc\u001b[0m in \u001b[0;36mis_math_text\u001b[0;34m(s)\u001b[0m\n\u001b[1;32m   2031\u001b[0m     \u001b[0;32mexcept\u001b[0m \u001b[0mUnicodeDecodeError\u001b[0m\u001b[0;34m:\u001b[0m\u001b[0;34m\u001b[0m\u001b[0m\n\u001b[1;32m   2032\u001b[0m         raise ValueError(\n\u001b[0;32m-> 2033\u001b[0;31m             \u001b[0;34m\"matplotlib display text must have all code points < 128 or use \"\u001b[0m\u001b[0;34m\u001b[0m\u001b[0m\n\u001b[0m\u001b[1;32m   2034\u001b[0m             \"Unicode strings\")\n\u001b[1;32m   2035\u001b[0m \u001b[0;34m\u001b[0m\u001b[0m\n",
      "\u001b[0;31mValueError\u001b[0m: matplotlib display text must have all code points < 128 or use Unicode strings"
     ]
    },
    {
     "ename": "ValueError",
     "evalue": "matplotlib display text must have all code points < 128 or use Unicode strings",
     "output_type": "error",
     "traceback": [
      "\u001b[0;31m---------------------------------------------------------------------------\u001b[0m",
      "\u001b[0;31mValueError\u001b[0m                                Traceback (most recent call last)",
      "\u001b[0;32m/home/gonzalo/Datos/local/lib/python2.7/site-packages/IPython/core/formatters.pyc\u001b[0m in \u001b[0;36m__call__\u001b[0;34m(self, obj)\u001b[0m\n\u001b[1;32m    332\u001b[0m                 \u001b[0;32mpass\u001b[0m\u001b[0;34m\u001b[0m\u001b[0m\n\u001b[1;32m    333\u001b[0m             \u001b[0;32melse\u001b[0m\u001b[0;34m:\u001b[0m\u001b[0;34m\u001b[0m\u001b[0m\n\u001b[0;32m--> 334\u001b[0;31m                 \u001b[0;32mreturn\u001b[0m \u001b[0mprinter\u001b[0m\u001b[0;34m(\u001b[0m\u001b[0mobj\u001b[0m\u001b[0;34m)\u001b[0m\u001b[0;34m\u001b[0m\u001b[0m\n\u001b[0m\u001b[1;32m    335\u001b[0m             \u001b[0;31m# Finally look for special method names\u001b[0m\u001b[0;34m\u001b[0m\u001b[0;34m\u001b[0m\u001b[0m\n\u001b[1;32m    336\u001b[0m             \u001b[0mmethod\u001b[0m \u001b[0;34m=\u001b[0m \u001b[0mget_real_method\u001b[0m\u001b[0;34m(\u001b[0m\u001b[0mobj\u001b[0m\u001b[0;34m,\u001b[0m \u001b[0mself\u001b[0m\u001b[0;34m.\u001b[0m\u001b[0mprint_method\u001b[0m\u001b[0;34m)\u001b[0m\u001b[0;34m\u001b[0m\u001b[0m\n",
      "\u001b[0;32m/home/gonzalo/Datos/local/lib/python2.7/site-packages/IPython/core/pylabtools.pyc\u001b[0m in \u001b[0;36m<lambda>\u001b[0;34m(fig)\u001b[0m\n\u001b[1;32m    239\u001b[0m \u001b[0;34m\u001b[0m\u001b[0m\n\u001b[1;32m    240\u001b[0m     \u001b[0;32mif\u001b[0m \u001b[0;34m'png'\u001b[0m \u001b[0;32min\u001b[0m \u001b[0mformats\u001b[0m\u001b[0;34m:\u001b[0m\u001b[0;34m\u001b[0m\u001b[0m\n\u001b[0;32m--> 241\u001b[0;31m         \u001b[0mpng_formatter\u001b[0m\u001b[0;34m.\u001b[0m\u001b[0mfor_type\u001b[0m\u001b[0;34m(\u001b[0m\u001b[0mFigure\u001b[0m\u001b[0;34m,\u001b[0m \u001b[0;32mlambda\u001b[0m \u001b[0mfig\u001b[0m\u001b[0;34m:\u001b[0m \u001b[0mprint_figure\u001b[0m\u001b[0;34m(\u001b[0m\u001b[0mfig\u001b[0m\u001b[0;34m,\u001b[0m \u001b[0;34m'png'\u001b[0m\u001b[0;34m,\u001b[0m \u001b[0;34m**\u001b[0m\u001b[0mkwargs\u001b[0m\u001b[0;34m)\u001b[0m\u001b[0;34m)\u001b[0m\u001b[0;34m\u001b[0m\u001b[0m\n\u001b[0m\u001b[1;32m    242\u001b[0m     \u001b[0;32mif\u001b[0m \u001b[0;34m'retina'\u001b[0m \u001b[0;32min\u001b[0m \u001b[0mformats\u001b[0m \u001b[0;32mor\u001b[0m \u001b[0;34m'png2x'\u001b[0m \u001b[0;32min\u001b[0m \u001b[0mformats\u001b[0m\u001b[0;34m:\u001b[0m\u001b[0;34m\u001b[0m\u001b[0m\n\u001b[1;32m    243\u001b[0m         \u001b[0mpng_formatter\u001b[0m\u001b[0;34m.\u001b[0m\u001b[0mfor_type\u001b[0m\u001b[0;34m(\u001b[0m\u001b[0mFigure\u001b[0m\u001b[0;34m,\u001b[0m \u001b[0;32mlambda\u001b[0m \u001b[0mfig\u001b[0m\u001b[0;34m:\u001b[0m \u001b[0mretina_figure\u001b[0m\u001b[0;34m(\u001b[0m\u001b[0mfig\u001b[0m\u001b[0;34m,\u001b[0m \u001b[0;34m**\u001b[0m\u001b[0mkwargs\u001b[0m\u001b[0;34m)\u001b[0m\u001b[0;34m)\u001b[0m\u001b[0;34m\u001b[0m\u001b[0m\n",
      "\u001b[0;32m/home/gonzalo/Datos/local/lib/python2.7/site-packages/IPython/core/pylabtools.pyc\u001b[0m in \u001b[0;36mprint_figure\u001b[0;34m(fig, fmt, bbox_inches, **kwargs)\u001b[0m\n\u001b[1;32m    123\u001b[0m \u001b[0;34m\u001b[0m\u001b[0m\n\u001b[1;32m    124\u001b[0m     \u001b[0mbytes_io\u001b[0m \u001b[0;34m=\u001b[0m \u001b[0mBytesIO\u001b[0m\u001b[0;34m(\u001b[0m\u001b[0;34m)\u001b[0m\u001b[0;34m\u001b[0m\u001b[0m\n\u001b[0;32m--> 125\u001b[0;31m     \u001b[0mfig\u001b[0m\u001b[0;34m.\u001b[0m\u001b[0mcanvas\u001b[0m\u001b[0;34m.\u001b[0m\u001b[0mprint_figure\u001b[0m\u001b[0;34m(\u001b[0m\u001b[0mbytes_io\u001b[0m\u001b[0;34m,\u001b[0m \u001b[0;34m**\u001b[0m\u001b[0mkw\u001b[0m\u001b[0;34m)\u001b[0m\u001b[0;34m\u001b[0m\u001b[0m\n\u001b[0m\u001b[1;32m    126\u001b[0m     \u001b[0mdata\u001b[0m \u001b[0;34m=\u001b[0m \u001b[0mbytes_io\u001b[0m\u001b[0;34m.\u001b[0m\u001b[0mgetvalue\u001b[0m\u001b[0;34m(\u001b[0m\u001b[0;34m)\u001b[0m\u001b[0;34m\u001b[0m\u001b[0m\n\u001b[1;32m    127\u001b[0m     \u001b[0;32mif\u001b[0m \u001b[0mfmt\u001b[0m \u001b[0;34m==\u001b[0m \u001b[0;34m'svg'\u001b[0m\u001b[0;34m:\u001b[0m\u001b[0;34m\u001b[0m\u001b[0m\n",
      "\u001b[0;32m/home/gonzalo/Datos/local/lib/python2.7/site-packages/matplotlib/backend_bases.pyc\u001b[0m in \u001b[0;36mprint_figure\u001b[0;34m(self, filename, dpi, facecolor, edgecolor, orientation, format, **kwargs)\u001b[0m\n\u001b[1;32m   2210\u001b[0m                     \u001b[0morientation\u001b[0m\u001b[0;34m=\u001b[0m\u001b[0morientation\u001b[0m\u001b[0;34m,\u001b[0m\u001b[0;34m\u001b[0m\u001b[0m\n\u001b[1;32m   2211\u001b[0m                     \u001b[0mdryrun\u001b[0m\u001b[0;34m=\u001b[0m\u001b[0mTrue\u001b[0m\u001b[0;34m,\u001b[0m\u001b[0;34m\u001b[0m\u001b[0m\n\u001b[0;32m-> 2212\u001b[0;31m                     **kwargs)\n\u001b[0m\u001b[1;32m   2213\u001b[0m                 \u001b[0mrenderer\u001b[0m \u001b[0;34m=\u001b[0m \u001b[0mself\u001b[0m\u001b[0;34m.\u001b[0m\u001b[0mfigure\u001b[0m\u001b[0;34m.\u001b[0m\u001b[0m_cachedRenderer\u001b[0m\u001b[0;34m\u001b[0m\u001b[0m\n\u001b[1;32m   2214\u001b[0m                 \u001b[0mbbox_inches\u001b[0m \u001b[0;34m=\u001b[0m \u001b[0mself\u001b[0m\u001b[0;34m.\u001b[0m\u001b[0mfigure\u001b[0m\u001b[0;34m.\u001b[0m\u001b[0mget_tightbbox\u001b[0m\u001b[0;34m(\u001b[0m\u001b[0mrenderer\u001b[0m\u001b[0;34m)\u001b[0m\u001b[0;34m\u001b[0m\u001b[0m\n",
      "\u001b[0;32m/home/gonzalo/Datos/local/lib/python2.7/site-packages/matplotlib/backends/backend_agg.pyc\u001b[0m in \u001b[0;36mprint_png\u001b[0;34m(self, filename_or_obj, *args, **kwargs)\u001b[0m\n\u001b[1;32m    511\u001b[0m \u001b[0;34m\u001b[0m\u001b[0m\n\u001b[1;32m    512\u001b[0m     \u001b[0;32mdef\u001b[0m \u001b[0mprint_png\u001b[0m\u001b[0;34m(\u001b[0m\u001b[0mself\u001b[0m\u001b[0;34m,\u001b[0m \u001b[0mfilename_or_obj\u001b[0m\u001b[0;34m,\u001b[0m \u001b[0;34m*\u001b[0m\u001b[0margs\u001b[0m\u001b[0;34m,\u001b[0m \u001b[0;34m**\u001b[0m\u001b[0mkwargs\u001b[0m\u001b[0;34m)\u001b[0m\u001b[0;34m:\u001b[0m\u001b[0;34m\u001b[0m\u001b[0m\n\u001b[0;32m--> 513\u001b[0;31m         \u001b[0mFigureCanvasAgg\u001b[0m\u001b[0;34m.\u001b[0m\u001b[0mdraw\u001b[0m\u001b[0;34m(\u001b[0m\u001b[0mself\u001b[0m\u001b[0;34m)\u001b[0m\u001b[0;34m\u001b[0m\u001b[0m\n\u001b[0m\u001b[1;32m    514\u001b[0m         \u001b[0mrenderer\u001b[0m \u001b[0;34m=\u001b[0m \u001b[0mself\u001b[0m\u001b[0;34m.\u001b[0m\u001b[0mget_renderer\u001b[0m\u001b[0;34m(\u001b[0m\u001b[0;34m)\u001b[0m\u001b[0;34m\u001b[0m\u001b[0m\n\u001b[1;32m    515\u001b[0m         \u001b[0moriginal_dpi\u001b[0m \u001b[0;34m=\u001b[0m \u001b[0mrenderer\u001b[0m\u001b[0;34m.\u001b[0m\u001b[0mdpi\u001b[0m\u001b[0;34m\u001b[0m\u001b[0m\n",
      "\u001b[0;32m/home/gonzalo/Datos/local/lib/python2.7/site-packages/matplotlib/backends/backend_agg.pyc\u001b[0m in \u001b[0;36mdraw\u001b[0;34m(self)\u001b[0m\n\u001b[1;32m    431\u001b[0m             \u001b[0;31m# if toolbar:\u001b[0m\u001b[0;34m\u001b[0m\u001b[0;34m\u001b[0m\u001b[0m\n\u001b[1;32m    432\u001b[0m             \u001b[0;31m#     toolbar.set_cursor(cursors.WAIT)\u001b[0m\u001b[0;34m\u001b[0m\u001b[0;34m\u001b[0m\u001b[0m\n\u001b[0;32m--> 433\u001b[0;31m             \u001b[0mself\u001b[0m\u001b[0;34m.\u001b[0m\u001b[0mfigure\u001b[0m\u001b[0;34m.\u001b[0m\u001b[0mdraw\u001b[0m\u001b[0;34m(\u001b[0m\u001b[0mself\u001b[0m\u001b[0;34m.\u001b[0m\u001b[0mrenderer\u001b[0m\u001b[0;34m)\u001b[0m\u001b[0;34m\u001b[0m\u001b[0m\n\u001b[0m\u001b[1;32m    434\u001b[0m             \u001b[0;31m# A GUI class may be need to update a window using this draw, so\u001b[0m\u001b[0;34m\u001b[0m\u001b[0;34m\u001b[0m\u001b[0m\n\u001b[1;32m    435\u001b[0m             \u001b[0;31m# don't forget to call the superclass.\u001b[0m\u001b[0;34m\u001b[0m\u001b[0;34m\u001b[0m\u001b[0m\n",
      "\u001b[0;32m/home/gonzalo/Datos/local/lib/python2.7/site-packages/matplotlib/artist.pyc\u001b[0m in \u001b[0;36mdraw_wrapper\u001b[0;34m(artist, renderer, *args, **kwargs)\u001b[0m\n\u001b[1;32m     53\u001b[0m                 \u001b[0mrenderer\u001b[0m\u001b[0;34m.\u001b[0m\u001b[0mstart_filter\u001b[0m\u001b[0;34m(\u001b[0m\u001b[0;34m)\u001b[0m\u001b[0;34m\u001b[0m\u001b[0m\n\u001b[1;32m     54\u001b[0m \u001b[0;34m\u001b[0m\u001b[0m\n\u001b[0;32m---> 55\u001b[0;31m             \u001b[0;32mreturn\u001b[0m \u001b[0mdraw\u001b[0m\u001b[0;34m(\u001b[0m\u001b[0martist\u001b[0m\u001b[0;34m,\u001b[0m \u001b[0mrenderer\u001b[0m\u001b[0;34m,\u001b[0m \u001b[0;34m*\u001b[0m\u001b[0margs\u001b[0m\u001b[0;34m,\u001b[0m \u001b[0;34m**\u001b[0m\u001b[0mkwargs\u001b[0m\u001b[0;34m)\u001b[0m\u001b[0;34m\u001b[0m\u001b[0m\n\u001b[0m\u001b[1;32m     56\u001b[0m         \u001b[0;32mfinally\u001b[0m\u001b[0;34m:\u001b[0m\u001b[0;34m\u001b[0m\u001b[0m\n\u001b[1;32m     57\u001b[0m             \u001b[0;32mif\u001b[0m \u001b[0martist\u001b[0m\u001b[0;34m.\u001b[0m\u001b[0mget_agg_filter\u001b[0m\u001b[0;34m(\u001b[0m\u001b[0;34m)\u001b[0m \u001b[0;32mis\u001b[0m \u001b[0;32mnot\u001b[0m \u001b[0mNone\u001b[0m\u001b[0;34m:\u001b[0m\u001b[0;34m\u001b[0m\u001b[0m\n",
      "\u001b[0;32m/home/gonzalo/Datos/local/lib/python2.7/site-packages/matplotlib/figure.pyc\u001b[0m in \u001b[0;36mdraw\u001b[0;34m(self, renderer)\u001b[0m\n\u001b[1;32m   1473\u001b[0m \u001b[0;34m\u001b[0m\u001b[0m\n\u001b[1;32m   1474\u001b[0m             mimage._draw_list_compositing_images(\n\u001b[0;32m-> 1475\u001b[0;31m                 renderer, self, artists, self.suppressComposite)\n\u001b[0m\u001b[1;32m   1476\u001b[0m \u001b[0;34m\u001b[0m\u001b[0m\n\u001b[1;32m   1477\u001b[0m             \u001b[0mrenderer\u001b[0m\u001b[0;34m.\u001b[0m\u001b[0mclose_group\u001b[0m\u001b[0;34m(\u001b[0m\u001b[0;34m'figure'\u001b[0m\u001b[0;34m)\u001b[0m\u001b[0;34m\u001b[0m\u001b[0m\n",
      "\u001b[0;32m/home/gonzalo/Datos/local/lib/python2.7/site-packages/matplotlib/image.pyc\u001b[0m in \u001b[0;36m_draw_list_compositing_images\u001b[0;34m(renderer, parent, artists, suppress_composite)\u001b[0m\n\u001b[1;32m    139\u001b[0m     \u001b[0;32mif\u001b[0m \u001b[0mnot_composite\u001b[0m \u001b[0;32mor\u001b[0m \u001b[0;32mnot\u001b[0m \u001b[0mhas_images\u001b[0m\u001b[0;34m:\u001b[0m\u001b[0;34m\u001b[0m\u001b[0m\n\u001b[1;32m    140\u001b[0m         \u001b[0;32mfor\u001b[0m \u001b[0ma\u001b[0m \u001b[0;32min\u001b[0m \u001b[0martists\u001b[0m\u001b[0;34m:\u001b[0m\u001b[0;34m\u001b[0m\u001b[0m\n\u001b[0;32m--> 141\u001b[0;31m             \u001b[0ma\u001b[0m\u001b[0;34m.\u001b[0m\u001b[0mdraw\u001b[0m\u001b[0;34m(\u001b[0m\u001b[0mrenderer\u001b[0m\u001b[0;34m)\u001b[0m\u001b[0;34m\u001b[0m\u001b[0m\n\u001b[0m\u001b[1;32m    142\u001b[0m     \u001b[0;32melse\u001b[0m\u001b[0;34m:\u001b[0m\u001b[0;34m\u001b[0m\u001b[0m\n\u001b[1;32m    143\u001b[0m         \u001b[0;31m# Composite any adjacent images together\u001b[0m\u001b[0;34m\u001b[0m\u001b[0;34m\u001b[0m\u001b[0m\n",
      "\u001b[0;32m/home/gonzalo/Datos/local/lib/python2.7/site-packages/matplotlib/artist.pyc\u001b[0m in \u001b[0;36mdraw_wrapper\u001b[0;34m(artist, renderer, *args, **kwargs)\u001b[0m\n\u001b[1;32m     53\u001b[0m                 \u001b[0mrenderer\u001b[0m\u001b[0;34m.\u001b[0m\u001b[0mstart_filter\u001b[0m\u001b[0;34m(\u001b[0m\u001b[0;34m)\u001b[0m\u001b[0;34m\u001b[0m\u001b[0m\n\u001b[1;32m     54\u001b[0m \u001b[0;34m\u001b[0m\u001b[0m\n\u001b[0;32m---> 55\u001b[0;31m             \u001b[0;32mreturn\u001b[0m \u001b[0mdraw\u001b[0m\u001b[0;34m(\u001b[0m\u001b[0martist\u001b[0m\u001b[0;34m,\u001b[0m \u001b[0mrenderer\u001b[0m\u001b[0;34m,\u001b[0m \u001b[0;34m*\u001b[0m\u001b[0margs\u001b[0m\u001b[0;34m,\u001b[0m \u001b[0;34m**\u001b[0m\u001b[0mkwargs\u001b[0m\u001b[0;34m)\u001b[0m\u001b[0;34m\u001b[0m\u001b[0m\n\u001b[0m\u001b[1;32m     56\u001b[0m         \u001b[0;32mfinally\u001b[0m\u001b[0;34m:\u001b[0m\u001b[0;34m\u001b[0m\u001b[0m\n\u001b[1;32m     57\u001b[0m             \u001b[0;32mif\u001b[0m \u001b[0martist\u001b[0m\u001b[0;34m.\u001b[0m\u001b[0mget_agg_filter\u001b[0m\u001b[0;34m(\u001b[0m\u001b[0;34m)\u001b[0m \u001b[0;32mis\u001b[0m \u001b[0;32mnot\u001b[0m \u001b[0mNone\u001b[0m\u001b[0;34m:\u001b[0m\u001b[0;34m\u001b[0m\u001b[0m\n",
      "\u001b[0;32m/home/gonzalo/Datos/local/lib/python2.7/site-packages/matplotlib/axes/_base.pyc\u001b[0m in \u001b[0;36mdraw\u001b[0;34m(self, renderer, inframe)\u001b[0m\n\u001b[1;32m   2605\u001b[0m             \u001b[0mrenderer\u001b[0m\u001b[0;34m.\u001b[0m\u001b[0mstop_rasterizing\u001b[0m\u001b[0;34m(\u001b[0m\u001b[0;34m)\u001b[0m\u001b[0;34m\u001b[0m\u001b[0m\n\u001b[1;32m   2606\u001b[0m \u001b[0;34m\u001b[0m\u001b[0m\n\u001b[0;32m-> 2607\u001b[0;31m         \u001b[0mmimage\u001b[0m\u001b[0;34m.\u001b[0m\u001b[0m_draw_list_compositing_images\u001b[0m\u001b[0;34m(\u001b[0m\u001b[0mrenderer\u001b[0m\u001b[0;34m,\u001b[0m \u001b[0mself\u001b[0m\u001b[0;34m,\u001b[0m \u001b[0martists\u001b[0m\u001b[0;34m)\u001b[0m\u001b[0;34m\u001b[0m\u001b[0m\n\u001b[0m\u001b[1;32m   2608\u001b[0m \u001b[0;34m\u001b[0m\u001b[0m\n\u001b[1;32m   2609\u001b[0m         \u001b[0mrenderer\u001b[0m\u001b[0;34m.\u001b[0m\u001b[0mclose_group\u001b[0m\u001b[0;34m(\u001b[0m\u001b[0;34m'axes'\u001b[0m\u001b[0;34m)\u001b[0m\u001b[0;34m\u001b[0m\u001b[0m\n",
      "\u001b[0;32m/home/gonzalo/Datos/local/lib/python2.7/site-packages/matplotlib/image.pyc\u001b[0m in \u001b[0;36m_draw_list_compositing_images\u001b[0;34m(renderer, parent, artists, suppress_composite)\u001b[0m\n\u001b[1;32m    139\u001b[0m     \u001b[0;32mif\u001b[0m \u001b[0mnot_composite\u001b[0m \u001b[0;32mor\u001b[0m \u001b[0;32mnot\u001b[0m \u001b[0mhas_images\u001b[0m\u001b[0;34m:\u001b[0m\u001b[0;34m\u001b[0m\u001b[0m\n\u001b[1;32m    140\u001b[0m         \u001b[0;32mfor\u001b[0m \u001b[0ma\u001b[0m \u001b[0;32min\u001b[0m \u001b[0martists\u001b[0m\u001b[0;34m:\u001b[0m\u001b[0;34m\u001b[0m\u001b[0m\n\u001b[0;32m--> 141\u001b[0;31m             \u001b[0ma\u001b[0m\u001b[0;34m.\u001b[0m\u001b[0mdraw\u001b[0m\u001b[0;34m(\u001b[0m\u001b[0mrenderer\u001b[0m\u001b[0;34m)\u001b[0m\u001b[0;34m\u001b[0m\u001b[0m\n\u001b[0m\u001b[1;32m    142\u001b[0m     \u001b[0;32melse\u001b[0m\u001b[0;34m:\u001b[0m\u001b[0;34m\u001b[0m\u001b[0m\n\u001b[1;32m    143\u001b[0m         \u001b[0;31m# Composite any adjacent images together\u001b[0m\u001b[0;34m\u001b[0m\u001b[0;34m\u001b[0m\u001b[0m\n",
      "\u001b[0;32m/home/gonzalo/Datos/local/lib/python2.7/site-packages/matplotlib/artist.pyc\u001b[0m in \u001b[0;36mdraw_wrapper\u001b[0;34m(artist, renderer, *args, **kwargs)\u001b[0m\n\u001b[1;32m     53\u001b[0m                 \u001b[0mrenderer\u001b[0m\u001b[0;34m.\u001b[0m\u001b[0mstart_filter\u001b[0m\u001b[0;34m(\u001b[0m\u001b[0;34m)\u001b[0m\u001b[0;34m\u001b[0m\u001b[0m\n\u001b[1;32m     54\u001b[0m \u001b[0;34m\u001b[0m\u001b[0m\n\u001b[0;32m---> 55\u001b[0;31m             \u001b[0;32mreturn\u001b[0m \u001b[0mdraw\u001b[0m\u001b[0;34m(\u001b[0m\u001b[0martist\u001b[0m\u001b[0;34m,\u001b[0m \u001b[0mrenderer\u001b[0m\u001b[0;34m,\u001b[0m \u001b[0;34m*\u001b[0m\u001b[0margs\u001b[0m\u001b[0;34m,\u001b[0m \u001b[0;34m**\u001b[0m\u001b[0mkwargs\u001b[0m\u001b[0;34m)\u001b[0m\u001b[0;34m\u001b[0m\u001b[0m\n\u001b[0m\u001b[1;32m     56\u001b[0m         \u001b[0;32mfinally\u001b[0m\u001b[0;34m:\u001b[0m\u001b[0;34m\u001b[0m\u001b[0m\n\u001b[1;32m     57\u001b[0m             \u001b[0;32mif\u001b[0m \u001b[0martist\u001b[0m\u001b[0;34m.\u001b[0m\u001b[0mget_agg_filter\u001b[0m\u001b[0;34m(\u001b[0m\u001b[0;34m)\u001b[0m \u001b[0;32mis\u001b[0m \u001b[0;32mnot\u001b[0m \u001b[0mNone\u001b[0m\u001b[0;34m:\u001b[0m\u001b[0;34m\u001b[0m\u001b[0m\n",
      "\u001b[0;32m/home/gonzalo/Datos/local/lib/python2.7/site-packages/matplotlib/text.pyc\u001b[0m in \u001b[0;36mdraw\u001b[0;34m(self, renderer)\u001b[0m\n\u001b[1;32m    704\u001b[0m \u001b[0;34m\u001b[0m\u001b[0m\n\u001b[1;32m    705\u001b[0m         \u001b[0;32mwith\u001b[0m \u001b[0m_wrap_text\u001b[0m\u001b[0;34m(\u001b[0m\u001b[0mself\u001b[0m\u001b[0;34m)\u001b[0m \u001b[0;32mas\u001b[0m \u001b[0mtextobj\u001b[0m\u001b[0;34m:\u001b[0m\u001b[0;34m\u001b[0m\u001b[0m\n\u001b[0;32m--> 706\u001b[0;31m             \u001b[0mbbox\u001b[0m\u001b[0;34m,\u001b[0m \u001b[0minfo\u001b[0m\u001b[0;34m,\u001b[0m \u001b[0mdescent\u001b[0m \u001b[0;34m=\u001b[0m \u001b[0mtextobj\u001b[0m\u001b[0;34m.\u001b[0m\u001b[0m_get_layout\u001b[0m\u001b[0;34m(\u001b[0m\u001b[0mrenderer\u001b[0m\u001b[0;34m)\u001b[0m\u001b[0;34m\u001b[0m\u001b[0m\n\u001b[0m\u001b[1;32m    707\u001b[0m             \u001b[0mtrans\u001b[0m \u001b[0;34m=\u001b[0m \u001b[0mtextobj\u001b[0m\u001b[0;34m.\u001b[0m\u001b[0mget_transform\u001b[0m\u001b[0;34m(\u001b[0m\u001b[0;34m)\u001b[0m\u001b[0;34m\u001b[0m\u001b[0m\n\u001b[1;32m    708\u001b[0m \u001b[0;34m\u001b[0m\u001b[0m\n",
      "\u001b[0;32m/home/gonzalo/Datos/local/lib/python2.7/site-packages/matplotlib/text.pyc\u001b[0m in \u001b[0;36m_get_layout\u001b[0;34m(self, renderer)\u001b[0m\n\u001b[1;32m    303\u001b[0m         \u001b[0mbaseline\u001b[0m \u001b[0;34m=\u001b[0m \u001b[0;36m0\u001b[0m\u001b[0;34m\u001b[0m\u001b[0m\n\u001b[1;32m    304\u001b[0m         \u001b[0;32mfor\u001b[0m \u001b[0mi\u001b[0m\u001b[0;34m,\u001b[0m \u001b[0mline\u001b[0m \u001b[0;32min\u001b[0m \u001b[0menumerate\u001b[0m\u001b[0;34m(\u001b[0m\u001b[0mlines\u001b[0m\u001b[0;34m)\u001b[0m\u001b[0;34m:\u001b[0m\u001b[0;34m\u001b[0m\u001b[0m\n\u001b[0;32m--> 305\u001b[0;31m             \u001b[0mclean_line\u001b[0m\u001b[0;34m,\u001b[0m \u001b[0mismath\u001b[0m \u001b[0;34m=\u001b[0m \u001b[0mself\u001b[0m\u001b[0;34m.\u001b[0m\u001b[0mis_math_text\u001b[0m\u001b[0;34m(\u001b[0m\u001b[0mline\u001b[0m\u001b[0;34m,\u001b[0m \u001b[0mself\u001b[0m\u001b[0;34m.\u001b[0m\u001b[0mget_usetex\u001b[0m\u001b[0;34m(\u001b[0m\u001b[0;34m)\u001b[0m\u001b[0;34m)\u001b[0m\u001b[0;34m\u001b[0m\u001b[0m\n\u001b[0m\u001b[1;32m    306\u001b[0m             \u001b[0;32mif\u001b[0m \u001b[0mclean_line\u001b[0m\u001b[0;34m:\u001b[0m\u001b[0;34m\u001b[0m\u001b[0m\n\u001b[1;32m    307\u001b[0m                 w, h, d = renderer.get_text_width_height_descent(clean_line,\n",
      "\u001b[0;32m/home/gonzalo/Datos/local/lib/python2.7/site-packages/matplotlib/text.pyc\u001b[0m in \u001b[0;36mis_math_text\u001b[0;34m(s, usetex)\u001b[0m\n\u001b[1;32m   1186\u001b[0m             \u001b[0;32mreturn\u001b[0m \u001b[0ms\u001b[0m\u001b[0;34m,\u001b[0m \u001b[0;34m'TeX'\u001b[0m\u001b[0;34m\u001b[0m\u001b[0m\n\u001b[1;32m   1187\u001b[0m \u001b[0;34m\u001b[0m\u001b[0m\n\u001b[0;32m-> 1188\u001b[0;31m         \u001b[0;32mif\u001b[0m \u001b[0mcbook\u001b[0m\u001b[0;34m.\u001b[0m\u001b[0mis_math_text\u001b[0m\u001b[0;34m(\u001b[0m\u001b[0ms\u001b[0m\u001b[0;34m)\u001b[0m\u001b[0;34m:\u001b[0m\u001b[0;34m\u001b[0m\u001b[0m\n\u001b[0m\u001b[1;32m   1189\u001b[0m             \u001b[0;32mreturn\u001b[0m \u001b[0ms\u001b[0m\u001b[0;34m,\u001b[0m \u001b[0mTrue\u001b[0m\u001b[0;34m\u001b[0m\u001b[0m\n\u001b[1;32m   1190\u001b[0m         \u001b[0;32melse\u001b[0m\u001b[0;34m:\u001b[0m\u001b[0;34m\u001b[0m\u001b[0m\n",
      "\u001b[0;32m/home/gonzalo/Datos/local/lib/python2.7/site-packages/matplotlib/cbook/__init__.pyc\u001b[0m in \u001b[0;36mis_math_text\u001b[0;34m(s)\u001b[0m\n\u001b[1;32m   2031\u001b[0m     \u001b[0;32mexcept\u001b[0m \u001b[0mUnicodeDecodeError\u001b[0m\u001b[0;34m:\u001b[0m\u001b[0;34m\u001b[0m\u001b[0m\n\u001b[1;32m   2032\u001b[0m         raise ValueError(\n\u001b[0;32m-> 2033\u001b[0;31m             \u001b[0;34m\"matplotlib display text must have all code points < 128 or use \"\u001b[0m\u001b[0;34m\u001b[0m\u001b[0m\n\u001b[0m\u001b[1;32m   2034\u001b[0m             \"Unicode strings\")\n\u001b[1;32m   2035\u001b[0m \u001b[0;34m\u001b[0m\u001b[0m\n",
      "\u001b[0;31mValueError\u001b[0m: matplotlib display text must have all code points < 128 or use Unicode strings"
     ]
    },
    {
     "data": {
      "text/plain": [
       "<Figure size 720x432 with 1 Axes>"
      ]
     },
     "metadata": {},
     "output_type": "display_data"
    }
   ],
   "source": [
    "vistasFebreroPorHora=vistasFebrero\n",
    "\n",
    "top_vistas = vistasFebreroPorHora.groupby('Hora').count().loc[:,'idAviso'].plot(linewidth=2,figsize=(10,6))\n",
    "\n",
    "plt.title('Cantidad de visitas según la hora', fontsize=18)\n",
    "top_vistas.set_ylabel('Cantidad de visitas', fontsize=10)\n",
    "top_vistas.set_xlabel('Horas', fontsize=10)\n"
   ]
  },
  {
   "cell_type": "markdown",
   "metadata": {},
   "source": [
    "## **Conclusión:**\n",
    "### Se registra que el horario con mayor visitas es a las 14 hs y el de menor visitas a las 8 hs. \n"
   ]
  },
  {
   "cell_type": "markdown",
   "metadata": {},
   "source": [
    "**_2.Día de la semana con mayor y menor cantidad de visitas_**\n",
    "=============================================================="
   ]
  },
  {
   "cell_type": "code",
   "execution_count": 141,
   "metadata": {
    "collapsed": false
   },
   "outputs": [
    {
     "data": {
      "text/plain": [
       "Dia\n",
       "Tuesday      232145\n",
       "Monday       227957\n",
       "Wednesday    227160\n",
       "Saturday      95930\n",
       "Sunday        90646\n",
       "Name: (idAviso, count), dtype: int64"
      ]
     },
     "execution_count": 141,
     "metadata": {},
     "output_type": "execute_result"
    }
   ],
   "source": [
    "vistasFebreroPorDia=vistasFebrero\n",
    "\n",
    "grouped = vistasFebreroPorDia.loc[:,['Dia','idAviso']].groupby('Dia').agg(['count'])\n",
    "top_vistas = grouped[('idAviso','count')].sort_values(ascending=False)\n",
    "top_vistas.head()"
   ]
  },
  {
   "cell_type": "code",
   "execution_count": 40,
   "metadata": {
    "collapsed": false
   },
   "outputs": [
    {
     "data": {
      "text/plain": [
       "<matplotlib.text.Text at 0x7fd27b695f90>"
      ]
     },
     "execution_count": 40,
     "metadata": {},
     "output_type": "execute_result"
    },
    {
     "data": {
      "image/png": "[encoded data removed]",
      "text/plain": [
       "<matplotlib.figure.Figure at 0x7fd277617f50>"
      ]
     },
     "metadata": {},
     "output_type": "display_data"
    }
   ],
   "source": [
    "visualizacionVistasPorDia=vistasFebrero\n",
    "\n",
    "g = sns.countplot(x='Dia', data=visualizacionVistasPorDia, order=visualizacionVistasPorDia['Dia'].value_counts().index, orient='v')\n",
    "g.set_xticklabels(g.get_xticklabels(),rotation=90)\n",
    "g.set_xlabel(\"Dias\", fontsize=15)\n",
    "g.set_ylabel(\"Cantidad \", fontsize=15)\n",
    "g.set_title(\"Cantidad de visitas por dia en el mes de Febrero\", fontsize=15)"
   ]
  },
  {
   "cell_type": "markdown",
   "metadata": {},
   "source": [
    "## **Conclusión:**\n",
    "### Se registra que el día con mayor visitas es el martes y el de menor es el viernes. De ello se puede decir que los postulantes estipulan que el día que lunes es cuando se publica la oferta laboral"
   ]
  },
  {
   "cell_type": "markdown",
   "metadata": {},
   "source": [
    "**_3.Empresas con mayor y menor cantidad de postulaciones_**\n",
    "=============================================================="
   ]
  },
  {
   "cell_type": "code",
   "execution_count": 143,
   "metadata": {
    "collapsed": false
   },
   "outputs": [
    {
     "data": {
      "text/plain": [
       "idaviso                 0\n",
       "denominacion_empresa    0\n",
       "dtype: int64"
      ]
     },
     "execution_count": 143,
     "metadata": {},
     "output_type": "execute_result"
    }
   ],
   "source": [
    "dataframe2= pd.merge(avisos,postulaciones, on='idaviso', how='inner')\n",
    "empresas=dataframe2[['idaviso','denominacion_empresa']]\n",
    "empresas.dropna(subset=['denominacion_empresa'],inplace=True)\n",
    "empresas.isnull().sum()"
   ]
  },
  {
   "cell_type": "code",
   "execution_count": 144,
   "metadata": {
    "collapsed": false
   },
   "outputs": [
    {
     "data": {
      "text/plain": [
       "denominacion_empresa\n",
       "Manpower                 119013\n",
       "RANDSTAD                 102640\n",
       "Grupo Gestión             89950\n",
       "Adecco -Región Office     83530\n",
       "Assistem                  68125\n",
       "Name: (idaviso, count), dtype: int64"
      ]
     },
     "execution_count": 144,
     "metadata": {},
     "output_type": "execute_result"
    }
   ],
   "source": [
    "grouped = empresas.loc[:,['denominacion_empresa','idaviso']].groupby('denominacion_empresa').agg(['count'])\n",
    "top10_empresas = grouped[('idaviso','count')].sort_values(ascending=False)\n",
    "top10_empresas.head()"
   ]
  },
  {
   "cell_type": "code",
   "execution_count": 145,
   "metadata": {
    "collapsed": false
   },
   "outputs": [
    {
     "data": {
      "image/png": "[encoded data removed]",
      "text/plain": [
       "<Figure size 720x360 with 1 Axes>"
      ]
     },
     "metadata": {},
     "output_type": "display_data"
    }
   ],
   "source": [
    "empresas.groupby('denominacion_empresa')['idaviso'].count().sort_values(ascending = False)[0:10].plot(kind='bar',rot = 90,figsize=(10,5),color='blue',fontsize=10)\n",
    "\n",
    "plt.title('Empresas con mayor cantidad de postulaciones', fontsize=15);\n",
    "plt.xlabel('Nombre de Empresas', fontsize=12);\n",
    "plt.ylabel('Cantidad de postulaciones', fontsize=12);"
   ]
  },
  {
   "cell_type": "markdown",
   "metadata": {},
   "source": [
    "## **Conclusión:**\n",
    "### Se regista mayor postulaciones con Manpower, esto se debe a su amplia oferta laboral "
   ]
  },
  {
   "cell_type": "markdown",
   "metadata": {},
   "source": [
    " **_4. Las 10 mejores areas que tienen la mayor cantidad de publicacion en ofertas laborales_**\n",
    " =========================================================================================="
   ]
  },
  {
   "cell_type": "code",
   "execution_count": 146,
   "metadata": {
    "collapsed": false
   },
   "outputs": [
    {
     "data": {
      "image/png": "[encoded data removed]",
      "text/plain": [
       "<Figure size 864x576 with 1 Axes>"
      ]
     },
     "metadata": {},
     "output_type": "display_data"
    }
   ],
   "source": [
    "f = plt.figure()\n",
    "avisos_areaTrabajo=avisos[['idaviso','nombre_area']]\n",
    "grafhist = avisos_areaTrabajo['nombre_area'].value_counts().sort_values(ascending=False).head(10)\n",
    "#grafhist\n",
    "plt.title('las 10 mejores areas de trabajo que tiene mayor cantidad de ofertas laborales ', color='black')\n",
    "\n",
    "ax=grafhist.plot(kind='bar',rot=90,figsize=(12,8),color='m');\n",
    "ax.set_ylabel('Cantidad de oferta laborales');\n",
    "ax.set_xlabel('Areas de trabajo');"
   ]
  },
  {
   "cell_type": "markdown",
   "metadata": {},
   "source": [
    "## **Conclusión:**\n",
    "### Como podemos observar el area de Ventas, es la mayor area que ofrece a nuestros postulados una oportunidad de encontrar empleo,"
   ]
  },
  {
   "cell_type": "markdown",
   "metadata": {},
   "source": [
    "**5. Las 10 mejores areas que tienen mayor postulación**\n",
    "====================================================="
   ]
  },
  {
   "cell_type": "code",
   "execution_count": 147,
   "metadata": {
    "collapsed": false
   },
   "outputs": [
    {
     "data": {
      "text/html": [
       "<div>\n",
       "<style scoped>\n",
       "    .dataframe tbody tr th:only-of-type {\n",
       "        vertical-align: middle;\n",
       "    }\n",
       "\n",
       "    .dataframe tbody tr th {\n",
       "        vertical-align: top;\n",
       "    }\n",
       "\n",
       "    .dataframe thead th {\n",
       "        text-align: right;\n",
       "    }\n",
       "</style>\n",
       "<table border=\"1\" class=\"dataframe\">\n",
       "  <thead>\n",
       "    <tr style=\"text-align: right;\">\n",
       "      <th></th>\n",
       "      <th>idaviso</th>\n",
       "      <th>cantPostulantes</th>\n",
       "    </tr>\n",
       "  </thead>\n",
       "  <tbody>\n",
       "    <tr>\n",
       "      <th>0</th>\n",
       "      <td>1112033906</td>\n",
       "      <td>9932</td>\n",
       "    </tr>\n",
       "    <tr>\n",
       "      <th>1</th>\n",
       "      <td>1112334791</td>\n",
       "      <td>9787</td>\n",
       "    </tr>\n",
       "    <tr>\n",
       "      <th>2</th>\n",
       "      <td>1112204682</td>\n",
       "      <td>9244</td>\n",
       "    </tr>\n",
       "    <tr>\n",
       "      <th>3</th>\n",
       "      <td>1112094756</td>\n",
       "      <td>8763</td>\n",
       "    </tr>\n",
       "    <tr>\n",
       "      <th>4</th>\n",
       "      <td>1112345900</td>\n",
       "      <td>8304</td>\n",
       "    </tr>\n",
       "    <tr>\n",
       "      <th>5</th>\n",
       "      <td>1112319451</td>\n",
       "      <td>8025</td>\n",
       "    </tr>\n",
       "    <tr>\n",
       "      <th>6</th>\n",
       "      <td>1112298966</td>\n",
       "      <td>7637</td>\n",
       "    </tr>\n",
       "    <tr>\n",
       "      <th>7</th>\n",
       "      <td>1112262494</td>\n",
       "      <td>7541</td>\n",
       "    </tr>\n",
       "    <tr>\n",
       "      <th>8</th>\n",
       "      <td>1112305277</td>\n",
       "      <td>7153</td>\n",
       "    </tr>\n",
       "    <tr>\n",
       "      <th>9</th>\n",
       "      <td>1112296264</td>\n",
       "      <td>6968</td>\n",
       "    </tr>\n",
       "  </tbody>\n",
       "</table>\n",
       "</div>"
      ],
      "text/plain": [
       "      idaviso  cantPostulantes\n",
       "0  1112033906             9932\n",
       "1  1112334791             9787\n",
       "2  1112204682             9244\n",
       "3  1112094756             8763\n",
       "4  1112345900             8304\n",
       "5  1112319451             8025\n",
       "6  1112298966             7637\n",
       "7  1112262494             7541\n",
       "8  1112305277             7153\n",
       "9  1112296264             6968"
      ]
     },
     "execution_count": 147,
     "metadata": {},
     "output_type": "execute_result"
    }
   ],
   "source": [
    "#verificamos que no existe ningun tipo de nan's\n",
    "agrup_postulaciones=postulaciones [['idaviso','idpostulante']]\n",
    "aviso_cant=agrup_postulaciones.groupby(['idaviso']).count().sort_values(by=['idpostulante'],ascending=False).reset_index()\n",
    "aviso_cant.rename(columns={'idpostulante':'cantPostulantes'},inplace=True)\n",
    "aviso_cant.head(10)"
   ]
  },
  {
   "cell_type": "code",
   "execution_count": 148,
   "metadata": {
    "collapsed": false
   },
   "outputs": [
    {
     "name": "stdout",
     "output_type": "stream",
     "text": [
      "<class 'pandas.core.frame.DataFrame'>\n",
      "RangeIndex: 12692 entries, 0 to 12691\n",
      "Data columns (total 2 columns):\n",
      "idaviso            12692 non-null int64\n",
      "cantPostulantes    12692 non-null int64\n",
      "dtypes: int64(2)\n",
      "memory usage: 198.4 KB\n"
     ]
    }
   ],
   "source": [
    "aviso_cant.info()"
   ]
  },
  {
   "cell_type": "code",
   "execution_count": 149,
   "metadata": {
    "collapsed": false
   },
   "outputs": [
    {
     "name": "stdout",
     "output_type": "stream",
     "text": [
      "<class 'pandas.core.frame.DataFrame'>\n",
      "Int64Index: 13849 entries, 0 to 13848\n",
      "Data columns (total 2 columns):\n",
      "idaviso        13849 non-null int64\n",
      "nombre_area    13534 non-null object\n",
      "dtypes: int64(1), object(1)\n",
      "memory usage: 324.6+ KB\n"
     ]
    }
   ],
   "source": [
    "aviso_area=avisos[['idaviso','nombre_area']]\n",
    "aviso_area.info()"
   ]
  },
  {
   "cell_type": "code",
   "execution_count": 150,
   "metadata": {
    "collapsed": false
   },
   "outputs": [
    {
     "name": "stdout",
     "output_type": "stream",
     "text": [
      "<class 'pandas.core.frame.DataFrame'>\n",
      "Int64Index: 13534 entries, 0 to 13848\n",
      "Data columns (total 2 columns):\n",
      "idaviso        13534 non-null int64\n",
      "nombre_area    13534 non-null object\n",
      "dtypes: int64(1), object(1)\n",
      "memory usage: 317.2+ KB\n"
     ]
    }
   ],
   "source": [
    "#eliminar los null \n",
    "aviso_area.dropna(inplace=True)\n",
    "aviso_area.info()"
   ]
  },
  {
   "cell_type": "code",
   "execution_count": 151,
   "metadata": {
    "collapsed": false
   },
   "outputs": [
    {
     "data": {
      "text/html": [
       "<div>\n",
       "<style scoped>\n",
       "    .dataframe tbody tr th:only-of-type {\n",
       "        vertical-align: middle;\n",
       "    }\n",
       "\n",
       "    .dataframe tbody tr th {\n",
       "        vertical-align: top;\n",
       "    }\n",
       "\n",
       "    .dataframe thead tr th {\n",
       "        text-align: left;\n",
       "    }\n",
       "\n",
       "    .dataframe thead tr:last-of-type th {\n",
       "        text-align: right;\n",
       "    }\n",
       "</style>\n",
       "<table border=\"1\" class=\"dataframe\">\n",
       "  <thead>\n",
       "    <tr>\n",
       "      <th></th>\n",
       "      <th>cantPostulantes</th>\n",
       "    </tr>\n",
       "    <tr>\n",
       "      <th></th>\n",
       "      <th>sum</th>\n",
       "    </tr>\n",
       "    <tr>\n",
       "      <th>nombre_area</th>\n",
       "      <th></th>\n",
       "    </tr>\n",
       "  </thead>\n",
       "  <tbody>\n",
       "    <tr>\n",
       "      <th>Ventas</th>\n",
       "      <td>408148.0</td>\n",
       "    </tr>\n",
       "    <tr>\n",
       "      <th>Administración</th>\n",
       "      <td>291135.0</td>\n",
       "    </tr>\n",
       "    <tr>\n",
       "      <th>Producción</th>\n",
       "      <td>277089.0</td>\n",
       "    </tr>\n",
       "    <tr>\n",
       "      <th>Comercial</th>\n",
       "      <td>216677.0</td>\n",
       "    </tr>\n",
       "    <tr>\n",
       "      <th>Atención al Cliente</th>\n",
       "      <td>195636.0</td>\n",
       "    </tr>\n",
       "    <tr>\n",
       "      <th>Recepcionista</th>\n",
       "      <td>137485.0</td>\n",
       "    </tr>\n",
       "    <tr>\n",
       "      <th>Call Center</th>\n",
       "      <td>126430.0</td>\n",
       "    </tr>\n",
       "    <tr>\n",
       "      <th>Telemarketing</th>\n",
       "      <td>87506.0</td>\n",
       "    </tr>\n",
       "    <tr>\n",
       "      <th>Tesorería</th>\n",
       "      <td>78450.0</td>\n",
       "    </tr>\n",
       "    <tr>\n",
       "      <th>Mantenimiento y Limpieza</th>\n",
       "      <td>63308.0</td>\n",
       "    </tr>\n",
       "  </tbody>\n",
       "</table>\n",
       "</div>"
      ],
      "text/plain": [
       "                         cantPostulantes\n",
       "                                     sum\n",
       "nombre_area                             \n",
       "Ventas                          408148.0\n",
       "Administración                  291135.0\n",
       "Producción                      277089.0\n",
       "Comercial                       216677.0\n",
       "Atención al Cliente             195636.0\n",
       "Recepcionista                   137485.0\n",
       "Call Center                     126430.0\n",
       "Telemarketing                    87506.0\n",
       "Tesorería                        78450.0\n",
       "Mantenimiento y Limpieza         63308.0"
      ]
     },
     "execution_count": 151,
     "metadata": {},
     "output_type": "execute_result"
    }
   ],
   "source": [
    "result = pd.merge(aviso_cant,aviso_area,on='idaviso',how='outer')\n",
    "#quedo con las columnas de cantPostulantes y nombre_area\n",
    "postulantes_area=result[['cantPostulantes','nombre_area']]  \n",
    "postulantes_area=postulantes_area.groupby('nombre_area').\\\n",
    "                   agg([np.sum]).sort_values(('cantPostulantes','sum'),ascending=False)[:10]\n",
    "\n",
    "postulantes_area"
   ]
  },
  {
   "cell_type": "code",
   "execution_count": 152,
   "metadata": {
    "collapsed": false
   },
   "outputs": [
    {
     "data": {
      "text/plain": [
       "<Figure size 432x288 with 0 Axes>"
      ]
     },
     "metadata": {},
     "output_type": "display_data"
    },
    {
     "data": {
      "image/png": "[encoded data removed]",
      "text/plain": [
       "<Figure size 864x576 with 1 Axes>"
      ]
     },
     "metadata": {},
     "output_type": "display_data"
    }
   ],
   "source": [
    "f= plt.figure()\n",
    "graf = postulantes_area\n",
    "\n",
    "ax=graf.plot(kind='bar',rot=90,figsize=(12,8),color='r');\n",
    "ax.set_ylabel('Cantidad de postulaciones');\n",
    "ax.set_xlabel('Areas de trabajo');\n",
    "ax.set_title('las 10 mejores areas de trabajo que tiene mayor postulacion', color='black')\n",
    "plt.show()"
   ]
  },
  {
   "cell_type": "markdown",
   "metadata": {},
   "source": [
    "## **Conclusion:**\n",
    "### Los postulantes, postularan a los puestos que mayor ofrecimiento laboral tengan y mayor sea la posibilidad de encontrae un puesto de trabajo "
   ]
  },
  {
   "cell_type": "markdown",
   "metadata": {},
   "source": [
    "**6. Genero de los postulantes para las distintas areas**\n",
    "======================================================="
   ]
  },
  {
   "cell_type": "code",
   "execution_count": 153,
   "metadata": {
    "collapsed": false
   },
   "outputs": [
    {
     "name": "stdout",
     "output_type": "stream",
     "text": [
      "<class 'pandas.core.frame.DataFrame'>\n",
      "RangeIndex: 200888 entries, 0 to 200887\n",
      "Data columns (total 3 columns):\n",
      "idpostulante       200888 non-null object\n",
      "fechanacimiento    196138 non-null object\n",
      "sexo               200888 non-null object\n",
      "dtypes: object(3)\n",
      "memory usage: 4.6+ MB\n"
     ]
    }
   ],
   "source": [
    "postulantesGeneroYEdad.info()"
   ]
  },
  {
   "cell_type": "code",
   "execution_count": 154,
   "metadata": {
    "collapsed": true
   },
   "outputs": [],
   "source": [
    "# me quedo con los id de los postulantes con sus respectivos generos \n",
    "postulante_genero=postulantesGeneroYEdad[['idpostulante','sexo']]\n",
    "postulante_aviso=postulaciones[['idaviso','idpostulante']]\n",
    "aviso_area=avisos[['idaviso','nombre_area']]"
   ]
  },
  {
   "cell_type": "code",
   "execution_count": 155,
   "metadata": {
    "collapsed": false
   },
   "outputs": [
    {
     "name": "stdout",
     "output_type": "stream",
     "text": [
      "<class 'pandas.core.frame.DataFrame'>\n",
      "Int64Index: 3403927 entries, 0 to 3403926\n",
      "Data columns (total 3 columns):\n",
      "idaviso         int64\n",
      "nombre_area     object\n",
      "idpostulante    object\n",
      "dtypes: int64(1), object(2)\n",
      "memory usage: 103.9+ MB\n"
     ]
    }
   ],
   "source": [
    "agrupando_aviso= pd.merge(aviso_area,postulante_aviso,on='idaviso',how='outer')\n",
    "agrupando_aviso.info()"
   ]
  },
  {
   "cell_type": "code",
   "execution_count": 156,
   "metadata": {
    "collapsed": false
   },
   "outputs": [
    {
     "data": {
      "text/html": [
       "<div>\n",
       "<style scoped>\n",
       "    .dataframe tbody tr th:only-of-type {\n",
       "        vertical-align: middle;\n",
       "    }\n",
       "\n",
       "    .dataframe tbody tr th {\n",
       "        vertical-align: top;\n",
       "    }\n",
       "\n",
       "    .dataframe thead th {\n",
       "        text-align: right;\n",
       "    }\n",
       "</style>\n",
       "<table border=\"1\" class=\"dataframe\">\n",
       "  <thead>\n",
       "    <tr style=\"text-align: right;\">\n",
       "      <th></th>\n",
       "      <th>idaviso</th>\n",
       "      <th>nombre_area</th>\n",
       "      <th>idpostulante</th>\n",
       "      <th>sexo</th>\n",
       "    </tr>\n",
       "  </thead>\n",
       "  <tbody>\n",
       "    <tr>\n",
       "      <th>3403922</th>\n",
       "      <td>1112308336</td>\n",
       "      <td>Ingeniería de Producto</td>\n",
       "      <td>NzNaAll</td>\n",
       "      <td>MASC</td>\n",
       "    </tr>\n",
       "    <tr>\n",
       "      <th>3403923</th>\n",
       "      <td>1112250944</td>\n",
       "      <td>Mantenimiento</td>\n",
       "      <td>NzNaAll</td>\n",
       "      <td>MASC</td>\n",
       "    </tr>\n",
       "    <tr>\n",
       "      <th>3403924</th>\n",
       "      <td>1112261261</td>\n",
       "      <td>Mantenimiento</td>\n",
       "      <td>NzNaAll</td>\n",
       "      <td>MASC</td>\n",
       "    </tr>\n",
       "    <tr>\n",
       "      <th>3403925</th>\n",
       "      <td>1112268019</td>\n",
       "      <td>Producción</td>\n",
       "      <td>NzNaAll</td>\n",
       "      <td>MASC</td>\n",
       "    </tr>\n",
       "    <tr>\n",
       "      <th>3403926</th>\n",
       "      <td>1112310594</td>\n",
       "      <td>NaN</td>\n",
       "      <td>NzNaAll</td>\n",
       "      <td>MASC</td>\n",
       "    </tr>\n",
       "  </tbody>\n",
       "</table>\n",
       "</div>"
      ],
      "text/plain": [
       "            idaviso             nombre_area idpostulante  sexo\n",
       "3403922  1112308336  Ingeniería de Producto      NzNaAll  MASC\n",
       "3403923  1112250944           Mantenimiento      NzNaAll  MASC\n",
       "3403924  1112261261           Mantenimiento      NzNaAll  MASC\n",
       "3403925  1112268019              Producción      NzNaAll  MASC\n",
       "3403926  1112310594                     NaN      NzNaAll  MASC"
      ]
     },
     "execution_count": 156,
     "metadata": {},
     "output_type": "execute_result"
    }
   ],
   "source": [
    "agrupando_postulante=pd.merge(agrupando_aviso,postulante_genero,on='idpostulante',how='outer')\n",
    "agrupando_postulante.tail()"
   ]
  },
  {
   "cell_type": "code",
   "execution_count": 157,
   "metadata": {
    "collapsed": false
   },
   "outputs": [
    {
     "data": {
      "text/html": [
       "<div>\n",
       "<style scoped>\n",
       "    .dataframe tbody tr th:only-of-type {\n",
       "        vertical-align: middle;\n",
       "    }\n",
       "\n",
       "    .dataframe tbody tr th {\n",
       "        vertical-align: top;\n",
       "    }\n",
       "\n",
       "    .dataframe thead th {\n",
       "        text-align: right;\n",
       "    }\n",
       "</style>\n",
       "<table border=\"1\" class=\"dataframe\">\n",
       "  <thead>\n",
       "    <tr style=\"text-align: right;\">\n",
       "      <th></th>\n",
       "      <th>nombre_area</th>\n",
       "      <th>sexo</th>\n",
       "    </tr>\n",
       "  </thead>\n",
       "  <tbody>\n",
       "    <tr>\n",
       "      <th>3403921</th>\n",
       "      <td>Mineria/Petroleo/Gas</td>\n",
       "      <td>MASC</td>\n",
       "    </tr>\n",
       "    <tr>\n",
       "      <th>3403922</th>\n",
       "      <td>Ingeniería de Producto</td>\n",
       "      <td>MASC</td>\n",
       "    </tr>\n",
       "    <tr>\n",
       "      <th>3403923</th>\n",
       "      <td>Mantenimiento</td>\n",
       "      <td>MASC</td>\n",
       "    </tr>\n",
       "    <tr>\n",
       "      <th>3403924</th>\n",
       "      <td>Mantenimiento</td>\n",
       "      <td>MASC</td>\n",
       "    </tr>\n",
       "    <tr>\n",
       "      <th>3403925</th>\n",
       "      <td>Producción</td>\n",
       "      <td>MASC</td>\n",
       "    </tr>\n",
       "  </tbody>\n",
       "</table>\n",
       "</div>"
      ],
      "text/plain": [
       "                    nombre_area  sexo\n",
       "3403921    Mineria/Petroleo/Gas  MASC\n",
       "3403922  Ingeniería de Producto  MASC\n",
       "3403923           Mantenimiento  MASC\n",
       "3403924           Mantenimiento  MASC\n",
       "3403925              Producción  MASC"
      ]
     },
     "execution_count": 157,
     "metadata": {},
     "output_type": "execute_result"
    }
   ],
   "source": [
    "agrupando_genero=agrupando_postulante[['nombre_area','sexo']]\n",
    "agrupando_genero.dropna(inplace=True)\n",
    "agrupando_genero.tail()"
   ]
  },
  {
   "cell_type": "code",
   "execution_count": 158,
   "metadata": {
    "collapsed": false
   },
   "outputs": [
    {
     "data": {
      "text/html": [
       "<div>\n",
       "<style scoped>\n",
       "    .dataframe tbody tr th:only-of-type {\n",
       "        vertical-align: middle;\n",
       "    }\n",
       "\n",
       "    .dataframe tbody tr th {\n",
       "        vertical-align: top;\n",
       "    }\n",
       "\n",
       "    .dataframe thead th {\n",
       "        text-align: right;\n",
       "    }\n",
       "</style>\n",
       "<table border=\"1\" class=\"dataframe\">\n",
       "  <thead>\n",
       "    <tr style=\"text-align: right;\">\n",
       "      <th></th>\n",
       "      <th>nombre_area</th>\n",
       "      <th>sexo</th>\n",
       "      <th>pivot</th>\n",
       "    </tr>\n",
       "  </thead>\n",
       "  <tbody>\n",
       "    <tr>\n",
       "      <th>3403921</th>\n",
       "      <td>Mineria/Petroleo/Gas</td>\n",
       "      <td>MASC</td>\n",
       "      <td>1</td>\n",
       "    </tr>\n",
       "    <tr>\n",
       "      <th>3403922</th>\n",
       "      <td>Ingeniería de Producto</td>\n",
       "      <td>MASC</td>\n",
       "      <td>1</td>\n",
       "    </tr>\n",
       "    <tr>\n",
       "      <th>3403923</th>\n",
       "      <td>Mantenimiento</td>\n",
       "      <td>MASC</td>\n",
       "      <td>1</td>\n",
       "    </tr>\n",
       "    <tr>\n",
       "      <th>3403924</th>\n",
       "      <td>Mantenimiento</td>\n",
       "      <td>MASC</td>\n",
       "      <td>1</td>\n",
       "    </tr>\n",
       "    <tr>\n",
       "      <th>3403925</th>\n",
       "      <td>Producción</td>\n",
       "      <td>MASC</td>\n",
       "      <td>1</td>\n",
       "    </tr>\n",
       "  </tbody>\n",
       "</table>\n",
       "</div>"
      ],
      "text/plain": [
       "                    nombre_area  sexo  pivot\n",
       "3403921    Mineria/Petroleo/Gas  MASC      1\n",
       "3403922  Ingeniería de Producto  MASC      1\n",
       "3403923           Mantenimiento  MASC      1\n",
       "3403924           Mantenimiento  MASC      1\n",
       "3403925              Producción  MASC      1"
      ]
     },
     "execution_count": 158,
     "metadata": {},
     "output_type": "execute_result"
    }
   ],
   "source": [
    "grupArea_genero=agrupando_genero\n",
    "grupArea_genero['pivot']=1\n",
    "grupArea_genero.tail()"
   ]
  },
  {
   "cell_type": "markdown",
   "metadata": {},
   "source": [
    "* Armo una tabla con los nombre de area y sus respectivos genero(femenino masculino y no_declara)"
   ]
  },
  {
   "cell_type": "code",
   "execution_count": 159,
   "metadata": {
    "collapsed": false
   },
   "outputs": [
    {
     "data": {
      "text/html": [
       "<div>\n",
       "<style scoped>\n",
       "    .dataframe tbody tr th:only-of-type {\n",
       "        vertical-align: middle;\n",
       "    }\n",
       "\n",
       "    .dataframe tbody tr th {\n",
       "        vertical-align: top;\n",
       "    }\n",
       "\n",
       "    .dataframe thead th {\n",
       "        text-align: right;\n",
       "    }\n",
       "</style>\n",
       "<table border=\"1\" class=\"dataframe\">\n",
       "  <thead>\n",
       "    <tr style=\"text-align: right;\">\n",
       "      <th>sexo</th>\n",
       "      <th>FEM</th>\n",
       "      <th>MASC</th>\n",
       "      <th>NO_DECLARA</th>\n",
       "    </tr>\n",
       "    <tr>\n",
       "      <th>nombre_area</th>\n",
       "      <th></th>\n",
       "      <th></th>\n",
       "      <th></th>\n",
       "    </tr>\n",
       "  </thead>\n",
       "  <tbody>\n",
       "    <tr>\n",
       "      <th>Ventas</th>\n",
       "      <td>229674.0</td>\n",
       "      <td>172813.0</td>\n",
       "      <td>5661.0</td>\n",
       "    </tr>\n",
       "    <tr>\n",
       "      <th>Administración</th>\n",
       "      <td>170082.0</td>\n",
       "      <td>118377.0</td>\n",
       "      <td>2676.0</td>\n",
       "    </tr>\n",
       "    <tr>\n",
       "      <th>Recepcionista</th>\n",
       "      <td>125446.0</td>\n",
       "      <td>10716.0</td>\n",
       "      <td>1323.0</td>\n",
       "    </tr>\n",
       "    <tr>\n",
       "      <th>Atención al Cliente</th>\n",
       "      <td>120674.0</td>\n",
       "      <td>72786.0</td>\n",
       "      <td>2176.0</td>\n",
       "    </tr>\n",
       "    <tr>\n",
       "      <th>Comercial</th>\n",
       "      <td>111656.0</td>\n",
       "      <td>102438.0</td>\n",
       "      <td>2583.0</td>\n",
       "    </tr>\n",
       "    <tr>\n",
       "      <th>Call Center</th>\n",
       "      <td>84383.0</td>\n",
       "      <td>40505.0</td>\n",
       "      <td>1542.0</td>\n",
       "    </tr>\n",
       "    <tr>\n",
       "      <th>Telemarketing</th>\n",
       "      <td>55845.0</td>\n",
       "      <td>30455.0</td>\n",
       "      <td>1206.0</td>\n",
       "    </tr>\n",
       "    <tr>\n",
       "      <th>Tesorería</th>\n",
       "      <td>47126.0</td>\n",
       "      <td>30394.0</td>\n",
       "      <td>930.0</td>\n",
       "    </tr>\n",
       "    <tr>\n",
       "      <th>Producción</th>\n",
       "      <td>45077.0</td>\n",
       "      <td>227363.0</td>\n",
       "      <td>4649.0</td>\n",
       "    </tr>\n",
       "    <tr>\n",
       "      <th>Secretaria</th>\n",
       "      <td>37485.0</td>\n",
       "      <td>1393.0</td>\n",
       "      <td>310.0</td>\n",
       "    </tr>\n",
       "  </tbody>\n",
       "</table>\n",
       "</div>"
      ],
      "text/plain": [
       "sexo                      FEM      MASC  NO_DECLARA\n",
       "nombre_area                                        \n",
       "Ventas               229674.0  172813.0      5661.0\n",
       "Administración       170082.0  118377.0      2676.0\n",
       "Recepcionista        125446.0   10716.0      1323.0\n",
       "Atención al Cliente  120674.0   72786.0      2176.0\n",
       "Comercial            111656.0  102438.0      2583.0\n",
       "Call Center           84383.0   40505.0      1542.0\n",
       "Telemarketing         55845.0   30455.0      1206.0\n",
       "Tesorería             47126.0   30394.0       930.0\n",
       "Producción            45077.0  227363.0      4649.0\n",
       "Secretaria            37485.0    1393.0       310.0"
      ]
     },
     "execution_count": 159,
     "metadata": {},
     "output_type": "execute_result"
    }
   ],
   "source": [
    "grupArea_genero=grupArea_genero.pivot_table(values='pivot',index='nombre_area',columns='sexo',aggfunc=np.sum)\n",
    "grupArea_genero=grupArea_genero.sort_values(by=['FEM','MASC','NO_DECLARA'],ascending=False)[:20]\n",
    "grupArea_genero.head(10)"
   ]
  },
  {
   "cell_type": "code",
   "execution_count": 160,
   "metadata": {
    "collapsed": false
   },
   "outputs": [
    {
     "data": {
      "image/png": "[encoded data removed]",
      "text/plain": [
       "<Figure size 1152x576 with 1 Axes>"
      ]
     },
     "metadata": {},
     "output_type": "display_data"
    }
   ],
   "source": [
    "f = plt.figure()\n",
    "\n",
    "ax = grupArea_genero.plot(kind='bar', stacked=False,figsize=(16,8),ax=f.gca(), color=['r','g','m'])\n",
    "handles, labels = ax.get_legend_handles_labels()\n",
    "plt.legend(handles[::-1], labels[::-1],loc='center left', bbox_to_anchor=(1.0, 0.5))\n",
    "ax.set_ylabel('Cantidad de postulantes');\n",
    "ax.set_xlabel('Area de trabajo');\n",
    "ax.set_title('Cantidad de postulantes clasificados por genero para las distintas areas de trabajo', color='black')\n",
    "plt.show()"
   ]
  },
  {
   "cell_type": "code",
   "execution_count": 161,
   "metadata": {
    "collapsed": true
   },
   "outputs": [],
   "source": [
    "## **Conclusión:**\n",
    "### podemos ver que la cantidad de genero no declarados son en definitiva despreciados en cantidad con respecto al los otros gener"
   ]
  },
  {
   "cell_type": "markdown",
   "metadata": {},
   "source": [
    "**7. Postulaciones por cada dia de la semana durante ENERO y FEBRERO**\n",
    "==================================================================="
   ]
  },
  {
   "cell_type": "code",
   "execution_count": 5,
   "metadata": {
    "collapsed": false
   },
   "outputs": [
    {
     "data": {
      "text/html": [
       "<div>\n",
       "<table border=\"1\" class=\"dataframe\">\n",
       "  <thead>\n",
       "    <tr style=\"text-align: right;\">\n",
       "      <th></th>\n",
       "      <th>idaviso</th>\n",
       "      <th>idpostulante</th>\n",
       "      <th>fechapostulacion</th>\n",
       "      <th>Year</th>\n",
       "      <th>Month</th>\n",
       "      <th>Day</th>\n",
       "    </tr>\n",
       "  </thead>\n",
       "  <tbody>\n",
       "    <tr>\n",
       "      <th>0</th>\n",
       "      <td>1112257047</td>\n",
       "      <td>NM5M</td>\n",
       "      <td>2018-01-15 16:22:34</td>\n",
       "      <td>2018</td>\n",
       "      <td>1</td>\n",
       "      <td>15</td>\n",
       "    </tr>\n",
       "    <tr>\n",
       "      <th>1</th>\n",
       "      <td>1111920714</td>\n",
       "      <td>NM5M</td>\n",
       "      <td>2018-02-06 09:04:50</td>\n",
       "      <td>2018</td>\n",
       "      <td>2</td>\n",
       "      <td>6</td>\n",
       "    </tr>\n",
       "    <tr>\n",
       "      <th>2</th>\n",
       "      <td>1112346945</td>\n",
       "      <td>NM5M</td>\n",
       "      <td>2018-02-22 09:04:47</td>\n",
       "      <td>2018</td>\n",
       "      <td>2</td>\n",
       "      <td>22</td>\n",
       "    </tr>\n",
       "    <tr>\n",
       "      <th>3</th>\n",
       "      <td>1112345547</td>\n",
       "      <td>NM5M</td>\n",
       "      <td>2018-02-22 09:04:59</td>\n",
       "      <td>2018</td>\n",
       "      <td>2</td>\n",
       "      <td>22</td>\n",
       "    </tr>\n",
       "    <tr>\n",
       "      <th>4</th>\n",
       "      <td>1112237522</td>\n",
       "      <td>5awk</td>\n",
       "      <td>2018-01-25 18:55:03</td>\n",
       "      <td>2018</td>\n",
       "      <td>1</td>\n",
       "      <td>25</td>\n",
       "    </tr>\n",
       "  </tbody>\n",
       "</table>\n",
       "</div>"
      ],
      "text/plain": [
       "      idaviso idpostulante    fechapostulacion  Year  Month  Day\n",
       "0  1112257047         NM5M 2018-01-15 16:22:34  2018      1   15\n",
       "1  1111920714         NM5M 2018-02-06 09:04:50  2018      2    6\n",
       "2  1112346945         NM5M 2018-02-22 09:04:47  2018      2   22\n",
       "3  1112345547         NM5M 2018-02-22 09:04:59  2018      2   22\n",
       "4  1112237522         5awk 2018-01-25 18:55:03  2018      1   25"
      ]
     },
     "execution_count": 5,
     "metadata": {},
     "output_type": "execute_result"
    }
   ],
   "source": [
    "grup_postulaciones=postulaciones\n",
    "grup_postulaciones['fechapostulacion']=pd.to_datetime(grup_postulaciones['fechapostulacion'],errors='coerce')\n",
    "grup_postulaciones['Year']=grup_postulaciones['fechapostulacion'].map(lambda x:x.year)\n",
    "grup_postulaciones['Year']=grup_postulaciones['Year'].fillna(0).astype(int)\n",
    "grup_postulaciones['Month']=grup_postulaciones['fechapostulacion'].map(lambda y:y.month)\n",
    "grup_postulaciones['Month']=grup_postulaciones['Month'].fillna(0).astype(int)\n",
    "grup_postulaciones['Day']=grup_postulaciones['fechapostulacion'].map(lambda z:z.day)\n",
    "grup_postulaciones['Day']=grup_postulaciones['Day'].fillna(0).astype(int)\n",
    "grup_postulaciones.head()"
   ]
  },
  {
   "cell_type": "code",
   "execution_count": 6,
   "metadata": {
    "collapsed": false
   },
   "outputs": [
    {
     "data": {
      "text/plain": [
       "array([1, 2])"
      ]
     },
     "execution_count": 6,
     "metadata": {},
     "output_type": "execute_result"
    }
   ],
   "source": [
    "grup_postulaciones.Month.unique()"
   ]
  },
  {
   "cell_type": "code",
   "execution_count": 7,
   "metadata": {
    "collapsed": false
   },
   "outputs": [
    {
     "data": {
      "text/plain": [
       "array([2018])"
      ]
     },
     "execution_count": 7,
     "metadata": {},
     "output_type": "execute_result"
    }
   ],
   "source": [
    "grup_postulaciones.Year.unique()"
   ]
  },
  {
   "cell_type": "code",
   "execution_count": 8,
   "metadata": {
    "collapsed": false
   },
   "outputs": [
    {
     "data": {
      "text/html": [
       "<div>\n",
       "<table border=\"1\" class=\"dataframe\">\n",
       "  <thead>\n",
       "    <tr style=\"text-align: right;\">\n",
       "      <th></th>\n",
       "      <th>idaviso</th>\n",
       "      <th>idpostulante</th>\n",
       "      <th>fechapostulacion</th>\n",
       "      <th>Year</th>\n",
       "      <th>Month</th>\n",
       "      <th>Day</th>\n",
       "      <th>Day of week</th>\n",
       "    </tr>\n",
       "  </thead>\n",
       "  <tbody>\n",
       "    <tr>\n",
       "      <th>0</th>\n",
       "      <td>1112257047</td>\n",
       "      <td>NM5M</td>\n",
       "      <td>2018-01-15 16:22:34</td>\n",
       "      <td>2018</td>\n",
       "      <td>1</td>\n",
       "      <td>15</td>\n",
       "      <td>2018</td>\n",
       "    </tr>\n",
       "    <tr>\n",
       "      <th>1</th>\n",
       "      <td>1111920714</td>\n",
       "      <td>NM5M</td>\n",
       "      <td>2018-02-06 09:04:50</td>\n",
       "      <td>2018</td>\n",
       "      <td>2</td>\n",
       "      <td>6</td>\n",
       "      <td>2018</td>\n",
       "    </tr>\n",
       "    <tr>\n",
       "      <th>2</th>\n",
       "      <td>1112346945</td>\n",
       "      <td>NM5M</td>\n",
       "      <td>2018-02-22 09:04:47</td>\n",
       "      <td>2018</td>\n",
       "      <td>2</td>\n",
       "      <td>22</td>\n",
       "      <td>2018</td>\n",
       "    </tr>\n",
       "    <tr>\n",
       "      <th>3</th>\n",
       "      <td>1112345547</td>\n",
       "      <td>NM5M</td>\n",
       "      <td>2018-02-22 09:04:59</td>\n",
       "      <td>2018</td>\n",
       "      <td>2</td>\n",
       "      <td>22</td>\n",
       "      <td>2018</td>\n",
       "    </tr>\n",
       "    <tr>\n",
       "      <th>4</th>\n",
       "      <td>1112237522</td>\n",
       "      <td>5awk</td>\n",
       "      <td>2018-01-25 18:55:03</td>\n",
       "      <td>2018</td>\n",
       "      <td>1</td>\n",
       "      <td>25</td>\n",
       "      <td>2018</td>\n",
       "    </tr>\n",
       "  </tbody>\n",
       "</table>\n",
       "</div>"
      ],
      "text/plain": [
       "      idaviso idpostulante    fechapostulacion  Year  Month  Day Day of week\n",
       "0  1112257047         NM5M 2018-01-15 16:22:34  2018      1   15        2018\n",
       "1  1111920714         NM5M 2018-02-06 09:04:50  2018      2    6        2018\n",
       "2  1112346945         NM5M 2018-02-22 09:04:47  2018      2   22        2018\n",
       "3  1112345547         NM5M 2018-02-22 09:04:59  2018      2   22        2018\n",
       "4  1112237522         5awk 2018-01-25 18:55:03  2018      1   25        2018"
      ]
     },
     "execution_count": 8,
     "metadata": {},
     "output_type": "execute_result"
    }
   ],
   "source": [
    "# cambiamos los numeros de dias por el nombre del día que le corresponde\n",
    "import datetime, locale\n",
    "locale.setlocale(locale.LC_ALL, '')\n",
    "grup_postulaciones['Day of week']=grup_postulaciones['fechapostulacion'].dt.strftime(\"%Y\")\n",
    "grup_postulaciones.head()"
   ]
  },
  {
   "cell_type": "code",
   "execution_count": 9,
   "metadata": {
    "collapsed": false
   },
   "outputs": [
    {
     "data": {
      "text/html": [
       "<div>\n",
       "<table border=\"1\" class=\"dataframe\">\n",
       "  <thead>\n",
       "    <tr style=\"text-align: right;\">\n",
       "      <th></th>\n",
       "      <th>idpostulante</th>\n",
       "      <th>Month</th>\n",
       "      <th>Day of week</th>\n",
       "      <th>pivot</th>\n",
       "    </tr>\n",
       "  </thead>\n",
       "  <tbody>\n",
       "    <tr>\n",
       "      <th>0</th>\n",
       "      <td>NM5M</td>\n",
       "      <td>1</td>\n",
       "      <td>2018</td>\n",
       "      <td>1</td>\n",
       "    </tr>\n",
       "    <tr>\n",
       "      <th>1</th>\n",
       "      <td>NM5M</td>\n",
       "      <td>2</td>\n",
       "      <td>2018</td>\n",
       "      <td>1</td>\n",
       "    </tr>\n",
       "    <tr>\n",
       "      <th>2</th>\n",
       "      <td>NM5M</td>\n",
       "      <td>2</td>\n",
       "      <td>2018</td>\n",
       "      <td>1</td>\n",
       "    </tr>\n",
       "    <tr>\n",
       "      <th>3</th>\n",
       "      <td>NM5M</td>\n",
       "      <td>2</td>\n",
       "      <td>2018</td>\n",
       "      <td>1</td>\n",
       "    </tr>\n",
       "    <tr>\n",
       "      <th>4</th>\n",
       "      <td>5awk</td>\n",
       "      <td>1</td>\n",
       "      <td>2018</td>\n",
       "      <td>1</td>\n",
       "    </tr>\n",
       "  </tbody>\n",
       "</table>\n",
       "</div>"
      ],
      "text/plain": [
       "  idpostulante  Month Day of week  pivot\n",
       "0         NM5M      1        2018      1\n",
       "1         NM5M      2        2018      1\n",
       "2         NM5M      2        2018      1\n",
       "3         NM5M      2        2018      1\n",
       "4         5awk      1        2018      1"
      ]
     },
     "execution_count": 9,
     "metadata": {},
     "output_type": "execute_result"
    }
   ],
   "source": [
    "# me quedo con la columna idpostulante, mes, año y dia\n",
    "selecc_postulaciones=grup_postulaciones[['idpostulante','Month','Day of week']]\n",
    "selecc_postulaciones['pivot']=1\n",
    "selecc_postulaciones.head()"
   ]
  },
  {
   "cell_type": "code",
   "execution_count": 10,
   "metadata": {
    "collapsed": false
   },
   "outputs": [
    {
     "data": {
      "text/html": [
       "<div>\n",
       "<table border=\"1\" class=\"dataframe\">\n",
       "  <thead>\n",
       "    <tr style=\"text-align: right;\">\n",
       "      <th></th>\n",
       "      <th>ENERO</th>\n",
       "      <th>FEBRERO</th>\n",
       "    </tr>\n",
       "    <tr>\n",
       "      <th>Day of week</th>\n",
       "      <th></th>\n",
       "      <th></th>\n",
       "    </tr>\n",
       "  </thead>\n",
       "  <tbody>\n",
       "    <tr>\n",
       "      <th>2018</th>\n",
       "      <td>1276198</td>\n",
       "      <td>2125425</td>\n",
       "    </tr>\n",
       "  </tbody>\n",
       "</table>\n",
       "</div>"
      ],
      "text/plain": [
       "               ENERO  FEBRERO\n",
       "Day of week                  \n",
       "2018         1276198  2125425"
      ]
     },
     "execution_count": 10,
     "metadata": {},
     "output_type": "execute_result"
    }
   ],
   "source": [
    "selecc_postulaciones=selecc_postulaciones.pivot_table(values='pivot',index='Day of week',columns='Month',aggfunc=np.sum)\n",
    "selecc_postulaciones.columns=['ENERO','FEBRERO']\n",
    "selecc_postulaciones"
   ]
  },
  {
   "cell_type": "code",
   "execution_count": 11,
   "metadata": {
    "collapsed": false
   },
   "outputs": [
    {
     "data": {
      "text/plain": [
       "{'domingo': 0,\n",
       " 'jueves': 4,\n",
       " 'lunes': 1,\n",
       " 'martes': 2,\n",
       " 'mi\\xc3\\xa9rcoles': 3,\n",
       " 's\\xc3\\xa1bado': 6,\n",
       " 'viernes': 5}"
      ]
     },
     "execution_count": 11,
     "metadata": {},
     "output_type": "execute_result"
    }
   ],
   "source": [
    "sorter = ['domingo', 'lunes', 'martes', 'miércoles', 'jueves', 'viernes', 'sábado']\n",
    "sorterIndex = dict(zip(sorter,range(len(sorter))))\n",
    "sorterIndex"
   ]
  },
  {
   "cell_type": "code",
   "execution_count": 12,
   "metadata": {
    "collapsed": false
   },
   "outputs": [
    {
     "data": {
      "text/html": [
       "<div>\n",
       "<table border=\"1\" class=\"dataframe\">\n",
       "  <thead>\n",
       "    <tr style=\"text-align: right;\">\n",
       "      <th></th>\n",
       "      <th>ENERO</th>\n",
       "      <th>FEBRERO</th>\n",
       "      <th>Day_id</th>\n",
       "    </tr>\n",
       "    <tr>\n",
       "      <th>Day of week</th>\n",
       "      <th></th>\n",
       "      <th></th>\n",
       "      <th></th>\n",
       "    </tr>\n",
       "  </thead>\n",
       "  <tbody>\n",
       "    <tr>\n",
       "      <th>2018</th>\n",
       "      <td>1276198</td>\n",
       "      <td>2125425</td>\n",
       "      <td>NaN</td>\n",
       "    </tr>\n",
       "  </tbody>\n",
       "</table>\n",
       "</div>"
      ],
      "text/plain": [
       "               ENERO  FEBRERO  Day_id\n",
       "Day of week                          \n",
       "2018         1276198  2125425     NaN"
      ]
     },
     "execution_count": 12,
     "metadata": {},
     "output_type": "execute_result"
    }
   ],
   "source": [
    "selecc_postulaciones['Day_id'] = selecc_postulaciones.index\n",
    "selecc_postulaciones['Day_id'] = selecc_postulaciones['Day_id'].map(sorterIndex)\n",
    "selecc_postulaciones=selecc_postulaciones.sort_values(by=['Day_id'],ascending=True)\n",
    "selecc_postulaciones\n"
   ]
  },
  {
   "cell_type": "code",
   "execution_count": 13,
   "metadata": {
    "collapsed": false
   },
   "outputs": [
    {
     "data": {
      "image/png": "[encoded data removed]",
      "text/plain": [
       "<matplotlib.figure.Figure at 0x7fd274382c10>"
      ]
     },
     "metadata": {},
     "output_type": "display_data"
    }
   ],
   "source": [
    "#elimino la columna day_id \n",
    "selecc_postulaciones=selecc_postulaciones[['ENERO','FEBRERO' ]]\n",
    "f = plt.figure()\n",
    "plt.title('Postulaciones por cada dia de la semana durante ENERO y FEBRERO', color='black')\n",
    "ax = selecc_postulaciones.plot(kind='bar', stacked=False,figsize=(16,8),ax=f.gca(),color=['m','b'])\n",
    "handles, labels = ax.get_legend_handles_labels()\n",
    "plt.legend(handles[::-1], labels[::-1],loc='center left', bbox_to_anchor=(1.0, 0.5))\n",
    "ax.set_ylabel('Cantidad de postulaciones');\n",
    "ax.set_xlabel('Day of week');\n",
    "plt.show()"
   ]
  },
  {
   "cell_type": "markdown",
   "metadata": {},
   "source": [
    "**_8. grafico boxplot de visitas dia por hora_**\n",
    "==================================================="
   ]
  },
  {
   "cell_type": "markdown",
   "metadata": {},
   "source": [
    "## Hipotesis:  La hora con más actividad en internet se corresponde con la hora de comer, osea las 3PM"
   ]
  },
  {
   "cell_type": "code",
   "execution_count": 37,
   "metadata": {
    "collapsed": false
   },
   "outputs": [
    {
     "data": {
      "image/png": "[encoded data removed]",
      "text/plain": [
       "<matplotlib.figure.Figure at 0x7fd2777fce90>"
      ]
     },
     "metadata": {},
     "output_type": "display_data"
    }
   ],
   "source": [
    "visi3=vistasFebrero[['Dia','Hora']]\n",
    "ax =visi3.boxplot(rot=45, fontsize=20, figsize = (15,8) ,by='Dia')\n",
    "  \n",
    "ax.set_ylabel(\"Hora\", fontsize=20)\n",
    "ax.set_title('Visitas dia por hora', fontsize = 20)\n",
    "ax.set_xlabel('Dia', fontsize = 20);"
   ]
  },
  {
   "cell_type": "markdown",
   "metadata": {},
   "source": [
    "## **Conclusión**:\n",
    "###  Vemos que la mediana en horas los viernes es de 20 hrs, mientras que los otros dias es 15 hrs(excepto el sabado) vemos que en el sabado la  parte baja de la caja es mayor que la de arriba; ello quiere decir que las horas  comprendidas entre el 25% y el 50% de ese dia está más dispersa que entre el 50% y el 75%,idem con el viernes, y en los demas la mediana esta en el centro y es simetrica la distribucion de horas.Esto nos podria servir para detectar cuando es el momento de ofrecer anuncios importantes a los postulantes.\n"
   ]
  },
  {
   "cell_type": "markdown",
   "metadata": {},
   "source": [
    "**9. Hora en el dia que mas se postulan**\n",
    "=========================================="
   ]
  },
  {
   "cell_type": "markdown",
   "metadata": {},
   "source": [
    "## Hipotesis:  La hora con más actividad en internet se corresponde con la hora de comer, osea las 3PM,entonces a esa hora es mas probable que se postulen"
   ]
  },
  {
   "cell_type": "code",
   "execution_count": 46,
   "metadata": {
    "collapsed": false
   },
   "outputs": [
    {
     "data": {
      "image/png": "[encoded data removed]",
      "text/plain": [
       "<matplotlib.figure.Figure at 0x7fd27b29c050>"
      ]
     },
     "metadata": {},
     "output_type": "display_data"
    }
   ],
   "source": [
    "visualizacionvistasporhora=visualizacionVistasPorDia.groupby('Hora')['idpostulante'].agg(['count']).reset_index()\n",
    "\n",
    "ax =visualizacionvistasporhora.plot.scatter('Hora','count',alpha=0.25,figsize=(12,8),color='Black');\n",
    "\n",
    "  \n",
    "ax.set_ylabel(\"Cantidadde postulaciones\", fontsize=20)\n",
    "ax.set_title('Cantidad de postulaciones por hora', fontsize = 20)\n",
    "ax.set_xlabel('Hora', fontsize = 20);"
   ]
  },
  {
   "cell_type": "markdown",
   "metadata": {},
   "source": [
    "## **Conclusión:**\n",
    "## La hipotesis fue correcta, alcanza un pico en las 15 horas, mientras que entre las 5 y 10 horas son las que menos se postulan,entonces podriamos mostrar anuncios que mas nos interesen mostrar a los postulantes durante esa hora."
   ]
  },
  {
   "cell_type": "markdown",
   "metadata": {},
   "source": [
    "### A partir de los dataFrames avisosCABA_GBA, postulantes y postulaciones obtengo un unico dataFrame con el cual vamos a trabajar de ahora en adelante"
   ]
  },
  {
   "cell_type": "markdown",
   "metadata": {},
   "source": [
    "Primero mergeamos los dataFrames postulaciones y postulantes por el campo \"idpostulante\"\n"
   ]
  },
  {
   "cell_type": "code",
   "execution_count": 173,
   "metadata": {
    "collapsed": false
   },
   "outputs": [
    {
     "data": {
      "text/html": [
       "<div>\n",
       "<style scoped>\n",
       "    .dataframe tbody tr th:only-of-type {\n",
       "        vertical-align: middle;\n",
       "    }\n",
       "\n",
       "    .dataframe tbody tr th {\n",
       "        vertical-align: top;\n",
       "    }\n",
       "\n",
       "    .dataframe thead th {\n",
       "        text-align: right;\n",
       "    }\n",
       "</style>\n",
       "<table border=\"1\" class=\"dataframe\">\n",
       "  <thead>\n",
       "    <tr style=\"text-align: right;\">\n",
       "      <th></th>\n",
       "      <th>idpostulante</th>\n",
       "      <th>nombre</th>\n",
       "      <th>estado</th>\n",
       "      <th>fechanacimiento</th>\n",
       "      <th>sexo</th>\n",
       "      <th>idaviso</th>\n",
       "      <th>fechapostulacion</th>\n",
       "      <th>Year</th>\n",
       "      <th>Month</th>\n",
       "      <th>Day</th>\n",
       "      <th>Day of week</th>\n",
       "    </tr>\n",
       "  </thead>\n",
       "  <tbody>\n",
       "    <tr>\n",
       "      <th>0</th>\n",
       "      <td>NdJl</td>\n",
       "      <td>Posgrado</td>\n",
       "      <td>En Curso</td>\n",
       "      <td>1969-05-09</td>\n",
       "      <td>MASC</td>\n",
       "      <td>1112261212</td>\n",
       "      <td>2018-01-16 08:50:30</td>\n",
       "      <td>2018</td>\n",
       "      <td>1</td>\n",
       "      <td>16</td>\n",
       "      <td>2018</td>\n",
       "    </tr>\n",
       "    <tr>\n",
       "      <th>1</th>\n",
       "      <td>NdJl</td>\n",
       "      <td>Posgrado</td>\n",
       "      <td>En Curso</td>\n",
       "      <td>1969-05-09</td>\n",
       "      <td>MASC</td>\n",
       "      <td>1112273308</td>\n",
       "      <td>2018-01-23 07:53:47</td>\n",
       "      <td>2018</td>\n",
       "      <td>1</td>\n",
       "      <td>23</td>\n",
       "      <td>2018</td>\n",
       "    </tr>\n",
       "    <tr>\n",
       "      <th>2</th>\n",
       "      <td>NdJl</td>\n",
       "      <td>Posgrado</td>\n",
       "      <td>En Curso</td>\n",
       "      <td>1969-05-09</td>\n",
       "      <td>MASC</td>\n",
       "      <td>1112281548</td>\n",
       "      <td>2018-01-24 05:10:12</td>\n",
       "      <td>2018</td>\n",
       "      <td>1</td>\n",
       "      <td>24</td>\n",
       "      <td>2018</td>\n",
       "    </tr>\n",
       "    <tr>\n",
       "      <th>3</th>\n",
       "      <td>NdJl</td>\n",
       "      <td>Posgrado</td>\n",
       "      <td>En Curso</td>\n",
       "      <td>1969-05-09</td>\n",
       "      <td>MASC</td>\n",
       "      <td>1112260409</td>\n",
       "      <td>2018-01-24 05:17:29</td>\n",
       "      <td>2018</td>\n",
       "      <td>1</td>\n",
       "      <td>24</td>\n",
       "      <td>2018</td>\n",
       "    </tr>\n",
       "    <tr>\n",
       "      <th>4</th>\n",
       "      <td>NdJl</td>\n",
       "      <td>Posgrado</td>\n",
       "      <td>En Curso</td>\n",
       "      <td>1969-05-09</td>\n",
       "      <td>MASC</td>\n",
       "      <td>1112293547</td>\n",
       "      <td>2018-01-29 15:41:43</td>\n",
       "      <td>2018</td>\n",
       "      <td>1</td>\n",
       "      <td>29</td>\n",
       "      <td>2018</td>\n",
       "    </tr>\n",
       "  </tbody>\n",
       "</table>\n",
       "</div>"
      ],
      "text/plain": [
       "  idpostulante    nombre    estado fechanacimiento  sexo     idaviso  \\\n",
       "0         NdJl  Posgrado  En Curso      1969-05-09  MASC  1112261212   \n",
       "1         NdJl  Posgrado  En Curso      1969-05-09  MASC  1112273308   \n",
       "2         NdJl  Posgrado  En Curso      1969-05-09  MASC  1112281548   \n",
       "3         NdJl  Posgrado  En Curso      1969-05-09  MASC  1112260409   \n",
       "4         NdJl  Posgrado  En Curso      1969-05-09  MASC  1112293547   \n",
       "\n",
       "     fechapostulacion  Year  Month  Day Day of week  \n",
       "0 2018-01-16 08:50:30  2018      1   16        2018  \n",
       "1 2018-01-23 07:53:47  2018      1   23        2018  \n",
       "2 2018-01-24 05:10:12  2018      1   24        2018  \n",
       "3 2018-01-24 05:17:29  2018      1   24        2018  \n",
       "4 2018-01-29 15:41:43  2018      1   29        2018  "
      ]
     },
     "execution_count": 173,
     "metadata": {},
     "output_type": "execute_result"
    }
   ],
   "source": [
    "data = pd.merge(postulantes, postulaciones, on='idpostulante', how='outer')\n",
    "data.head()"
   ]
  },
  {
   "cell_type": "code",
   "execution_count": 174,
   "metadata": {
    "collapsed": false
   },
   "outputs": [
    {
     "name": "stdout",
     "output_type": "stream",
     "text": [
      "<class 'pandas.core.frame.DataFrame'>\n",
      "Int64Index: 5630562 entries, 0 to 5630561\n",
      "Data columns (total 11 columns):\n",
      "idpostulante        object\n",
      "nombre              object\n",
      "estado              object\n",
      "fechanacimiento     object\n",
      "sexo                object\n",
      "idaviso             int64\n",
      "fechapostulacion    datetime64[ns]\n",
      "Year                int64\n",
      "Month               int64\n",
      "Day                 int64\n",
      "Day of week         object\n",
      "dtypes: datetime64[ns](1), int64(4), object(6)\n",
      "memory usage: 515.5+ MB\n"
     ]
    }
   ],
   "source": [
    "data.info()"
   ]
  },
  {
   "cell_type": "markdown",
   "metadata": {},
   "source": [
    "Y ahora mergeamos el dataFrame anterior con avisos por el campo \"idaviso\"s "
   ]
  },
  {
   "cell_type": "code",
   "execution_count": 175,
   "metadata": {
    "collapsed": false
   },
   "outputs": [
    {
     "data": {
      "text/html": [
       "<div>\n",
       "<style scoped>\n",
       "    .dataframe tbody tr th:only-of-type {\n",
       "        vertical-align: middle;\n",
       "    }\n",
       "\n",
       "    .dataframe tbody tr th {\n",
       "        vertical-align: top;\n",
       "    }\n",
       "\n",
       "    .dataframe thead th {\n",
       "        text-align: right;\n",
       "    }\n",
       "</style>\n",
       "<table border=\"1\" class=\"dataframe\">\n",
       "  <thead>\n",
       "    <tr style=\"text-align: right;\">\n",
       "      <th></th>\n",
       "      <th>idpostulante</th>\n",
       "      <th>nombre</th>\n",
       "      <th>estado</th>\n",
       "      <th>fechanacimiento</th>\n",
       "      <th>sexo</th>\n",
       "      <th>idaviso</th>\n",
       "      <th>fechapostulacion</th>\n",
       "      <th>Year</th>\n",
       "      <th>Month</th>\n",
       "      <th>Day</th>\n",
       "      <th>...</th>\n",
       "      <th>idpais</th>\n",
       "      <th>titulo</th>\n",
       "      <th>descripcion</th>\n",
       "      <th>nombre_zona</th>\n",
       "      <th>ciudad</th>\n",
       "      <th>mapacalle</th>\n",
       "      <th>tipo_de_trabajo</th>\n",
       "      <th>nivel_laboral</th>\n",
       "      <th>nombre_area</th>\n",
       "      <th>denominacion_empresa</th>\n",
       "    </tr>\n",
       "  </thead>\n",
       "  <tbody>\n",
       "    <tr>\n",
       "      <th>0</th>\n",
       "      <td>NdJl</td>\n",
       "      <td>Posgrado</td>\n",
       "      <td>En Curso</td>\n",
       "      <td>1969-05-09</td>\n",
       "      <td>MASC</td>\n",
       "      <td>1112261212</td>\n",
       "      <td>2018-01-16 08:50:30</td>\n",
       "      <td>2018.0</td>\n",
       "      <td>1.0</td>\n",
       "      <td>16.0</td>\n",
       "      <td>...</td>\n",
       "      <td>1.0</td>\n",
       "      <td>Jóvenes Profesionales - Responsable Administra...</td>\n",
       "      <td>&lt;p&gt;Nos encontramos en la búsqueda de un&lt;strong...</td>\n",
       "      <td>Gran Buenos Aires</td>\n",
       "      <td>NaN</td>\n",
       "      <td>NaN</td>\n",
       "      <td>Full-time</td>\n",
       "      <td>Jefe / Supervisor / Responsable</td>\n",
       "      <td>Administración</td>\n",
       "      <td>EDUCADO EN ARGENTINA</td>\n",
       "    </tr>\n",
       "    <tr>\n",
       "      <th>1</th>\n",
       "      <td>NdJl</td>\n",
       "      <td>Universitario</td>\n",
       "      <td>Graduado</td>\n",
       "      <td>1969-05-09</td>\n",
       "      <td>MASC</td>\n",
       "      <td>1112261212</td>\n",
       "      <td>2018-01-16 08:50:30</td>\n",
       "      <td>2018.0</td>\n",
       "      <td>1.0</td>\n",
       "      <td>16.0</td>\n",
       "      <td>...</td>\n",
       "      <td>1.0</td>\n",
       "      <td>Jóvenes Profesionales - Responsable Administra...</td>\n",
       "      <td>&lt;p&gt;Nos encontramos en la búsqueda de un&lt;strong...</td>\n",
       "      <td>Gran Buenos Aires</td>\n",
       "      <td>NaN</td>\n",
       "      <td>NaN</td>\n",
       "      <td>Full-time</td>\n",
       "      <td>Jefe / Supervisor / Responsable</td>\n",
       "      <td>Administración</td>\n",
       "      <td>EDUCADO EN ARGENTINA</td>\n",
       "    </tr>\n",
       "    <tr>\n",
       "      <th>2</th>\n",
       "      <td>EppJmb</td>\n",
       "      <td>Universitario</td>\n",
       "      <td>En Curso</td>\n",
       "      <td>1960-06-20</td>\n",
       "      <td>MASC</td>\n",
       "      <td>1112261212</td>\n",
       "      <td>2018-01-16 18:51:39</td>\n",
       "      <td>2018.0</td>\n",
       "      <td>1.0</td>\n",
       "      <td>16.0</td>\n",
       "      <td>...</td>\n",
       "      <td>1.0</td>\n",
       "      <td>Jóvenes Profesionales - Responsable Administra...</td>\n",
       "      <td>&lt;p&gt;Nos encontramos en la búsqueda de un&lt;strong...</td>\n",
       "      <td>Gran Buenos Aires</td>\n",
       "      <td>NaN</td>\n",
       "      <td>NaN</td>\n",
       "      <td>Full-time</td>\n",
       "      <td>Jefe / Supervisor / Responsable</td>\n",
       "      <td>Administración</td>\n",
       "      <td>EDUCADO EN ARGENTINA</td>\n",
       "    </tr>\n",
       "    <tr>\n",
       "      <th>3</th>\n",
       "      <td>EppJmb</td>\n",
       "      <td>Universitario</td>\n",
       "      <td>Graduado</td>\n",
       "      <td>1960-06-20</td>\n",
       "      <td>MASC</td>\n",
       "      <td>1112261212</td>\n",
       "      <td>2018-01-16 18:51:39</td>\n",
       "      <td>2018.0</td>\n",
       "      <td>1.0</td>\n",
       "      <td>16.0</td>\n",
       "      <td>...</td>\n",
       "      <td>1.0</td>\n",
       "      <td>Jóvenes Profesionales - Responsable Administra...</td>\n",
       "      <td>&lt;p&gt;Nos encontramos en la búsqueda de un&lt;strong...</td>\n",
       "      <td>Gran Buenos Aires</td>\n",
       "      <td>NaN</td>\n",
       "      <td>NaN</td>\n",
       "      <td>Full-time</td>\n",
       "      <td>Jefe / Supervisor / Responsable</td>\n",
       "      <td>Administración</td>\n",
       "      <td>EDUCADO EN ARGENTINA</td>\n",
       "    </tr>\n",
       "    <tr>\n",
       "      <th>4</th>\n",
       "      <td>8Zr1GD</td>\n",
       "      <td>Terciario/Técnico</td>\n",
       "      <td>En Curso</td>\n",
       "      <td>1975-06-29</td>\n",
       "      <td>MASC</td>\n",
       "      <td>1112261212</td>\n",
       "      <td>2018-01-17 10:08:22</td>\n",
       "      <td>2018.0</td>\n",
       "      <td>1.0</td>\n",
       "      <td>17.0</td>\n",
       "      <td>...</td>\n",
       "      <td>1.0</td>\n",
       "      <td>Jóvenes Profesionales - Responsable Administra...</td>\n",
       "      <td>&lt;p&gt;Nos encontramos en la búsqueda de un&lt;strong...</td>\n",
       "      <td>Gran Buenos Aires</td>\n",
       "      <td>NaN</td>\n",
       "      <td>NaN</td>\n",
       "      <td>Full-time</td>\n",
       "      <td>Jefe / Supervisor / Responsable</td>\n",
       "      <td>Administración</td>\n",
       "      <td>EDUCADO EN ARGENTINA</td>\n",
       "    </tr>\n",
       "  </tbody>\n",
       "</table>\n",
       "<p>5 rows × 21 columns</p>\n",
       "</div>"
      ],
      "text/plain": [
       "  idpostulante             nombre    estado fechanacimiento  sexo     idaviso  \\\n",
       "0         NdJl           Posgrado  En Curso      1969-05-09  MASC  1112261212   \n",
       "1         NdJl      Universitario  Graduado      1969-05-09  MASC  1112261212   \n",
       "2       EppJmb      Universitario  En Curso      1960-06-20  MASC  1112261212   \n",
       "3       EppJmb      Universitario  Graduado      1960-06-20  MASC  1112261212   \n",
       "4       8Zr1GD  Terciario/Técnico  En Curso      1975-06-29  MASC  1112261212   \n",
       "\n",
       "     fechapostulacion    Year  Month   Day          ...          idpais  \\\n",
       "0 2018-01-16 08:50:30  2018.0    1.0  16.0          ...             1.0   \n",
       "1 2018-01-16 08:50:30  2018.0    1.0  16.0          ...             1.0   \n",
       "2 2018-01-16 18:51:39  2018.0    1.0  16.0          ...             1.0   \n",
       "3 2018-01-16 18:51:39  2018.0    1.0  16.0          ...             1.0   \n",
       "4 2018-01-17 10:08:22  2018.0    1.0  17.0          ...             1.0   \n",
       "\n",
       "                                              titulo  \\\n",
       "0  Jóvenes Profesionales - Responsable Administra...   \n",
       "1  Jóvenes Profesionales - Responsable Administra...   \n",
       "2  Jóvenes Profesionales - Responsable Administra...   \n",
       "3  Jóvenes Profesionales - Responsable Administra...   \n",
       "4  Jóvenes Profesionales - Responsable Administra...   \n",
       "\n",
       "                                         descripcion        nombre_zona  \\\n",
       "0  <p>Nos encontramos en la búsqueda de un<strong...  Gran Buenos Aires   \n",
       "1  <p>Nos encontramos en la búsqueda de un<strong...  Gran Buenos Aires   \n",
       "2  <p>Nos encontramos en la búsqueda de un<strong...  Gran Buenos Aires   \n",
       "3  <p>Nos encontramos en la búsqueda de un<strong...  Gran Buenos Aires   \n",
       "4  <p>Nos encontramos en la búsqueda de un<strong...  Gran Buenos Aires   \n",
       "\n",
       "  ciudad mapacalle tipo_de_trabajo                    nivel_laboral  \\\n",
       "0    NaN       NaN       Full-time  Jefe / Supervisor / Responsable   \n",
       "1    NaN       NaN       Full-time  Jefe / Supervisor / Responsable   \n",
       "2    NaN       NaN       Full-time  Jefe / Supervisor / Responsable   \n",
       "3    NaN       NaN       Full-time  Jefe / Supervisor / Responsable   \n",
       "4    NaN       NaN       Full-time  Jefe / Supervisor / Responsable   \n",
       "\n",
       "      nombre_area  denominacion_empresa  \n",
       "0  Administración  EDUCADO EN ARGENTINA  \n",
       "1  Administración  EDUCADO EN ARGENTINA  \n",
       "2  Administración  EDUCADO EN ARGENTINA  \n",
       "3  Administración  EDUCADO EN ARGENTINA  \n",
       "4  Administración  EDUCADO EN ARGENTINA  \n",
       "\n",
       "[5 rows x 21 columns]"
      ]
     },
     "execution_count": 175,
     "metadata": {},
     "output_type": "execute_result"
    }
   ],
   "source": [
    "dataFrame = pd.merge(data, avisos, on='idaviso', how='outer')\n",
    "\n",
    "dataFrame.head()"
   ]
  },
  {
   "cell_type": "markdown",
   "metadata": {},
   "source": [
    "A partir de ahora vamos a trabajar con este dataFrame, el cual contiene la informacion de los anteriores\n",
    "\n",
    "### Verificamos sus tipos"
   ]
  },
  {
   "cell_type": "code",
   "execution_count": 176,
   "metadata": {
    "collapsed": false
   },
   "outputs": [
    {
     "name": "stdout",
     "output_type": "stream",
     "text": [
      "<class 'pandas.core.frame.DataFrame'>\n",
      "Int64Index: 5632866 entries, 0 to 5632865\n",
      "Data columns (total 21 columns):\n",
      "idpostulante            object\n",
      "nombre                  object\n",
      "estado                  object\n",
      "fechanacimiento         object\n",
      "sexo                    object\n",
      "idaviso                 int64\n",
      "fechapostulacion        datetime64[ns]\n",
      "Year                    float64\n",
      "Month                   float64\n",
      "Day                     float64\n",
      "Day of week             object\n",
      "idpais                  float64\n",
      "titulo                  object\n",
      "descripcion             object\n",
      "nombre_zona             object\n",
      "ciudad                  object\n",
      "mapacalle               object\n",
      "tipo_de_trabajo         object\n",
      "nivel_laboral           object\n",
      "nombre_area             object\n",
      "denominacion_empresa    object\n",
      "dtypes: datetime64[ns](1), float64(4), int64(1), object(15)\n",
      "memory usage: 945.5+ MB\n"
     ]
    }
   ],
   "source": [
    "dataFrame.info()"
   ]
  },
  {
   "cell_type": "markdown",
   "metadata": {},
   "source": [
    "### Agrupamos todos los avisos que corresponden al mismo area y vemos cuales son las que cuentan con mayor cantidad de publicaciones.\n"
   ]
  },
  {
   "cell_type": "code",
   "execution_count": 177,
   "metadata": {
    "collapsed": false
   },
   "outputs": [
    {
     "data": {
      "text/plain": [
       "nombre_area\n",
       "Ventas                 656473\n",
       "Administración         520098\n",
       "Comercial              370672\n",
       "Producción             367181\n",
       "Atención al Cliente    331374\n",
       "Name: idaviso, dtype: int64"
      ]
     },
     "execution_count": 177,
     "metadata": {},
     "output_type": "execute_result"
    }
   ],
   "source": [
    "dataFrame.groupby('nombre_area')['idaviso'].count().sort_values(ascending = False).head()"
   ]
  },
  {
   "cell_type": "markdown",
   "metadata": {},
   "source": [
    "Visualizamos los resultados con un grafico de  barras"
   ]
  },
  {
   "cell_type": "code",
   "execution_count": 178,
   "metadata": {
    "collapsed": false
   },
   "outputs": [
    {
     "data": {
      "image/png": "[encoded data removed]",
      "text/plain": [
       "<Figure size 864x576 with 1 Axes>"
      ]
     },
     "metadata": {},
     "output_type": "display_data"
    }
   ],
   "source": [
    "\n",
    "dataFrame.groupby('nombre_area')['idaviso'].agg('count').sort_values(ascending = False)[0:5].plot(kind='bar', rot=90, figsize=(12,8));\n",
    "\n",
    "plt.title('Areas con mayor cantidad de publicaciones', fontsize=20);\n",
    "plt.xlabel('Area', fontsize=16);\n",
    "plt.ylabel('Cantidad de publicaciones', fontsize=16);"
   ]
  },
  {
   "cell_type": "markdown",
   "metadata": {},
   "source": [
    "### Nos interesaria ver la cantidad de publicaciones que tenemos segun la disponibilidad horaria de los postulantes\n",
    "\n",
    "Para ellos agrupamos por la columna \"tipo_de_trabajo\", y luego contamos la cantidad de avisos que hay de cada tipo (Full-time, Part-time y otros)"
   ]
  },
  {
   "cell_type": "code",
   "execution_count": 179,
   "metadata": {
    "collapsed": false
   },
   "outputs": [
    {
     "data": {
      "text/plain": [
       "tipo_de_trabajo\n",
       "Full-time     4363571\n",
       "Part-time      662800\n",
       "Pasantia        27988\n",
       "Por Horas       17446\n",
       "Temporario      15205\n",
       "Name: idaviso, dtype: int64"
      ]
     },
     "execution_count": 179,
     "metadata": {},
     "output_type": "execute_result"
    }
   ],
   "source": [
    "dataFrame.groupby('tipo_de_trabajo')['idaviso'].count().sort_values(ascending  = False).head()"
   ]
  },
  {
   "cell_type": "markdown",
   "metadata": {},
   "source": [
    "Eliminamos las que tienen el campo \"tipo_de_trabajo\" nulo\n"
   ]
  },
  {
   "cell_type": "code",
   "execution_count": 180,
   "metadata": {
    "collapsed": false
   },
   "outputs": [
    {
     "data": {
      "image/png": "[encoded data removed]",
      "text/plain": [
       "<Figure size 432x432 with 1 Axes>"
      ]
     },
     "metadata": {},
     "output_type": "display_data"
    }
   ],
   "source": [
    "disponibilidades_horarias = dataFrame\n",
    "\n",
    "disponibilidades_horarias.dropna(subset=['tipo_de_trabajo'],inplace=True)\n",
    "\n",
    "full_time = disponibilidades_horarias.loc[disponibilidades_horarias.tipo_de_trabajo.str.contains('Full-time'),:]\n",
    "\n",
    "part_time = disponibilidades_horarias.loc[disponibilidades_horarias.tipo_de_trabajo.str.contains('Part-time'),:]\n",
    "\n",
    "otros = disponibilidades_horarias.loc[~(disponibilidades_horarias.tipo_de_trabajo.str.contains('Full-time|Part-time')),:]\n",
    "\n",
    "sizes = [len(full_time), len(part_time), len(otros)]\n",
    "nombres = ['Full-time', 'Part-time', 'Otros']\n",
    "\n",
    "plt.figure(figsize=(6, 6))\n",
    "plt.title('Porcentaje de publicaciones segun la disponibilidad horaria', fontsize=12)\n",
    "plt.pie(sizes, labels=nombres, autopct='%1.1f%%', startangle=20, colors=['orange','green','blue'])\n",
    "plt.show()"
   ]
  },
  {
   "cell_type": "markdown",
   "metadata": {},
   "source": [
    "### ¿Cuales son los avisos a las que mas personas se postulan? \n",
    "Agrupamos por el titulo del aviso, su id y la denominacion de empresa"
   ]
  },
  {
   "cell_type": "code",
   "execution_count": 181,
   "metadata": {
    "collapsed": false
   },
   "outputs": [
    {
     "data": {
      "text/plain": [
       "titulo                                       idaviso     denominacion_empresa  \n",
       "Representante de Atencion al Cliente/ Banco  1112094756  RANDSTAD                  15935\n",
       "Asesores de Atención al Público - Part time  1112345900  Universidad de Palermo    15171\n",
       "Cajero/a - Part Time                         1112334791  Farmacity                 15115\n",
       "Cajero/a-Repositor/a (Capital Federal)       1112033906  Farmacity                 14987\n",
       "Cajero/a - Part Time                         1112204682  Farmacity                 14160\n",
       "Name: idpostulante, dtype: int64"
      ]
     },
     "execution_count": 181,
     "metadata": {},
     "output_type": "execute_result"
    }
   ],
   "source": [
    "dataFrame.groupby(['titulo','idaviso','denominacion_empresa'])['idpostulante'].count().sort_values(ascending = False).head()"
   ]
  },
  {
   "cell_type": "markdown",
   "metadata": {},
   "source": [
    "Viendo los resultados, podriamos decir que hay avisos que estan duplicados. O sea que la empresa publico en una o mas ocasiones la misma busqueda laboral. Entonces podriamos agrupar simplemente todas los avisos que tengan el mismo titulo y que pertenezcan a la misma empresa (descartanto el idaviso)"
   ]
  },
  {
   "cell_type": "code",
   "execution_count": 182,
   "metadata": {
    "collapsed": false
   },
   "outputs": [
    {
     "data": {
      "text/plain": [
       "titulo                                       denominacion_empresa  \n",
       "Cajero/a - Part Time                         Farmacity                 29275\n",
       "Cajero/a-Repositor/a (Capital Federal)       Farmacity                 25184\n",
       "Representante de Atencion al Cliente/ Banco  RANDSTAD                  15935\n",
       "Asesor/a de Belleza - Part Time              Farmacity                 15879\n",
       "Asesores de Atención al Público - Part time  Universidad de Palermo    15171\n",
       "Name: idpostulante, dtype: int64"
      ]
     },
     "execution_count": 182,
     "metadata": {},
     "output_type": "execute_result"
    }
   ],
   "source": [
    "dataFrame.groupby(['titulo','denominacion_empresa'])['idpostulante'].count().sort_values(ascending = False).head()"
   ]
  },
  {
   "cell_type": "markdown",
   "metadata": {},
   "source": [
    "Por lo cual, ahora los resultados cambian. Siendo la busqueda de Cajero/a - Part Time de Farmacity la que mas postulaciones tiene."
   ]
  },
  {
   "cell_type": "markdown",
   "metadata": {},
   "source": [
    "Visualizamos los resultados"
   ]
  },
  {
   "cell_type": "code",
   "execution_count": 183,
   "metadata": {
    "collapsed": false
   },
   "outputs": [
    {
     "data": {
      "image/png": "[encoded data removed]",
      "text/plain": [
       "<Figure size 720x288 with 1 Axes>"
      ]
     },
     "metadata": {},
     "output_type": "display_data"
    }
   ],
   "source": [
    "dataFrame.groupby(['titulo','denominacion_empresa'])['idpostulante'].count().sort_values(ascending = False)[1:10].plot(kind='bar',rot = 90,figsize=(10,4),color='blue',fontsize=12)\n",
    "\n",
    "plt.title('Avisos con mayor cantidad de postulaciones', fontsize=16);\n",
    "plt.xlabel('Titulo/Empresa', fontsize=16);\n",
    "plt.ylabel('Cantidad de postulantes', fontsize=16);"
   ]
  },
  {
   "cell_type": "markdown",
   "metadata": {},
   "source": [
    "Y ahora analizamos el aviso que esta en primera posicion\n"
   ]
  },
  {
   "cell_type": "code",
   "execution_count": 184,
   "metadata": {
    "collapsed": false
   },
   "outputs": [
    {
     "data": {
      "text/plain": [
       "count         29302\n",
       "unique            1\n",
       "top       Full-time\n",
       "freq          29302\n",
       "Name: tipo_de_trabajo, dtype: object"
      ]
     },
     "execution_count": 184,
     "metadata": {},
     "output_type": "execute_result"
    }
   ],
   "source": [
    "cajeroFarmacity = dataFrame\n",
    "cajeroFarmacity.dropna(subset=['titulo'],inplace=True)\n",
    "cajeroFarmacity = cajeroFarmacity.loc[cajeroFarmacity.titulo.str.contains('Cajero/a - Part Time'),:]\n",
    "\n",
    "cajeroFarmacity['tipo_de_trabajo'].describe()"
   ]
  },
  {
   "cell_type": "markdown",
   "metadata": {},
   "source": [
    "Aunque el titulo del anuncio diga que la busqueda es para Part-Time, aca se puede ver que en realidad se trata para disponibilidad Full-Time."
   ]
  },
  {
   "cell_type": "markdown",
   "metadata": {},
   "source": [
    "Nos centramos en el nivel educativo de los postulantes"
   ]
  },
  {
   "cell_type": "code",
   "execution_count": 185,
   "metadata": {
    "collapsed": false
   },
   "outputs": [
    {
     "data": {
      "text/plain": [
       "nombre             estado    \n",
       "Secundario         Graduado      13623\n",
       "Universitario      En Curso       4801\n",
       "Otro               Graduado       2053\n",
       "Terciario/Técnico  En Curso       1983\n",
       "                   Graduado       1923\n",
       "Universitario      Abandonado     1217\n",
       "                   Graduado        930\n",
       "Otro               En Curso        585\n",
       "Terciario/Técnico  Abandonado      581\n",
       "Secundario         En Curso        450\n",
       "Name: idpostulante, dtype: int64"
      ]
     },
     "execution_count": 185,
     "metadata": {},
     "output_type": "execute_result"
    }
   ],
   "source": [
    "cajeroFarmacity.groupby(['nombre','estado'])['idpostulante'].count().sort_values(ascending = False).head(10)"
   ]
  },
  {
   "cell_type": "markdown",
   "metadata": {},
   "source": [
    "La gran mayoria se tratan de personas con estudios secundarios graduado. Seguido de otros con estudios universitarios en curso y mas atras graduados en otras cosas."
   ]
  },
  {
   "cell_type": "markdown",
   "metadata": {},
   "source": [
    "Seria interesante saber cual es el rango de edad de estas personas. Para ello utilizamos la calumna \"fechanaciemto\" de la cual optenemos el año de nacimiento de cada postulante "
   ]
  },
  {
   "cell_type": "code",
   "execution_count": 242,
   "metadata": {
    "collapsed": false
   },
   "outputs": [
    {
     "data": {
      "image/png": "[encoded data removed]",
      "text/plain": [
       "<Figure size 720x288 with 1 Axes>"
      ]
     },
     "metadata": {},
     "output_type": "display_data"
    }
   ],
   "source": [
    "### #Convertimos la fecha fechanaciento en datetime y agregamos el campo año\n",
    "cajeroFarmacity['fechanacimiento'] = pd.to_datetime(cajeroFarmacity['fechanacimiento'])\n",
    "cajeroFarmacity['anio'] = cajeroFarmacity['fechanacimiento'].map(lambda x: x.year)\n",
    "cajeroFarmacity.dropna(subset= ['anio'], inplace=True)\n",
    "cajeroFarmacity['anio'] = cajeroFarmacity['anio'].apply(lambda x: int(x))\n",
    "\n",
    "def rango(x):\n",
    "    if (x[21]>2000):\n",
    "        return (\"Menor a 18\")    \n",
    "    elif (x[21]<=2000) & (x[21]>=1997):  \n",
    "        return (\"18 a 21\")    \n",
    "    elif (x[21]<=1996) & (x[21]>=1993):\n",
    "        return (\"22 a 25\")\n",
    "    elif (x[21]<=1992) & (x[21]>=1988):\n",
    "        return (\"26 a 30\")\n",
    "    elif (x[21]<1988):\n",
    "        return (\"Mayor a 30\")\n",
    "    \n",
    "cajeroFarmacity['rango_de_edad'] = cajeroFarmacity.apply(rango,axis=1)\n",
    "\n",
    "cajeroFarmacity.groupby('rango_de_edad')['idpostulante'].count().sort_values(ascending = False).plot(kind='bar',rot = 90,figsize=(10,4),color='orange',fontsize=12)\n",
    "\n",
    "plt.title('Rango de edad de las personas postuladas', fontsize=16);\n",
    "plt.xlabel('Rango', fontsize=16);\n",
    "plt.ylabel('Cantidad de postulantes', fontsize=16);\n",
    "    \n"
   ]
  },
  {
   "cell_type": "markdown",
   "metadata": {},
   "source": [
    "### Area con postulantes con nivel educativo mas alto  \n"
   ]
  },
  {
   "cell_type": "markdown",
   "metadata": {},
   "source": [
    "Primero vemos cuales son los niveles educativos que existen"
   ]
  },
  {
   "cell_type": "code",
   "execution_count": 187,
   "metadata": {
    "collapsed": false
   },
   "outputs": [
    {
     "data": {
      "text/plain": [
       "nombre\n",
       "Secundario           1854451\n",
       "Universitario        1747126\n",
       "Terciario/Técnico     786795\n",
       "Otro                  460616\n",
       "Posgrado              106742\n",
       "Master                 53185\n",
       "Doctorado               3257\n",
       "Name: idpostulante, dtype: int64"
      ]
     },
     "execution_count": 187,
     "metadata": {},
     "output_type": "execute_result"
    }
   ],
   "source": [
    "\n",
    "dataFrame.groupby('nombre')['idpostulante'].count().sort_values(ascending = False).head(10)\n"
   ]
  },
  {
   "cell_type": "markdown",
   "metadata": {},
   "source": [
    "Vemos que encabeza la lista los postulantes con nivel secundario (Ya sea en curso o terminado). Y luego de la lista podemos decir que el doctorado es el grado mas alto que se puede tener. Entonces vamos enfocarnos en este, para ver a cuales areas son las que mas se postulan"
   ]
  },
  {
   "cell_type": "code",
   "execution_count": 188,
   "metadata": {
    "collapsed": false
   },
   "outputs": [
    {
     "data": {
      "image/png": "[encoded data removed]",
      "text/plain": [
       "<Figure size 1008x288 with 1 Axes>"
      ]
     },
     "metadata": {},
     "output_type": "display_data"
    }
   ],
   "source": [
    "doctorado = dataFrame.loc[(dataFrame.nombre.str.contains('Doctorado') & dataFrame.estado.str.contains('Graduado')),:]\n",
    "\n",
    "doctorado.groupby('nombre_area')['idpostulante'].count().sort_values(ascending = False)[1:10].plot(kind='bar',rot = 90,figsize=(14,4),color='red',fontsize=12)\n",
    "\n",
    "plt.title('Areas con mayor cantidad de postulantes doctorados', fontsize=20);\n",
    "plt.xlabel('Area', fontsize=16);\n",
    "plt.ylabel('Cantidad de postulantes doctorados', fontsize=16);"
   ]
  },
  {
   "cell_type": "markdown",
   "metadata": {},
   "source": [
    " "
   ]
  },
  {
   "cell_type": "markdown",
   "metadata": {},
   "source": [
    "  "
   ]
  },
  {
   "cell_type": "markdown",
   "metadata": {},
   "source": [
    " "
   ]
  },
  {
   "cell_type": "markdown",
   "metadata": {},
   "source": [
    " "
   ]
  },
  {
   "cell_type": "markdown",
   "metadata": {},
   "source": [
    "## ----------------------------------------"
   ]
  },
  {
   "cell_type": "markdown",
   "metadata": {},
   "source": [
    "###  Cual es el Sexo con mayor cantidad de postulaciones,vale que el postulante se repita osea se postule a muchos avisos (En los meses de Enero y Febrero de 2018)"
   ]
  },
  {
   "cell_type": "markdown",
   "metadata": {},
   "source": [
    " ### Hipotesis: 1 Trabajo. Las mujeres siguen sufriendo la discriminación laboral en cuanto a salarios y promoción. A igual trabajo, aún hay diferencias de sueldo entre mujeres y hombres, entonces al buscar una mejor opcion es problable que se postulen mas ,buscando mayor beneficio."
   ]
  },
  {
   "cell_type": "code",
   "execution_count": 110,
   "metadata": {
    "collapsed": false
   },
   "outputs": [],
   "source": [
    "postulacionesa = postulaciones\n",
    " "
   ]
  },
  {
   "cell_type": "markdown",
   "metadata": {},
   "source": [
    "Agregamos la columna año luego de splitearla\n"
   ]
  },
  {
   "cell_type": "code",
   "execution_count": 86,
   "metadata": {
    "collapsed": false
   },
   "outputs": [
    {
     "data": {
      "text/plain": [
       "2    2125425\n",
       "1    1276198\n",
       "Name: Month, dtype: int64"
      ]
     },
     "execution_count": 86,
     "metadata": {},
     "output_type": "execute_result"
    }
   ],
   "source": [
    "postulacionesa.Month.value_counts()\n"
   ]
  },
  {
   "cell_type": "markdown",
   "metadata": {},
   "source": [
    "Vemos que son los meses de enero y febrero"
   ]
  },
  {
   "cell_type": "code",
   "execution_count": 87,
   "metadata": {
    "collapsed": false
   },
   "outputs": [
    {
     "data": {
      "text/plain": [
       "2018    3401623\n",
       "Name: Year, dtype: int64"
      ]
     },
     "execution_count": 87,
     "metadata": {},
     "output_type": "execute_result"
    }
   ],
   "source": [
    "postulacionesa.Year.value_counts()\n"
   ]
  },
  {
   "cell_type": "markdown",
   "metadata": {},
   "source": [
    "Y solo del 2018"
   ]
  },
  {
   "cell_type": "code",
   "execution_count": 88,
   "metadata": {
    "collapsed": false
   },
   "outputs": [
    {
     "data": {
      "text/plain": [
       "180941"
      ]
     },
     "execution_count": 88,
     "metadata": {},
     "output_type": "execute_result"
    }
   ],
   "source": [
    "IDs_duplicados=sum(postulacionesa.idpostulante.value_counts()>1)\n",
    "IDs_duplicados\n"
   ]
  },
  {
   "cell_type": "markdown",
   "metadata": {},
   "source": [
    "Vemos que hay duplicados en postulaciones"
   ]
  },
  {
   "cell_type": "code",
   "execution_count": 111,
   "metadata": {
    "collapsed": false
   },
   "outputs": [],
   "source": [
    "postulantes_sexo=pd.merge(postulaciones,postulantesGeneroYEdad,on='idpostulante' , how='inner')\n",
    " "
   ]
  },
  {
   "cell_type": "code",
   "execution_count": 90,
   "metadata": {
    "collapsed": false
   },
   "outputs": [],
   "source": [
    "postulantes_sexo2=postulantes_sexo "
   ]
  },
  {
   "cell_type": "code",
   "execution_count": 92,
   "metadata": {
    "collapsed": true
   },
   "outputs": [],
   "source": [
    "postulantes_sexo=postulantes_sexo.groupby('sexo')['idpostulante'].agg(['count'])"
   ]
  },
  {
   "cell_type": "code",
   "execution_count": 93,
   "metadata": {
    "collapsed": false
   },
   "outputs": [
    {
     "data": {
      "text/plain": [
       "<matplotlib.text.Text at 0x7fd27b30f3d0>"
      ]
     },
     "execution_count": 93,
     "metadata": {},
     "output_type": "execute_result"
    },
    {
     "data": {
      "image/png": "[encoded data removed]",
      "text/plain": [
       "<matplotlib.figure.Figure at 0x7fd27b971090>"
      ]
     },
     "metadata": {},
     "output_type": "display_data"
    }
   ],
   "source": [
    "graico =postulantes_sexo.plot(kind = \"bar\",\\\n",
    "                            color = \"Purple\" ,\\\n",
    "                            fontsize=20,figsize = (15,8), rot = 45, legend = False)\n",
    "graico.set_title('Sexo con mayor cantidad de postulaciones (En los meses de Enero y Febrero de 2018)', fontsize = 20)\n",
    "graico.set_ylabel(\"Cantidad de postulaciones\", fontsize=20)\n",
    "graico.set_xlabel(\"Sexo\", fontsize = 20)"
   ]
  },
  {
   "cell_type": "markdown",
   "metadata": {},
   "source": [
    "## ### CONCLUSION:Por lo cual se puede ver que la mujeres se postulan en casi igual  cantidad que los hombres,por lo tanto apriori viendo este grafico,habra igual flujo de postulaciones en los avisos de parte del los dos generos."
   ]
  },
  {
   "cell_type": "markdown",
   "metadata": {},
   "source": [
    "## -----------------------------------------------"
   ]
  },
  {
   "cell_type": "markdown",
   "metadata": {},
   "source": [
    "###  Sexo con mayor cantidad de postulados (sin repeticion de postulante,es decir que solo se muestra una postulacion a un aviso) (En los meses de Enero y Febrero de 2018) "
   ]
  },
  {
   "cell_type": "code",
   "execution_count": 94,
   "metadata": {
    "collapsed": true
   },
   "outputs": [],
   "source": [
    "postulantes_sexo_sinrepeticiones=postulantes_sexo2.drop_duplicates(subset=['idpostulante'], keep=False).reset_index()\n"
   ]
  },
  {
   "cell_type": "code",
   "execution_count": 79,
   "metadata": {
    "collapsed": false
   },
   "outputs": [
    {
     "data": {
      "text/plain": [
       "0"
      ]
     },
     "execution_count": 79,
     "metadata": {},
     "output_type": "execute_result"
    }
   ],
   "source": [
    "IDs_duplicados=sum(postulantes_sexo_sinrepeticiones.idpostulante.value_counts()>1)\n",
    "IDs_duplicados"
   ]
  },
  {
   "cell_type": "code",
   "execution_count": 96,
   "metadata": {
    "collapsed": true
   },
   "outputs": [],
   "source": [
    "postulantes_sexo_sinrepeticiones=postulantes_sexo_sinrepeticiones.groupby('sexo')['idpostulante'].agg(['count']).sort_values(by='count',ascending = False)"
   ]
  },
  {
   "cell_type": "code",
   "execution_count": 97,
   "metadata": {
    "collapsed": false
   },
   "outputs": [
    {
     "data": {
      "text/plain": [
       "<matplotlib.text.Text at 0x7fd27b6cc0d0>"
      ]
     },
     "execution_count": 97,
     "metadata": {},
     "output_type": "execute_result"
    },
    {
     "data": {
      "image/png": "[encoded data removed]",
      "text/plain": [
       "<matplotlib.figure.Figure at 0x7fd27b202310>"
      ]
     },
     "metadata": {},
     "output_type": "display_data"
    }
   ],
   "source": [
    "grafico=postulantes_sexo_sinrepeticiones.plot(kind = \"bar\",\\\n",
    "                            color = \"Orange\" ,\\\n",
    "                            fontsize=20,figsize = (15,8), rot = 45, legend = False)\n",
    "\n",
    "grafico.set_title(\"Sexo con mayor cantidad de postulados (sin postulantes repetidos) (En los meses de Enero y Febrero de 2018)\",fontsize=20)\n",
    "grafico.set_ylabel(\"Cantidad de postulantes \", fontsize=20)\n",
    "grafico.set_xlabel(\"Sexo\", fontsize = 20)"
   ]
  },
  {
   "cell_type": "markdown",
   "metadata": {},
   "source": [
    "## ### CONCLUSION: hay mayor postulacion de las mujeres en enero y febrero,(recordando que este grafico solo muestra que un postulante se postula a un aviso) .esto dice junto con el grafico de postulaciones con repeticiones ,que los hombres se postulan a muchos avisos,mientras que las mujeres en menor medida."
   ]
  },
  {
   "cell_type": "markdown",
   "metadata": {},
   "source": [
    "### ----------------------------------------------------------------------------"
   ]
  },
  {
   "cell_type": "markdown",
   "metadata": {},
   "source": [
    "### Sexo con mayor cantidad de visitas (Febrero de 2018)"
   ]
  },
  {
   "cell_type": "markdown",
   "metadata": {},
   "source": [
    "###  Hipostesis: al ser parecido la  cantidad de postulaciones tanto en hombres como es mujeres es probable que sean igual las cantidad de visitas en ambos sexos."
   ]
  },
  {
   "cell_type": "code",
   "execution_count": 98,
   "metadata": {
    "collapsed": true
   },
   "outputs": [],
   "source": [
    "sexo_visitas=pd.merge(vistas,postulantesGeneroYEdad,on='idpostulante' , how='inner')\n"
   ]
  },
  {
   "cell_type": "code",
   "execution_count": 99,
   "metadata": {
    "collapsed": false
   },
   "outputs": [
    {
     "data": {
      "text/plain": [
       "<matplotlib.text.Text at 0x7fd27b48df10>"
      ]
     },
     "execution_count": 99,
     "metadata": {},
     "output_type": "execute_result"
    },
    {
     "data": {
      "image/png": "[encoded data removed]",
      "text/plain": [
       "<matplotlib.figure.Figure at 0x7fd27b2aed10>"
      ]
     },
     "metadata": {},
     "output_type": "display_data"
    }
   ],
   "source": [
    "sexo_sitas=sexo_visitas.groupby('sexo')['idpostulante'].agg(['count']).sort_values(by='count',ascending = False).plot(kind = \"bar\",\\\n",
    "                            color = \"Black\" ,\\\n",
    "                            fontsize=20,figsize = (15,8), rot = 45, legend = False)\n",
    "\n",
    "sexo_sitas.set_title(\"Sexo con mayor cantidad de visitas en Febrero de 2018\",fontsize=20)\n",
    "sexo_sitas.set_ylabel(\"Visitas\", fontsize=20)\n",
    "sexo_sitas.set_xlabel('Sexo', fontsize = 20) "
   ]
  },
  {
   "cell_type": "markdown",
   "metadata": {},
   "source": [
    "## Conclusion:nuestra hipotesis inicial fue erronea, fueron las mujeres las que mas visitaron los avisos,entonces la probabilidad que un aviso sea visto por una mujer es mayor."
   ]
  },
  {
   "cell_type": "markdown",
   "metadata": {},
   "source": [
    "## ---------------------------------------------------------------------------------"
   ]
  },
  {
   "cell_type": "markdown",
   "metadata": {},
   "source": [
    " ### Nivel de estudio (ya sea en curso o terminado) de las personas que estan postulados"
   ]
  },
  {
   "cell_type": "markdown",
   "metadata": {},
   "source": [
    "### Hipotesis: A Mayor grado educativo , mas facil es conseguir empleo,por lo tanto sera menor la cantidad de personas de alto nivel educativo que se registren a buscar trabajo en los avisos."
   ]
  },
  {
   "cell_type": "code",
   "execution_count": 100,
   "metadata": {
    "collapsed": true
   },
   "outputs": [],
   "source": [
    "educacion2=postulantesEducacion"
   ]
  },
  {
   "cell_type": "code",
   "execution_count": 101,
   "metadata": {
    "collapsed": false
   },
   "outputs": [
    {
     "data": {
      "text/plain": [
       "80276"
      ]
     },
     "execution_count": 101,
     "metadata": {},
     "output_type": "execute_result"
    }
   ],
   "source": [
    "IDs_duplicados=sum(educacion2.idpostulante.value_counts()>1)\n",
    "IDs_duplicados"
   ]
  },
  {
   "cell_type": "code",
   "execution_count": 30,
   "metadata": {
    "collapsed": false
   },
   "outputs": [
    {
     "data": {
      "text/plain": [
       "Graduado      194474\n",
       "En Curso       78531\n",
       "Abandonado     25226\n",
       "Name: estado, dtype: int64"
      ]
     },
     "execution_count": 30,
     "metadata": {},
     "output_type": "execute_result"
    }
   ],
   "source": [
    "educacion2.estado.value_counts()"
   ]
  },
  {
   "cell_type": "markdown",
   "metadata": {},
   "source": [
    "significa que el postulantes podrian haber dejado la carrera, cambiado o comenzado una nueva, \n",
    "Por eso hay duplicados"
   ]
  },
  {
   "cell_type": "code",
   "execution_count": 102,
   "metadata": {
    "collapsed": true
   },
   "outputs": [],
   "source": [
    "postulaciones3=postulaciones"
   ]
  },
  {
   "cell_type": "code",
   "execution_count": 103,
   "metadata": {
    "collapsed": true
   },
   "outputs": [],
   "source": [
    "postulantessinrepeticiones=postulaciones3.drop_duplicates(subset=['idpostulante'], keep=False).reset_index()\n",
    "#Queremos los que se postulan, por eso eliminamos repetidos"
   ]
  },
  {
   "cell_type": "code",
   "execution_count": 104,
   "metadata": {
    "collapsed": true
   },
   "outputs": [],
   "source": [
    "postulantes_nivelestudio=pd.merge( postulantessinrepeticiones,postulantesEducacion,on='idpostulante' , how='inner')"
   ]
  },
  {
   "cell_type": "code",
   "execution_count": 106,
   "metadata": {
    "collapsed": false
   },
   "outputs": [
    {
     "data": {
      "text/plain": [
       "<matplotlib.text.Text at 0x7fd27b7bbd90>"
      ]
     },
     "execution_count": 106,
     "metadata": {},
     "output_type": "execute_result"
    },
    {
     "data": {
      "image/png": "[encoded data removed]",
      "text/plain": [
       "<matplotlib.figure.Figure at 0x7fd27b2d8bd0>"
      ]
     },
     "metadata": {},
     "output_type": "display_data"
    }
   ],
   "source": [
    "postulantes_nivelestudio=postulantes_nivelestudio.groupby('nombre')['idpostulante'].agg(['count']).sort_values(by='count',ascending = False)\n",
    "my_colors = [(x/10.0, x/20.0, 0.30) for x in range(len(postulantes_nivelestudio))] # <-- Quick gradient example along the Red/Green dimensions.\n",
    "grafico =postulantes_nivelestudio.plot(kind = \"barh\",\\\n",
    "                            color = my_colors ,\\\n",
    "                            fontsize=20,figsize = (15,8), rot = 45, legend = False)\n",
    "\n",
    "grafico.set_title(\"Nivel de estudio (ya sea en curso o terminado) de las personas que estan postulados\",fontsize=20)\n",
    "grafico.set_xlabel('Cantidad de postulantes', fontsize=20);\n",
    "grafico.set_ylabel(\"Nivel de Estudio\", fontsize=20)"
   ]
  },
  {
   "cell_type": "markdown",
   "metadata": {},
   "source": [
    "### CONCLUSION:  El nivel de estudio mas popular entre los postulados fueron el universitario,por lo tanto la hipotesis no fue tan correcta,porque los universitarios salieron con mas postulaciones.Por lo tanto es mas probable que un secundario o universitario se postule en algun aviso."
   ]
  },
  {
   "cell_type": "markdown",
   "metadata": {},
   "source": [
    "### -------------------------------------------------------------------------------------------------------------------------------------"
   ]
  },
  {
   "cell_type": "markdown",
   "metadata": {},
   "source": [
    "###  El tipo de trabajo al que mas se postularon"
   ]
  },
  {
   "cell_type": "markdown",
   "metadata": {},
   "source": [
    "###  Hipotesis:Cuando se trabaja en relación de dependencia, las modalidades más comunes son las del trabajo de tiempo completo (full-time) y el trabajo de medio tiempo (part-time),veremos si nuestra hipotesis es correcta."
   ]
  },
  {
   "cell_type": "code",
   "execution_count": 112,
   "metadata": {
    "collapsed": false
   },
   "outputs": [],
   "source": [
    "postulantes_trabajo=pd.merge(postulaciones,avisosDetalle,on='idaviso' , how='inner')\n",
    " "
   ]
  },
  {
   "cell_type": "code",
   "execution_count": 109,
   "metadata": {
    "collapsed": false
   },
   "outputs": [
    {
     "data": {
      "text/plain": [
       "<matplotlib.text.Text at 0x7fd27b8f8b10>"
      ]
     },
     "execution_count": 109,
     "metadata": {},
     "output_type": "execute_result"
    },
    {
     "data": {
      "image/png": "[encoded data removed]",
      "text/plain": [
       "<matplotlib.figure.Figure at 0x7fd27b3688d0>"
      ]
     },
     "metadata": {},
     "output_type": "display_data"
    }
   ],
   "source": [
    "postulantes_trabajo=postulantes_trabajo.groupby('tipo_de_trabajo')['idpostulante'].agg(['count']).sort_values(by='count',ascending = False)\n",
    "my_colors = [(x/10.0, x/20.0, 0.30) for x in range(len(postulantes_trabajo))] # <-- Quick gradient example along the Red/Green dimensions.\n",
    "grafico = postulantes_trabajo.plot(kind = \"barh\",\\\n",
    "                            color = my_colors ,\\\n",
    "                            fontsize=20,figsize = (15,8), rot = 45, legend = False)\n",
    "\n",
    "grafico.set_title(\"El tipo de trabajo al que mas se postularon\",fontsize=20)\n",
    "grafico.set_xlabel('Cantidad', fontsize=20);\n",
    "grafico.set_ylabel(\"Tipo de Trabajo\", fontsize=20)"
   ]
  },
  {
   "cell_type": "markdown",
   "metadata": {},
   "source": [
    "### Conclusion: los tipos de trabajo mas postulados fueron el  full time y part-time, entonces los postulantes van a ser proclives a postularse en estos tipos de trabajo partime y fulltime"
   ]
  }
 ],
 "metadata": {
  "kernelspec": {
   "display_name": "Python 2",
   "language": "python",
   "name": "python2"
  },
  "language_info": {
   "codemirror_mode": {
    "name": "ipython",
    "version": 2
   },
   "file_extension": ".py",
   "mimetype": "text/x-python",
   "name": "python",
   "nbconvert_exporter": "python",
   "pygments_lexer": "ipython2",
   "version": "2.7.13"
  }
 },
 "nbformat": 4,
 "nbformat_minor": 2
}
