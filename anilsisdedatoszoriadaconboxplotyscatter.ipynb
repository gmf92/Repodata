{
 "cells": [
  {
   "cell_type": "code",
   "execution_count": 7,
   "metadata": {
    "collapsed": true
   },
   "outputs": [],
   "source": [
    "\n",
    "import pandas as pd\n",
    "import numpy as np\n",
    "import seaborn as sns\n",
    "import matplotlib.pyplot as plt\n",
    "import warnings\n",
    "warnings.filterwarnings('ignore')\n",
    "\n",
    "%matplotlib inline"
   ]
  },
  {
   "cell_type": "markdown",
   "metadata": {},
   "source": [
    "## Carga de datos y visualización de cada csv"
   ]
  },
  {
   "cell_type": "code",
   "execution_count": 8,
   "metadata": {
    "collapsed": false
   },
   "outputs": [
    {
     "data": {
      "text/html": [
       "<div>\n",
       "<table border=\"1\" class=\"dataframe\">\n",
       "  <thead>\n",
       "    <tr style=\"text-align: right;\">\n",
       "      <th></th>\n",
       "      <th>idpostulante</th>\n",
       "      <th>nombre</th>\n",
       "      <th>estado</th>\n",
       "    </tr>\n",
       "  </thead>\n",
       "  <tbody>\n",
       "    <tr>\n",
       "      <th>298226</th>\n",
       "      <td>GNZqARp</td>\n",
       "      <td>Terciario/TÃ©cnico</td>\n",
       "      <td>Abandonado</td>\n",
       "    </tr>\n",
       "    <tr>\n",
       "      <th>298227</th>\n",
       "      <td>ow2p8vk</td>\n",
       "      <td>Universitario</td>\n",
       "      <td>Abandonado</td>\n",
       "    </tr>\n",
       "    <tr>\n",
       "      <th>298228</th>\n",
       "      <td>6rPEvwv</td>\n",
       "      <td>Universitario</td>\n",
       "      <td>Abandonado</td>\n",
       "    </tr>\n",
       "    <tr>\n",
       "      <th>298229</th>\n",
       "      <td>vVja45X</td>\n",
       "      <td>Universitario</td>\n",
       "      <td>Abandonado</td>\n",
       "    </tr>\n",
       "    <tr>\n",
       "      <th>298230</th>\n",
       "      <td>1QPMbX3</td>\n",
       "      <td>Universitario</td>\n",
       "      <td>Abandonado</td>\n",
       "    </tr>\n",
       "  </tbody>\n",
       "</table>\n",
       "</div>"
      ],
      "text/plain": [
       "       idpostulante              nombre      estado\n",
       "298226      GNZqARp  Terciario/TÃ©cnico  Abandonado\n",
       "298227      ow2p8vk       Universitario  Abandonado\n",
       "298228      6rPEvwv       Universitario  Abandonado\n",
       "298229      vVja45X       Universitario  Abandonado\n",
       "298230      1QPMbX3       Universitario  Abandonado"
      ]
     },
     "execution_count": 8,
     "metadata": {},
     "output_type": "execute_result"
    }
   ],
   "source": [
    "educacion = pd.read_csv('/home/yussef/Escritorio/2018/datosorga/datos_navent_fiuba/fiuba_1_postulantes_educacion.csv',sep=',', error_bad_lines=False, encoding='ISO-8859-1')\n",
    "educacion.tail()"
   ]
  },
  {
   "cell_type": "code",
   "execution_count": 9,
   "metadata": {
    "collapsed": false
   },
   "outputs": [
    {
     "data": {
      "text/html": [
       "<div>\n",
       "<table border=\"1\" class=\"dataframe\">\n",
       "  <thead>\n",
       "    <tr style=\"text-align: right;\">\n",
       "      <th></th>\n",
       "      <th>idpostulante</th>\n",
       "      <th>fechanacimiento</th>\n",
       "      <th>sexo</th>\n",
       "    </tr>\n",
       "  </thead>\n",
       "  <tbody>\n",
       "    <tr>\n",
       "      <th>200883</th>\n",
       "      <td>1QPMbX3</td>\n",
       "      <td>1988-01-07</td>\n",
       "      <td>MASC</td>\n",
       "    </tr>\n",
       "    <tr>\n",
       "      <th>200884</th>\n",
       "      <td>0zPa0eq</td>\n",
       "      <td>1998-05-09</td>\n",
       "      <td>FEM</td>\n",
       "    </tr>\n",
       "    <tr>\n",
       "      <th>200885</th>\n",
       "      <td>2zP6Jd0</td>\n",
       "      <td>1997-03-06</td>\n",
       "      <td>FEM</td>\n",
       "    </tr>\n",
       "    <tr>\n",
       "      <th>200886</th>\n",
       "      <td>8MPoxDW</td>\n",
       "      <td>1997-07-07</td>\n",
       "      <td>MASC</td>\n",
       "    </tr>\n",
       "    <tr>\n",
       "      <th>200887</th>\n",
       "      <td>2zP6J9V</td>\n",
       "      <td>NaN</td>\n",
       "      <td>NO_DECLARA</td>\n",
       "    </tr>\n",
       "  </tbody>\n",
       "</table>\n",
       "</div>"
      ],
      "text/plain": [
       "       idpostulante fechanacimiento        sexo\n",
       "200883      1QPMbX3      1988-01-07        MASC\n",
       "200884      0zPa0eq      1998-05-09         FEM\n",
       "200885      2zP6Jd0      1997-03-06         FEM\n",
       "200886      8MPoxDW      1997-07-07        MASC\n",
       "200887      2zP6J9V             NaN  NO_DECLARA"
      ]
     },
     "execution_count": 9,
     "metadata": {},
     "output_type": "execute_result"
    }
   ],
   "source": [
    "genero_y_edad = pd.read_csv('/home/yussef/Escritorio/2018/datosorga/datos_navent_fiuba/fiuba_2_postulantes_genero_y_edad.csv', sep=',', error_bad_lines=False, encoding='ISO-8859-1')\n",
    "genero_y_edad.tail()"
   ]
  },
  {
   "cell_type": "code",
   "execution_count": 10,
   "metadata": {
    "collapsed": false
   },
   "outputs": [
    {
     "data": {
      "text/html": [
       "<div>\n",
       "<table border=\"1\" class=\"dataframe\">\n",
       "  <thead>\n",
       "    <tr style=\"text-align: right;\">\n",
       "      <th></th>\n",
       "      <th>idAviso</th>\n",
       "      <th>timestamp</th>\n",
       "      <th>idpostulante</th>\n",
       "    </tr>\n",
       "  </thead>\n",
       "  <tbody>\n",
       "    <tr>\n",
       "      <th>961892</th>\n",
       "      <td>1112366944</td>\n",
       "      <td>2018-02-28T23:59:08.772-0500</td>\n",
       "      <td>MVPj3AK</td>\n",
       "    </tr>\n",
       "    <tr>\n",
       "      <th>961893</th>\n",
       "      <td>1001442844</td>\n",
       "      <td>2018-02-28T23:59:37.000-0500</td>\n",
       "      <td>VNrYP6m</td>\n",
       "    </tr>\n",
       "    <tr>\n",
       "      <th>961894</th>\n",
       "      <td>1112362644</td>\n",
       "      <td>2018-02-28T23:59:46.181-0500</td>\n",
       "      <td>owzLD43</td>\n",
       "    </tr>\n",
       "    <tr>\n",
       "      <th>961895</th>\n",
       "      <td>1112305277</td>\n",
       "      <td>2018-02-28T23:59:52.754-0500</td>\n",
       "      <td>A3DraY1</td>\n",
       "    </tr>\n",
       "    <tr>\n",
       "      <th>961896</th>\n",
       "      <td>1112345900</td>\n",
       "      <td>2018-02-28T23:59:55.409-0500</td>\n",
       "      <td>ekmNzBW</td>\n",
       "    </tr>\n",
       "  </tbody>\n",
       "</table>\n",
       "</div>"
      ],
      "text/plain": [
       "           idAviso                     timestamp idpostulante\n",
       "961892  1112366944  2018-02-28T23:59:08.772-0500      MVPj3AK\n",
       "961893  1001442844  2018-02-28T23:59:37.000-0500      VNrYP6m\n",
       "961894  1112362644  2018-02-28T23:59:46.181-0500      owzLD43\n",
       "961895  1112305277  2018-02-28T23:59:52.754-0500      A3DraY1\n",
       "961896  1112345900  2018-02-28T23:59:55.409-0500      ekmNzBW"
      ]
     },
     "execution_count": 10,
     "metadata": {},
     "output_type": "execute_result"
    }
   ],
   "source": [
    "visitas = pd.read_csv('/home/yussef/Escritorio/2018/datosorga/datos_navent_fiuba/fiuba_3_vistas.csv', sep=',', error_bad_lines=False, encoding='ISO-8859-1')\n",
    "visitas.tail()"
   ]
  },
  {
   "cell_type": "code",
   "execution_count": 11,
   "metadata": {
    "collapsed": false
   },
   "outputs": [
    {
     "data": {
      "text/html": [
       "<div>\n",
       "<table border=\"1\" class=\"dataframe\">\n",
       "  <thead>\n",
       "    <tr style=\"text-align: right;\">\n",
       "      <th></th>\n",
       "      <th>idaviso</th>\n",
       "      <th>idpostulante</th>\n",
       "      <th>fechapostulacion</th>\n",
       "    </tr>\n",
       "  </thead>\n",
       "  <tbody>\n",
       "    <tr>\n",
       "      <th>3401618</th>\n",
       "      <td>1111753681</td>\n",
       "      <td>0zPa0eq</td>\n",
       "      <td>2018-02-28 23:54:44</td>\n",
       "    </tr>\n",
       "    <tr>\n",
       "      <th>3401619</th>\n",
       "      <td>1112369306</td>\n",
       "      <td>2zP6Jd0</td>\n",
       "      <td>2018-02-28 23:57:43</td>\n",
       "    </tr>\n",
       "    <tr>\n",
       "      <th>3401620</th>\n",
       "      <td>1112308651</td>\n",
       "      <td>8MPoxDW</td>\n",
       "      <td>2018-02-28 23:52:13</td>\n",
       "    </tr>\n",
       "    <tr>\n",
       "      <th>3401621</th>\n",
       "      <td>1112341128</td>\n",
       "      <td>8MPoxDW</td>\n",
       "      <td>2018-02-28 23:59:06</td>\n",
       "    </tr>\n",
       "    <tr>\n",
       "      <th>3401622</th>\n",
       "      <td>1112369825</td>\n",
       "      <td>2zP6J9V</td>\n",
       "      <td>2018-02-28 23:56:10</td>\n",
       "    </tr>\n",
       "  </tbody>\n",
       "</table>\n",
       "</div>"
      ],
      "text/plain": [
       "            idaviso idpostulante     fechapostulacion\n",
       "3401618  1111753681      0zPa0eq  2018-02-28 23:54:44\n",
       "3401619  1112369306      2zP6Jd0  2018-02-28 23:57:43\n",
       "3401620  1112308651      8MPoxDW  2018-02-28 23:52:13\n",
       "3401621  1112341128      8MPoxDW  2018-02-28 23:59:06\n",
       "3401622  1112369825      2zP6J9V  2018-02-28 23:56:10"
      ]
     },
     "execution_count": 11,
     "metadata": {},
     "output_type": "execute_result"
    }
   ],
   "source": [
    "postulaciones = pd.read_csv('/home/yussef/Escritorio/2018/datosorga/datos_navent_fiuba/fiuba_4_postulaciones.csv', sep=',', error_bad_lines=False, encoding='ISO-8859-1')\n",
    "postulaciones.tail()"
   ]
  },
  {
   "cell_type": "code",
   "execution_count": 12,
   "metadata": {
    "collapsed": false
   },
   "outputs": [
    {
     "data": {
      "text/html": [
       "<div>\n",
       "<table border=\"1\" class=\"dataframe\">\n",
       "  <thead>\n",
       "    <tr style=\"text-align: right;\">\n",
       "      <th></th>\n",
       "      <th>idaviso</th>\n",
       "    </tr>\n",
       "  </thead>\n",
       "  <tbody>\n",
       "    <tr>\n",
       "      <th>5023</th>\n",
       "      <td>1112387966</td>\n",
       "    </tr>\n",
       "    <tr>\n",
       "      <th>5024</th>\n",
       "      <td>1112383275</td>\n",
       "    </tr>\n",
       "    <tr>\n",
       "      <th>5025</th>\n",
       "      <td>1112388199</td>\n",
       "    </tr>\n",
       "    <tr>\n",
       "      <th>5026</th>\n",
       "      <td>1112388376</td>\n",
       "    </tr>\n",
       "    <tr>\n",
       "      <th>5027</th>\n",
       "      <td>1112387833</td>\n",
       "    </tr>\n",
       "  </tbody>\n",
       "</table>\n",
       "</div>"
      ],
      "text/plain": [
       "         idaviso\n",
       "5023  1112387966\n",
       "5024  1112383275\n",
       "5025  1112388199\n",
       "5026  1112388376\n",
       "5027  1112387833"
      ]
     },
     "execution_count": 12,
     "metadata": {},
     "output_type": "execute_result"
    }
   ],
   "source": [
    "avisos_online = pd.read_csv('/home/yussef/Escritorio/2018/datosorga/datos_navent_fiuba/fiuba_5_avisos_online.csv', sep=',', error_bad_lines=False, encoding='ISO-8859-1')\n",
    "avisos_online.tail()"
   ]
  },
  {
   "cell_type": "code",
   "execution_count": 13,
   "metadata": {
    "collapsed": false
   },
   "outputs": [
    {
     "data": {
      "text/html": [
       "<div>\n",
       "<table border=\"1\" class=\"dataframe\">\n",
       "  <thead>\n",
       "    <tr style=\"text-align: right;\">\n",
       "      <th></th>\n",
       "      <th>idaviso</th>\n",
       "      <th>idpais</th>\n",
       "      <th>titulo</th>\n",
       "      <th>descripcion</th>\n",
       "      <th>nombre_zona</th>\n",
       "      <th>ciudad</th>\n",
       "      <th>mapacalle</th>\n",
       "      <th>tipo_de_trabajo</th>\n",
       "      <th>nivel_laboral</th>\n",
       "      <th>nombre_area</th>\n",
       "      <th>denominacion_empresa</th>\n",
       "    </tr>\n",
       "  </thead>\n",
       "  <tbody>\n",
       "    <tr>\n",
       "      <th>13529</th>\n",
       "      <td>1112342505</td>\n",
       "      <td>1</td>\n",
       "      <td>Vendedor de Salon -- UNOMOTOS</td>\n",
       "      <td>&lt;p&gt;UNOMOTOS Concesionaria lÃ­der en el rubro d...</td>\n",
       "      <td>Gran Buenos Aires</td>\n",
       "      <td>NaN</td>\n",
       "      <td>NaN</td>\n",
       "      <td>Full-time</td>\n",
       "      <td>Senior / Semi-Senior</td>\n",
       "      <td>Ventas</td>\n",
       "      <td>UNOMOTOS</td>\n",
       "    </tr>\n",
       "    <tr>\n",
       "      <th>13530</th>\n",
       "      <td>1112342513</td>\n",
       "      <td>1</td>\n",
       "      <td>OPERADOR DE ENSAYOS NO DESTRUCTIVOS</td>\n",
       "      <td>&lt;p&gt;&lt;strong&gt;RECONOCIDA EMPRESA DE MONTAJES INDU...</td>\n",
       "      <td>Gran Buenos Aires</td>\n",
       "      <td>NaN</td>\n",
       "      <td>NaN</td>\n",
       "      <td>Full-time</td>\n",
       "      <td>Senior / Semi-Senior</td>\n",
       "      <td>IngenierÃ­a Oficina TÃ©cnica / Proyecto</td>\n",
       "      <td>Grupo Consultor</td>\n",
       "    </tr>\n",
       "    <tr>\n",
       "      <th>13531</th>\n",
       "      <td>1112342456</td>\n",
       "      <td>1</td>\n",
       "      <td>Back officer Junior de Fondos Comunes de Inver...</td>\n",
       "      <td>&lt;p&gt;BNP Paribas Investment Partners, importante...</td>\n",
       "      <td>Gran Buenos Aires</td>\n",
       "      <td>NaN</td>\n",
       "      <td>NaN</td>\n",
       "      <td>Full-time</td>\n",
       "      <td>Junior</td>\n",
       "      <td>Contabilidad</td>\n",
       "      <td>BNP PARIBAS ARGENTINA INVESTMENT PARTNERS S A</td>\n",
       "    </tr>\n",
       "    <tr>\n",
       "      <th>13532</th>\n",
       "      <td>1112342496</td>\n",
       "      <td>1</td>\n",
       "      <td>Asistente Administrativo</td>\n",
       "      <td>&lt;p&gt;Somos un joven grupo gastronÃ³mico, que se ...</td>\n",
       "      <td>Gran Buenos Aires</td>\n",
       "      <td>NaN</td>\n",
       "      <td>NaN</td>\n",
       "      <td>Full-time</td>\n",
       "      <td>Gerencia / Alta Gerencia / DirecciÃ³n</td>\n",
       "      <td>AdministraciÃ³n</td>\n",
       "      <td>Cerveteca Odin Srl</td>\n",
       "    </tr>\n",
       "    <tr>\n",
       "      <th>13533</th>\n",
       "      <td>1112342432</td>\n",
       "      <td>1</td>\n",
       "      <td>Ingeniero para coordinaciÃ³n de obras de canal...</td>\n",
       "      <td>&lt;p&gt;Importante empresa de servicios para obras ...</td>\n",
       "      <td>Gran Buenos Aires</td>\n",
       "      <td>NaN</td>\n",
       "      <td>NaN</td>\n",
       "      <td>Full-time</td>\n",
       "      <td>Jefe / Supervisor / Responsable</td>\n",
       "      <td>ConstrucciÃ³n</td>\n",
       "      <td>CIMA S.A.</td>\n",
       "    </tr>\n",
       "  </tbody>\n",
       "</table>\n",
       "</div>"
      ],
      "text/plain": [
       "          idaviso  idpais                                             titulo  \\\n",
       "13529  1112342505       1                      Vendedor de Salon -- UNOMOTOS   \n",
       "13530  1112342513       1                OPERADOR DE ENSAYOS NO DESTRUCTIVOS   \n",
       "13531  1112342456       1  Back officer Junior de Fondos Comunes de Inver...   \n",
       "13532  1112342496       1                           Asistente Administrativo   \n",
       "13533  1112342432       1  Ingeniero para coordinaciÃ³n de obras de canal...   \n",
       "\n",
       "                                             descripcion        nombre_zona  \\\n",
       "13529  <p>UNOMOTOS Concesionaria lÃ­der en el rubro d...  Gran Buenos Aires   \n",
       "13530  <p><strong>RECONOCIDA EMPRESA DE MONTAJES INDU...  Gran Buenos Aires   \n",
       "13531  <p>BNP Paribas Investment Partners, importante...  Gran Buenos Aires   \n",
       "13532  <p>Somos un joven grupo gastronÃ³mico, que se ...  Gran Buenos Aires   \n",
       "13533  <p>Importante empresa de servicios para obras ...  Gran Buenos Aires   \n",
       "\n",
       "      ciudad mapacalle tipo_de_trabajo                          nivel_laboral  \\\n",
       "13529    NaN       NaN       Full-time                   Senior / Semi-Senior   \n",
       "13530    NaN       NaN       Full-time                   Senior / Semi-Senior   \n",
       "13531    NaN       NaN       Full-time                                 Junior   \n",
       "13532    NaN       NaN       Full-time  Gerencia / Alta Gerencia / DirecciÃ³n   \n",
       "13533    NaN       NaN       Full-time        Jefe / Supervisor / Responsable   \n",
       "\n",
       "                                   nombre_area  \\\n",
       "13529                                   Ventas   \n",
       "13530  IngenierÃ­a Oficina TÃ©cnica / Proyecto   \n",
       "13531                             Contabilidad   \n",
       "13532                          AdministraciÃ³n   \n",
       "13533                            ConstrucciÃ³n   \n",
       "\n",
       "                                denominacion_empresa  \n",
       "13529                                       UNOMOTOS  \n",
       "13530                                Grupo Consultor  \n",
       "13531  BNP PARIBAS ARGENTINA INVESTMENT PARTNERS S A  \n",
       "13532                             Cerveteca Odin Srl  \n",
       "13533                                      CIMA S.A.  "
      ]
     },
     "execution_count": 13,
     "metadata": {},
     "output_type": "execute_result"
    }
   ],
   "source": [
    "avisos_detalle = pd.read_csv('/home/yussef/Escritorio/2018/datosorga/datos_navent_fiuba/fiuba_6_avisos_detalle.csv', sep=',', error_bad_lines=False, encoding='ISO-8859-1')\n",
    "avisos_detalle.tail()"
   ]
  },
  {
   "cell_type": "markdown",
   "metadata": {},
   "source": [
    "## Merge entre los archivos educación y género y edad de los postulantes\n",
    "\n",
    "Unimos los datos de ambos data frame con el fin de colocar todos los datos de los postulantes en un mismo data frame"
   ]
  },
  {
   "cell_type": "code",
   "execution_count": 14,
   "metadata": {
    "collapsed": false,
    "scrolled": true
   },
   "outputs": [
    {
     "data": {
      "text/html": [
       "<div>\n",
       "<table border=\"1\" class=\"dataframe\">\n",
       "  <thead>\n",
       "    <tr style=\"text-align: right;\">\n",
       "      <th></th>\n",
       "      <th>idpostulante</th>\n",
       "      <th>nombre</th>\n",
       "      <th>estado</th>\n",
       "      <th>fechanacimiento</th>\n",
       "      <th>sexo</th>\n",
       "    </tr>\n",
       "  </thead>\n",
       "  <tbody>\n",
       "    <tr>\n",
       "      <th>310362</th>\n",
       "      <td>mzdNo99</td>\n",
       "      <td>NaN</td>\n",
       "      <td>NaN</td>\n",
       "      <td>1999-08-10</td>\n",
       "      <td>FEM</td>\n",
       "    </tr>\n",
       "    <tr>\n",
       "      <th>310363</th>\n",
       "      <td>Nzr1J34</td>\n",
       "      <td>NaN</td>\n",
       "      <td>NaN</td>\n",
       "      <td>NaN</td>\n",
       "      <td>NO_DECLARA</td>\n",
       "    </tr>\n",
       "    <tr>\n",
       "      <th>310364</th>\n",
       "      <td>JBrNMNk</td>\n",
       "      <td>NaN</td>\n",
       "      <td>NaN</td>\n",
       "      <td>1997-01-11</td>\n",
       "      <td>MASC</td>\n",
       "    </tr>\n",
       "    <tr>\n",
       "      <th>310365</th>\n",
       "      <td>2zP6Jd0</td>\n",
       "      <td>NaN</td>\n",
       "      <td>NaN</td>\n",
       "      <td>1997-03-06</td>\n",
       "      <td>FEM</td>\n",
       "    </tr>\n",
       "    <tr>\n",
       "      <th>310366</th>\n",
       "      <td>2zP6J9V</td>\n",
       "      <td>NaN</td>\n",
       "      <td>NaN</td>\n",
       "      <td>NaN</td>\n",
       "      <td>NO_DECLARA</td>\n",
       "    </tr>\n",
       "  </tbody>\n",
       "</table>\n",
       "</div>"
      ],
      "text/plain": [
       "       idpostulante nombre estado fechanacimiento        sexo\n",
       "310362      mzdNo99    NaN    NaN      1999-08-10         FEM\n",
       "310363      Nzr1J34    NaN    NaN             NaN  NO_DECLARA\n",
       "310364      JBrNMNk    NaN    NaN      1997-01-11        MASC\n",
       "310365      2zP6Jd0    NaN    NaN      1997-03-06         FEM\n",
       "310366      2zP6J9V    NaN    NaN             NaN  NO_DECLARA"
      ]
     },
     "execution_count": 14,
     "metadata": {},
     "output_type": "execute_result"
    }
   ],
   "source": [
    "postulantes = pd.merge(educacion, genero_y_edad, on='idpostulante', how='outer')\n",
    "postulantes.tail()"
   ]
  },
  {
   "cell_type": "markdown",
   "metadata": {},
   "source": [
    "## Merge entre los archivos avisos_online y avisos_detalle\n",
    "\n",
    "Unimos ambos datos frame con el fin de colocar los datos de todos los avisos en un mismo data frame"
   ]
  },
  {
   "cell_type": "code",
   "execution_count": 15,
   "metadata": {
    "collapsed": false
   },
   "outputs": [
    {
     "data": {
      "text/html": [
       "<div>\n",
       "<table border=\"1\" class=\"dataframe\">\n",
       "  <thead>\n",
       "    <tr style=\"text-align: right;\">\n",
       "      <th></th>\n",
       "      <th>idaviso</th>\n",
       "      <th>idpais</th>\n",
       "      <th>titulo</th>\n",
       "      <th>descripcion</th>\n",
       "      <th>nombre_zona</th>\n",
       "      <th>ciudad</th>\n",
       "      <th>mapacalle</th>\n",
       "      <th>tipo_de_trabajo</th>\n",
       "      <th>nivel_laboral</th>\n",
       "      <th>nombre_area</th>\n",
       "      <th>denominacion_empresa</th>\n",
       "    </tr>\n",
       "  </thead>\n",
       "  <tbody>\n",
       "    <tr>\n",
       "      <th>13844</th>\n",
       "      <td>1112342204</td>\n",
       "      <td>1.0</td>\n",
       "      <td>Ejecutivo de Ventas - Prov. de Bs. As e Interi...</td>\n",
       "      <td>&lt;p&gt;Editorial Rubinzal Culzoni, lÃ­der en el Ã¡...</td>\n",
       "      <td>Gran Buenos Aires</td>\n",
       "      <td>NaN</td>\n",
       "      <td>NaN</td>\n",
       "      <td>Full-time</td>\n",
       "      <td>Senior / Semi-Senior</td>\n",
       "      <td>Ventas</td>\n",
       "      <td>Rubinzal Editorial</td>\n",
       "    </tr>\n",
       "    <tr>\n",
       "      <th>13845</th>\n",
       "      <td>1112341862</td>\n",
       "      <td>1.0</td>\n",
       "      <td>24 Feb - Chief Software Architect ($100K/yr) -...</td>\n",
       "      <td>&lt;p&gt;Para inscribirse en el torneo debe ingresar...</td>\n",
       "      <td>Gran Buenos Aires</td>\n",
       "      <td>NaN</td>\n",
       "      <td>NaN</td>\n",
       "      <td>Teletrabajo</td>\n",
       "      <td>Jefe / Supervisor / Responsable</td>\n",
       "      <td>Tecnologia / Sistemas</td>\n",
       "      <td>CrossOver</td>\n",
       "    </tr>\n",
       "    <tr>\n",
       "      <th>13846</th>\n",
       "      <td>1112341899</td>\n",
       "      <td>1.0</td>\n",
       "      <td>24 Feb - Customer Support Manager ($100K/yr) -...</td>\n",
       "      <td>&lt;p&gt;Para inscribirse en el torneo debe ingresar...</td>\n",
       "      <td>Gran Buenos Aires</td>\n",
       "      <td>NaN</td>\n",
       "      <td>NaN</td>\n",
       "      <td>Teletrabajo</td>\n",
       "      <td>Jefe / Supervisor / Responsable</td>\n",
       "      <td>Soporte TÃ©cnico</td>\n",
       "      <td>CrossOver</td>\n",
       "    </tr>\n",
       "    <tr>\n",
       "      <th>13847</th>\n",
       "      <td>1112341992</td>\n",
       "      <td>1.0</td>\n",
       "      <td>24 Feb - VP of Customer Support ($200K/yr) - O...</td>\n",
       "      <td>&lt;p&gt;Para inscribirse en el torneo debe ingresar...</td>\n",
       "      <td>Gran Buenos Aires</td>\n",
       "      <td>NaN</td>\n",
       "      <td>NaN</td>\n",
       "      <td>Teletrabajo</td>\n",
       "      <td>Jefe / Supervisor / Responsable</td>\n",
       "      <td>AtenciÃ³n al Cliente</td>\n",
       "      <td>CrossOver</td>\n",
       "    </tr>\n",
       "    <tr>\n",
       "      <th>13848</th>\n",
       "      <td>1112342193</td>\n",
       "      <td>1.0</td>\n",
       "      <td>Supervisor de Mantenimiento</td>\n",
       "      <td>&lt;p&gt;Nuestro cliente, un importante PYME dedicad...</td>\n",
       "      <td>Gran Buenos Aires</td>\n",
       "      <td>NaN</td>\n",
       "      <td>NaN</td>\n",
       "      <td>Full-time</td>\n",
       "      <td>Jefe / Supervisor / Responsable</td>\n",
       "      <td>Mantenimiento</td>\n",
       "      <td>VF CONSULTING</td>\n",
       "    </tr>\n",
       "  </tbody>\n",
       "</table>\n",
       "</div>"
      ],
      "text/plain": [
       "          idaviso  idpais                                             titulo  \\\n",
       "13844  1112342204     1.0  Ejecutivo de Ventas - Prov. de Bs. As e Interi...   \n",
       "13845  1112341862     1.0  24 Feb - Chief Software Architect ($100K/yr) -...   \n",
       "13846  1112341899     1.0  24 Feb - Customer Support Manager ($100K/yr) -...   \n",
       "13847  1112341992     1.0  24 Feb - VP of Customer Support ($200K/yr) - O...   \n",
       "13848  1112342193     1.0                        Supervisor de Mantenimiento   \n",
       "\n",
       "                                             descripcion        nombre_zona  \\\n",
       "13844  <p>Editorial Rubinzal Culzoni, lÃ­der en el Ã¡...  Gran Buenos Aires   \n",
       "13845  <p>Para inscribirse en el torneo debe ingresar...  Gran Buenos Aires   \n",
       "13846  <p>Para inscribirse en el torneo debe ingresar...  Gran Buenos Aires   \n",
       "13847  <p>Para inscribirse en el torneo debe ingresar...  Gran Buenos Aires   \n",
       "13848  <p>Nuestro cliente, un importante PYME dedicad...  Gran Buenos Aires   \n",
       "\n",
       "      ciudad mapacalle tipo_de_trabajo                    nivel_laboral  \\\n",
       "13844    NaN       NaN       Full-time             Senior / Semi-Senior   \n",
       "13845    NaN       NaN     Teletrabajo  Jefe / Supervisor / Responsable   \n",
       "13846    NaN       NaN     Teletrabajo  Jefe / Supervisor / Responsable   \n",
       "13847    NaN       NaN     Teletrabajo  Jefe / Supervisor / Responsable   \n",
       "13848    NaN       NaN       Full-time  Jefe / Supervisor / Responsable   \n",
       "\n",
       "                 nombre_area denominacion_empresa  \n",
       "13844                 Ventas   Rubinzal Editorial  \n",
       "13845  Tecnologia / Sistemas            CrossOver  \n",
       "13846       Soporte TÃ©cnico            CrossOver  \n",
       "13847   AtenciÃ³n al Cliente            CrossOver  \n",
       "13848          Mantenimiento        VF CONSULTING  "
      ]
     },
     "execution_count": 15,
     "metadata": {},
     "output_type": "execute_result"
    }
   ],
   "source": [
    "avisos = pd.merge(avisos_online, avisos_detalle, on='idaviso', how='outer')\n",
    "avisos.tail()"
   ]
  },
  {
   "cell_type": "markdown",
   "metadata": {},
   "source": [
    "## Analizando el set de datos de postulantes"
   ]
  },
  {
   "cell_type": "markdown",
   "metadata": {},
   "source": [
    "*Analisis de la calidad del set de datos "
   ]
  },
  {
   "cell_type": "code",
   "execution_count": 16,
   "metadata": {
    "collapsed": false
   },
   "outputs": [
    {
     "name": "stdout",
     "output_type": "stream",
     "text": [
      "<class 'pandas.core.frame.DataFrame'>\n",
      "Int64Index: 310367 entries, 0 to 310366\n",
      "Data columns (total 5 columns):\n",
      "idpostulante       310367 non-null object\n",
      "nombre             298231 non-null object\n",
      "estado             298231 non-null object\n",
      "fechanacimiento    304928 non-null object\n",
      "sexo               310367 non-null object\n",
      "dtypes: object(5)\n",
      "memory usage: 14.2+ MB\n"
     ]
    }
   ],
   "source": [
    "postulantes.info()"
   ]
  },
  {
   "cell_type": "code",
   "execution_count": 17,
   "metadata": {
    "collapsed": false
   },
   "outputs": [
    {
     "data": {
      "text/plain": [
       "idpostulante       False\n",
       "nombre              True\n",
       "estado              True\n",
       "fechanacimiento     True\n",
       "sexo               False\n",
       "dtype: bool"
      ]
     },
     "execution_count": 17,
     "metadata": {},
     "output_type": "execute_result"
    }
   ],
   "source": [
    "postulantes.isnull().any()"
   ]
  },
  {
   "cell_type": "markdown",
   "metadata": {},
   "source": [
    "* Se agrega las columnas Anio, mes, dia y edad de los postulantes"
   ]
  },
  {
   "cell_type": "code",
   "execution_count": 18,
   "metadata": {
    "collapsed": true
   },
   "outputs": [],
   "source": [
    "# Convertimos año, mes y dia de la semana \n",
    "import calendar\n",
    "postulantes['fechanacimiento'] = pd.to_datetime(postulantes['fechanacimiento'], errors='coerce')\n",
    "postulantes['Anio'] = postulantes['fechanacimiento'].map(lambda x:x.year)\n",
    "postulantes['Mes'] = postulantes['fechanacimiento'].map(lambda x:x.month)\n",
    "postulantes['Dia'] = postulantes['fechanacimiento'].map(lambda x:x.weekday_name)"
   ]
  },
  {
   "cell_type": "code",
   "execution_count": 19,
   "metadata": {
    "collapsed": false
   },
   "outputs": [
    {
     "data": {
      "text/plain": [
       "idpostulante               object\n",
       "nombre                     object\n",
       "estado                     object\n",
       "fechanacimiento    datetime64[ns]\n",
       "sexo                       object\n",
       "Anio                      float64\n",
       "Mes                       float64\n",
       "Dia                        object\n",
       "dtype: object"
      ]
     },
     "execution_count": 19,
     "metadata": {},
     "output_type": "execute_result"
    }
   ],
   "source": [
    "postulantes.dtypes"
   ]
  },
  {
   "cell_type": "code",
   "execution_count": 20,
   "metadata": {
    "collapsed": false
   },
   "outputs": [
    {
     "data": {
      "text/plain": [
       "310362    19.0\n",
       "310363     NaN\n",
       "310364    21.0\n",
       "310365    21.0\n",
       "310366     NaN\n",
       "Name: Anio, dtype: float64"
      ]
     },
     "execution_count": 20,
     "metadata": {},
     "output_type": "execute_result"
    }
   ],
   "source": [
    "edad = 2018 - postulantes.Anio\n",
    "edad.tail()"
   ]
  },
  {
   "cell_type": "code",
   "execution_count": 21,
   "metadata": {
    "collapsed": false
   },
   "outputs": [
    {
     "data": {
      "text/html": [
       "<div>\n",
       "<table border=\"1\" class=\"dataframe\">\n",
       "  <thead>\n",
       "    <tr style=\"text-align: right;\">\n",
       "      <th></th>\n",
       "      <th>idpostulante</th>\n",
       "      <th>nombre</th>\n",
       "      <th>estado</th>\n",
       "      <th>fechanacimiento</th>\n",
       "      <th>sexo</th>\n",
       "      <th>Anio</th>\n",
       "      <th>Mes</th>\n",
       "      <th>Dia</th>\n",
       "      <th>edad</th>\n",
       "    </tr>\n",
       "  </thead>\n",
       "  <tbody>\n",
       "    <tr>\n",
       "      <th>310362</th>\n",
       "      <td>mzdNo99</td>\n",
       "      <td>NaN</td>\n",
       "      <td>NaN</td>\n",
       "      <td>1999-08-10</td>\n",
       "      <td>FEM</td>\n",
       "      <td>1999.0</td>\n",
       "      <td>8.0</td>\n",
       "      <td>Tuesday</td>\n",
       "      <td>19.0</td>\n",
       "    </tr>\n",
       "    <tr>\n",
       "      <th>310363</th>\n",
       "      <td>Nzr1J34</td>\n",
       "      <td>NaN</td>\n",
       "      <td>NaN</td>\n",
       "      <td>NaT</td>\n",
       "      <td>NO_DECLARA</td>\n",
       "      <td>NaN</td>\n",
       "      <td>NaN</td>\n",
       "      <td>NaN</td>\n",
       "      <td>NaN</td>\n",
       "    </tr>\n",
       "    <tr>\n",
       "      <th>310364</th>\n",
       "      <td>JBrNMNk</td>\n",
       "      <td>NaN</td>\n",
       "      <td>NaN</td>\n",
       "      <td>1997-01-11</td>\n",
       "      <td>MASC</td>\n",
       "      <td>1997.0</td>\n",
       "      <td>1.0</td>\n",
       "      <td>Saturday</td>\n",
       "      <td>21.0</td>\n",
       "    </tr>\n",
       "    <tr>\n",
       "      <th>310365</th>\n",
       "      <td>2zP6Jd0</td>\n",
       "      <td>NaN</td>\n",
       "      <td>NaN</td>\n",
       "      <td>1997-03-06</td>\n",
       "      <td>FEM</td>\n",
       "      <td>1997.0</td>\n",
       "      <td>3.0</td>\n",
       "      <td>Thursday</td>\n",
       "      <td>21.0</td>\n",
       "    </tr>\n",
       "    <tr>\n",
       "      <th>310366</th>\n",
       "      <td>2zP6J9V</td>\n",
       "      <td>NaN</td>\n",
       "      <td>NaN</td>\n",
       "      <td>NaT</td>\n",
       "      <td>NO_DECLARA</td>\n",
       "      <td>NaN</td>\n",
       "      <td>NaN</td>\n",
       "      <td>NaN</td>\n",
       "      <td>NaN</td>\n",
       "    </tr>\n",
       "  </tbody>\n",
       "</table>\n",
       "</div>"
      ],
      "text/plain": [
       "       idpostulante nombre estado fechanacimiento        sexo    Anio  Mes  \\\n",
       "310362      mzdNo99    NaN    NaN      1999-08-10         FEM  1999.0  8.0   \n",
       "310363      Nzr1J34    NaN    NaN             NaT  NO_DECLARA     NaN  NaN   \n",
       "310364      JBrNMNk    NaN    NaN      1997-01-11        MASC  1997.0  1.0   \n",
       "310365      2zP6Jd0    NaN    NaN      1997-03-06         FEM  1997.0  3.0   \n",
       "310366      2zP6J9V    NaN    NaN             NaT  NO_DECLARA     NaN  NaN   \n",
       "\n",
       "             Dia  edad  \n",
       "310362   Tuesday  19.0  \n",
       "310363       NaN   NaN  \n",
       "310364  Saturday  21.0  \n",
       "310365  Thursday  21.0  \n",
       "310366       NaN   NaN  "
      ]
     },
     "execution_count": 21,
     "metadata": {},
     "output_type": "execute_result"
    }
   ],
   "source": [
    "postulantes['edad']=edad\n",
    "postulantes.tail()"
   ]
  },
  {
   "cell_type": "markdown",
   "metadata": {},
   "source": [
    "*Eliminación de la columna nombre de mi archivo postulantes, ya que no lo consideramos relvante para nuestr analisis"
   ]
  },
  {
   "cell_type": "code",
   "execution_count": 22,
   "metadata": {
    "collapsed": true
   },
   "outputs": [],
   "source": [
    "postulantes.drop([\"nombre\"],axis=1,inplace=True)"
   ]
  },
  {
   "cell_type": "markdown",
   "metadata": {},
   "source": [
    "## Analizando el set de datos de avisos\n",
    "\n",
    "Se analiza este set de datos puntualmente, ya que queremos filtrar datos que pertenezcan a CABA y GBA.\n",
    "En particular haremos enfazis en las columnas, idpais, nombre_zona, ciudad y mapacalle "
   ]
  },
  {
   "cell_type": "code",
   "execution_count": 23,
   "metadata": {
    "collapsed": false
   },
   "outputs": [
    {
     "name": "stdout",
     "output_type": "stream",
     "text": [
      "<class 'pandas.core.frame.DataFrame'>\n",
      "Int64Index: 13849 entries, 0 to 13848\n",
      "Data columns (total 11 columns):\n",
      "idaviso                 13849 non-null int64\n",
      "idpais                  13534 non-null float64\n",
      "titulo                  13534 non-null object\n",
      "descripcion             13534 non-null object\n",
      "nombre_zona             13534 non-null object\n",
      "ciudad                  47 non-null object\n",
      "mapacalle               872 non-null object\n",
      "tipo_de_trabajo         13534 non-null object\n",
      "nivel_laboral           13534 non-null object\n",
      "nombre_area             13534 non-null object\n",
      "denominacion_empresa    13529 non-null object\n",
      "dtypes: float64(1), int64(1), object(9)\n",
      "memory usage: 1.3+ MB\n"
     ]
    }
   ],
   "source": [
    "avisos.info()"
   ]
  },
  {
   "cell_type": "markdown",
   "metadata": {},
   "source": [
    "## CHIC@S\n",
    "### 1) considero que no hay que tomar la col ciudad y mapacalle, ya que existe 13802 null y 12977 null, son datos "
   ]
  },
  {
   "cell_type": "code",
   "execution_count": 24,
   "metadata": {
    "collapsed": false,
    "scrolled": true
   },
   "outputs": [
    {
     "data": {
      "text/plain": [
       "idaviso                     0\n",
       "idpais                    315\n",
       "titulo                    315\n",
       "descripcion               315\n",
       "nombre_zona               315\n",
       "ciudad                  13802\n",
       "mapacalle               12977\n",
       "tipo_de_trabajo           315\n",
       "nivel_laboral             315\n",
       "nombre_area               315\n",
       "denominacion_empresa      320\n",
       "dtype: int64"
      ]
     },
     "execution_count": 24,
     "metadata": {},
     "output_type": "execute_result"
    }
   ],
   "source": [
    "avisos.isnull().sum()"
   ]
  },
  {
   "cell_type": "markdown",
   "metadata": {},
   "source": [
    "## CHIC@S\n",
    "### 2) Considero en limpiar el dato Bs As (fuera de GBA) "
   ]
  },
  {
   "cell_type": "code",
   "execution_count": 25,
   "metadata": {
    "collapsed": false,
    "scrolled": true
   },
   "outputs": [
    {
     "data": {
      "text/plain": [
       "Gran Buenos Aires              12654\n",
       "Capital Federal                  876\n",
       "GBA Oeste                          2\n",
       "Buenos Aires (fuera de GBA)        2\n",
       "Name: nombre_zona, dtype: int64"
      ]
     },
     "execution_count": 25,
     "metadata": {},
     "output_type": "execute_result"
    }
   ],
   "source": [
    "#Verificamos que las zonas sean solo de Cap Fed y GBA\n",
    "avisos.nombre_zona.value_counts()"
   ]
  },
  {
   "cell_type": "markdown",
   "metadata": {},
   "source": [
    "## CHIC@S\n",
    "### 3) Analizando que datos diferentes a null existe en la col ciudad, se puede ver que hay datos mal cargados, esto tb es otro motivo más (a mi parecer) de no considerar para nuestro analisis esta columna"
   ]
  },
  {
   "cell_type": "code",
   "execution_count": 26,
   "metadata": {
    "collapsed": false
   },
   "outputs": [
    {
     "data": {
      "text/plain": [
       "Buenos Aires                 14\n",
       "Argentina                    13\n",
       "CABA                          3\n",
       "Capital Federal               2\n",
       "San Isidro                    2\n",
       "Vicente Lopez                 1\n",
       "Mendoza                       1\n",
       "Santa Rosa                    1\n",
       "La Plata                      1\n",
       "Tortuguitas                   1\n",
       "Parque Patricios              1\n",
       "Barracas                      1\n",
       "Microcentro                   1\n",
       "paternal                      1\n",
       "RepÃºblica Argentina          1\n",
       "Buenos Aires Province         1\n",
       "caba                          1\n",
       "ZÃ¡rate, Campana, Escobar     1\n",
       "Name: ciudad, dtype: int64"
      ]
     },
     "execution_count": 26,
     "metadata": {},
     "output_type": "execute_result"
    }
   ],
   "source": [
    "#Verificamos que las ciudades pertenezcan sólo a CABA y GBA\n",
    "avisos.ciudad.value_counts()"
   ]
  },
  {
   "cell_type": "code",
   "execution_count": 27,
   "metadata": {
    "collapsed": false
   },
   "outputs": [
    {
     "data": {
      "text/plain": [
       "SARMIENTO 1937                              43\n",
       "Microcentro                                 30\n",
       "Buenos Aires                                24\n",
       "Palermo                                     23\n",
       "Barracas                                    18\n",
       "Puerto Madero                               15\n",
       "Belgrano                                    14\n",
       "Reconquista 865                             13\n",
       "retiro                                      12\n",
       "Parque Patricios                            10\n",
       "Recoleta                                    10\n",
       "saavedra                                     8\n",
       "nuÃ±ez                                       8\n",
       "Peron 955                                    7\n",
       "San Telmo                                    6\n",
       "Monserrat                                    6\n",
       "25 de Mayo 457 7Âº piso                      6\n",
       "Mataderos                                    6\n",
       "Pasaje Aguado 628                            6\n",
       "calle 7 nÂº1565 e/64 y 65                    5\n",
       "Av. Libertador 6810 4Âº A                    5\n",
       "AmenÃ¡bar 1074                               5\n",
       "Villa Soldati                                5\n",
       "Florencio varela 3215                        4\n",
       "Lavalle 1790                                 4\n",
       "Peru 159                                     4\n",
       "Nicasio OroÃ±o 1420                          4\n",
       "San Isidro                                   4\n",
       "Buenos Aires 1480                            4\n",
       "MÃ©xico 2051                                 4\n",
       "                                            ..\n",
       "Avenida congreso 2526                        1\n",
       "Av. Marquez 1215                             1\n",
       "Au Panamericana, El Talar, Buenos Aires      1\n",
       "MIGUELETES 1231                              1\n",
       "mercedes                                     1\n",
       "Ruta Nacional 188 Km 800                     1\n",
       "austria 2100                                 1\n",
       "Bolivar 200 Ramos Mejia                      1\n",
       "Ciudad de la paz 353                         1\n",
       "Ruperto Mazza 339                            1\n",
       "Nicasio OroÃ±o 2424                          1\n",
       "Ãlvarez Thomas 1130, Villa Rosa             1\n",
       "Quilmes Oeste                                1\n",
       "BARRIO BELGRANO                              1\n",
       "Esmeralda 605 piso 1                         1\n",
       "SARMIENTO 520                                1\n",
       "De los Calabreses 4204                       1\n",
       "Paraguay 2041 4 B                            1\n",
       "calle 95 1249 Villa Lynch                    1\n",
       "Av Independencia 3976                        1\n",
       "Adolfo Alsina 180                            1\n",
       "AV.CORRIENTES 4651                           1\n",
       "Avenida Mariano Castex, Canning, Ezeiza.     1\n",
       "Tucuman 825                                  1\n",
       "Avenida ColÃ³n 778                           1\n",
       "L. N. Alem 530 7Â°                           1\n",
       "Los Patos 2948                               1\n",
       "Avenida Cordoba 333 Piso 7                   1\n",
       "Bernardo de Irigoyen 722                     1\n",
       "Teniente General PerÃ³n 1628, 6to Piso       1\n",
       "Name: mapacalle, dtype: int64"
      ]
     },
     "execution_count": 27,
     "metadata": {},
     "output_type": "execute_result"
    }
   ],
   "source": [
    "avisos.mapacalle.value_counts()"
   ]
  },
  {
   "cell_type": "markdown",
   "metadata": {},
   "source": [
    "## Limpieza del set de datos de avisos\n",
    "Se limpia todos los nans que pueda aparecer en la columna nombre_zona, la justificación es los ptos 1) y 2) que se recalco "
   ]
  },
  {
   "cell_type": "code",
   "execution_count": 28,
   "metadata": {
    "collapsed": true
   },
   "outputs": [],
   "source": [
    "avisos.dropna(subset=['nombre_zona'],inplace=True)"
   ]
  },
  {
   "cell_type": "markdown",
   "metadata": {},
   "source": [
    "## Filtración de datos por CABA y GBA"
   ]
  },
  {
   "cell_type": "code",
   "execution_count": 29,
   "metadata": {
    "collapsed": true
   },
   "outputs": [],
   "source": [
    "avisosGran_Bs_As=avisos.loc[avisos.nombre_zona.str.contains('Gran Buenos Aires'),:]\n",
    "avisosGBA_Oeste =avisos.loc[avisos.nombre_zona.str.contains('GBA Oeste'),:]\n",
    "\n",
    "avisosGBA=pd.concat([avisosGBA_Oeste,avisosGran_Bs_As])"
   ]
  },
  {
   "cell_type": "code",
   "execution_count": 30,
   "metadata": {
    "collapsed": true
   },
   "outputs": [],
   "source": [
    "avisosCABA=avisos.loc[avisos.nombre_zona.str.contains('Capital Federal'),:]\n",
    "\n",
    "avisosCABA_GBA=pd.concat([avisosCABA,avisosGBA])"
   ]
  },
  {
   "cell_type": "markdown",
   "metadata": {},
   "source": [
    "## Eliminación de columnas\n",
    "Se limpia las columnas por los siguientes motivos:\n",
    "\n",
    "  * idpais: existe 315 datos nullos y representa menos del 2,5% .Los datos diferentes a nulos, tienen un unico id\n",
    "   \n",
    "  * ciudad: existe 13802 datos nulos y aquellos datos diferente a nulos, son datos mal cargados\n",
    "   \n",
    "  * mapacalle: existe 12977 datos nulos (representa el 93,7% del total de los datos),no es relevante para nuestro      analisis\n"
   ]
  },
  {
   "cell_type": "code",
   "execution_count": 31,
   "metadata": {
    "collapsed": true
   },
   "outputs": [],
   "source": [
    "avisosCABA_GBA.drop([\"idpais\", \"ciudad\", \"mapacalle\"],axis=1,inplace=True)\n"
   ]
  },
  {
   "cell_type": "markdown",
   "metadata": {},
   "source": [
    "## Visualizaciones"
   ]
  },
  {
   "cell_type": "markdown",
   "metadata": {},
   "source": [
    "###  Hora con mayor y menor cantidad de visitas"
   ]
  },
  {
   "cell_type": "markdown",
   "metadata": {},
   "source": [
    "* Verificación de la calidad de datos"
   ]
  },
  {
   "cell_type": "code",
   "execution_count": 32,
   "metadata": {
    "collapsed": false
   },
   "outputs": [
    {
     "data": {
      "text/plain": [
       "idAviso          int64\n",
       "timestamp       object\n",
       "idpostulante    object\n",
       "dtype: object"
      ]
     },
     "execution_count": 32,
     "metadata": {},
     "output_type": "execute_result"
    }
   ],
   "source": [
    "visitas.dtypes"
   ]
  },
  {
   "cell_type": "code",
   "execution_count": 33,
   "metadata": {
    "collapsed": false
   },
   "outputs": [
    {
     "data": {
      "text/plain": [
       "2018-02-28T18:13:14.254-0500    3\n",
       "2018-02-27T10:14:18.766-0500    3\n",
       "2018-02-26T12:22:26.834-0500    3\n",
       "2018-02-24T09:49:12.766-0500    3\n",
       "2018-02-26T09:52:20.019-0500    3\n",
       "2018-02-24T15:00:08.930-0500    3\n",
       "2018-02-26T06:24:30.660-0500    3\n",
       "2018-02-27T08:58:38.605-0500    2\n",
       "2018-02-27T10:22:03.537-0500    2\n",
       "2018-02-23T22:55:13.760-0500    2\n",
       "2018-02-27T13:50:23.129-0500    2\n",
       "2018-02-26T10:32:05.115-0500    2\n",
       "2018-02-27T23:17:48.095-0500    2\n",
       "2018-02-27T11:30:17.594-0500    2\n",
       "2018-02-26T07:58:58.151-0500    2\n",
       "2018-02-27T09:44:14.856-0500    2\n",
       "2018-02-28T12:15:58.698-0500    2\n",
       "2018-02-27T09:43:10.262-0500    2\n",
       "2018-02-28T07:14:37.434-0500    2\n",
       "2018-02-27T11:04:54.397-0500    2\n",
       "2018-02-27T09:54:21.412-0500    2\n",
       "2018-02-28T09:28:32.022-0500    2\n",
       "2018-02-26T06:36:45.915-0500    2\n",
       "2018-02-28T19:06:48.274-0500    2\n",
       "2018-02-27T18:19:24.654-0500    2\n",
       "2018-02-27T18:44:20.969-0500    2\n",
       "2018-02-28T08:59:17.645-0500    2\n",
       "2018-02-25T08:45:36.971-0500    2\n",
       "2018-02-26T17:05:43.273-0500    2\n",
       "2018-02-26T14:31:26.476-0500    2\n",
       "                               ..\n",
       "2018-02-28T10:34:22.464-0500    1\n",
       "2018-02-27T07:49:49.221-0500    1\n",
       "2018-02-28T12:17:14.266-0500    1\n",
       "2018-02-26T11:18:08.578-0500    1\n",
       "2018-02-26T17:42:12.745-0500    1\n",
       "2018-02-25T10:37:31.612-0500    1\n",
       "2018-02-28T17:58:36.275-0500    1\n",
       "2018-02-28T18:00:13.066-0500    1\n",
       "2018-02-27T23:19:11.938-0500    1\n",
       "2018-02-25T09:19:15.706-0500    1\n",
       "2018-02-26T11:10:58.561-0500    1\n",
       "2018-02-25T19:07:09.849-0500    1\n",
       "2018-02-28T19:07:42.734-0500    1\n",
       "2018-02-28T21:28:47.942-0500    1\n",
       "2018-02-28T16:07:22.692-0500    1\n",
       "2018-02-27T10:45:07.325-0500    1\n",
       "2018-02-26T06:28:26.754-0500    1\n",
       "2018-02-28T15:25:46.983-0500    1\n",
       "2018-02-28T09:09:49.731-0500    1\n",
       "2018-02-25T08:30:23.458-0500    1\n",
       "2018-02-25T03:35:05.994-0500    1\n",
       "2018-02-26T09:05:48.285-0500    1\n",
       "2018-02-26T10:52:22.982-0500    1\n",
       "2018-02-28T16:30:53.161-0500    1\n",
       "2018-02-25T18:59:22.147-0500    1\n",
       "2018-02-27T23:09:36.938-0500    1\n",
       "2018-02-27T09:56:20.713-0500    1\n",
       "2018-02-26T22:20:14.169-0500    1\n",
       "2018-02-27T10:02:46.355-0500    1\n",
       "2018-02-23T20:54:44.465-0500    1\n",
       "Name: timestamp, dtype: int64"
      ]
     },
     "execution_count": 33,
     "metadata": {},
     "output_type": "execute_result"
    }
   ],
   "source": [
    "visitas.timestamp.value_counts()"
   ]
  },
  {
   "cell_type": "code",
   "execution_count": 34,
   "metadata": {
    "collapsed": false
   },
   "outputs": [
    {
     "data": {
      "text/plain": [
       "idAviso         False\n",
       "timestamp       False\n",
       "idpostulante    False\n",
       "dtype: bool"
      ]
     },
     "execution_count": 34,
     "metadata": {},
     "output_type": "execute_result"
    }
   ],
   "source": [
    "visitas.isnull().any()"
   ]
  },
  {
   "cell_type": "markdown",
   "metadata": {},
   "source": [
    "* Se agregan la columnas dia, mes, año y hora"
   ]
  },
  {
   "cell_type": "code",
   "execution_count": 35,
   "metadata": {
    "collapsed": true
   },
   "outputs": [],
   "source": [
    "# Convertimos año, mes, dia de la semana y hora\n",
    "import calendar\n",
    "visitas['timestamp'] = pd.to_datetime(visitas['timestamp'])\n",
    "visitas['Anio'] = visitas['timestamp'].map(lambda x:x.year)\n",
    "visitas['Mes'] = visitas['timestamp'].map(lambda x:x.month)\n",
    "visitas['Dia'] = visitas['timestamp'].map(lambda x:x.weekday_name)\n",
    "visitas['Hora'] = pd.to_datetime(visitas['timestamp'], format='%H:%M',errors='coerce').dt.hour\n"
   ]
  },
  {
   "cell_type": "markdown",
   "metadata": {},
   "source": [
    "*Despreciamos el mes de 3, ya que la cantidad de visitas en comparación a Febrero no es comparable"
   ]
  },
  {
   "cell_type": "code",
   "execution_count": 36,
   "metadata": {
    "collapsed": false
   },
   "outputs": [
    {
     "data": {
      "text/plain": [
       "2    921074\n",
       "3     40823\n",
       "Name: Mes, dtype: int64"
      ]
     },
     "execution_count": 36,
     "metadata": {},
     "output_type": "execute_result"
    }
   ],
   "source": [
    "visitas.Mes.value_counts()"
   ]
  },
  {
   "cell_type": "code",
   "execution_count": 37,
   "metadata": {
    "collapsed": true
   },
   "outputs": [],
   "source": [
    "visitasFebrero= visitas[visitas.Mes==2]"
   ]
  },
  {
   "cell_type": "code",
   "execution_count": 38,
   "metadata": {
    "collapsed": false
   },
   "outputs": [
    {
     "data": {
      "text/html": [
       "<div>\n",
       "<table border=\"1\" class=\"dataframe\">\n",
       "  <thead>\n",
       "    <tr style=\"text-align: right;\">\n",
       "      <th></th>\n",
       "      <th>idAviso</th>\n",
       "      <th>timestamp</th>\n",
       "      <th>idpostulante</th>\n",
       "      <th>Anio</th>\n",
       "      <th>Mes</th>\n",
       "      <th>Dia</th>\n",
       "      <th>Hora</th>\n",
       "    </tr>\n",
       "  </thead>\n",
       "  <tbody>\n",
       "    <tr>\n",
       "      <th>926019</th>\n",
       "      <td>1112352879</td>\n",
       "      <td>2018-02-28 23:59:43.373</td>\n",
       "      <td>vV9BGbE</td>\n",
       "      <td>2018</td>\n",
       "      <td>2</td>\n",
       "      <td>Wednesday</td>\n",
       "      <td>23</td>\n",
       "    </tr>\n",
       "    <tr>\n",
       "      <th>926020</th>\n",
       "      <td>1112303807</td>\n",
       "      <td>2018-02-28 23:59:46.717</td>\n",
       "      <td>ZD8QEXE</td>\n",
       "      <td>2018</td>\n",
       "      <td>2</td>\n",
       "      <td>Wednesday</td>\n",
       "      <td>23</td>\n",
       "    </tr>\n",
       "    <tr>\n",
       "      <th>926021</th>\n",
       "      <td>1112322670</td>\n",
       "      <td>2018-02-28 23:59:50.148</td>\n",
       "      <td>bOj3ojq</td>\n",
       "      <td>2018</td>\n",
       "      <td>2</td>\n",
       "      <td>Wednesday</td>\n",
       "      <td>23</td>\n",
       "    </tr>\n",
       "    <tr>\n",
       "      <th>926022</th>\n",
       "      <td>1112347283</td>\n",
       "      <td>2018-02-28 23:59:53.949</td>\n",
       "      <td>ZDNJzJE</td>\n",
       "      <td>2018</td>\n",
       "      <td>2</td>\n",
       "      <td>Wednesday</td>\n",
       "      <td>23</td>\n",
       "    </tr>\n",
       "    <tr>\n",
       "      <th>926023</th>\n",
       "      <td>1112316657</td>\n",
       "      <td>2018-02-28 23:59:59.935</td>\n",
       "      <td>owavZOL</td>\n",
       "      <td>2018</td>\n",
       "      <td>2</td>\n",
       "      <td>Wednesday</td>\n",
       "      <td>23</td>\n",
       "    </tr>\n",
       "  </tbody>\n",
       "</table>\n",
       "</div>"
      ],
      "text/plain": [
       "           idAviso               timestamp idpostulante  Anio  Mes        Dia  \\\n",
       "926019  1112352879 2018-02-28 23:59:43.373      vV9BGbE  2018    2  Wednesday   \n",
       "926020  1112303807 2018-02-28 23:59:46.717      ZD8QEXE  2018    2  Wednesday   \n",
       "926021  1112322670 2018-02-28 23:59:50.148      bOj3ojq  2018    2  Wednesday   \n",
       "926022  1112347283 2018-02-28 23:59:53.949      ZDNJzJE  2018    2  Wednesday   \n",
       "926023  1112316657 2018-02-28 23:59:59.935      owavZOL  2018    2  Wednesday   \n",
       "\n",
       "        Hora  \n",
       "926019    23  \n",
       "926020    23  \n",
       "926021    23  \n",
       "926022    23  \n",
       "926023    23  "
      ]
     },
     "execution_count": 38,
     "metadata": {},
     "output_type": "execute_result"
    }
   ],
   "source": [
    "visitasFebrero.tail()"
   ]
  },
  {
   "cell_type": "markdown",
   "metadata": {},
   "source": [
    "* Eliminamos las columnas con la que no vamos a trabajar"
   ]
  },
  {
   "cell_type": "code",
   "execution_count": 39,
   "metadata": {
    "collapsed": true
   },
   "outputs": [],
   "source": [
    "visitasFebrero.drop([\"timestamp\"],axis=1,inplace=True)\n"
   ]
  },
  {
   "cell_type": "code",
   "execution_count": 40,
   "metadata": {
    "collapsed": false
   },
   "outputs": [
    {
     "data": {
      "text/html": [
       "<div>\n",
       "<table border=\"1\" class=\"dataframe\">\n",
       "  <thead>\n",
       "    <tr style=\"text-align: right;\">\n",
       "      <th></th>\n",
       "      <th>idAviso</th>\n",
       "      <th>idpostulante</th>\n",
       "      <th>Anio</th>\n",
       "      <th>Mes</th>\n",
       "      <th>Dia</th>\n",
       "      <th>Hora</th>\n",
       "    </tr>\n",
       "  </thead>\n",
       "  <tbody>\n",
       "    <tr>\n",
       "      <th>926019</th>\n",
       "      <td>1112352879</td>\n",
       "      <td>vV9BGbE</td>\n",
       "      <td>2018</td>\n",
       "      <td>2</td>\n",
       "      <td>Wednesday</td>\n",
       "      <td>23</td>\n",
       "    </tr>\n",
       "    <tr>\n",
       "      <th>926020</th>\n",
       "      <td>1112303807</td>\n",
       "      <td>ZD8QEXE</td>\n",
       "      <td>2018</td>\n",
       "      <td>2</td>\n",
       "      <td>Wednesday</td>\n",
       "      <td>23</td>\n",
       "    </tr>\n",
       "    <tr>\n",
       "      <th>926021</th>\n",
       "      <td>1112322670</td>\n",
       "      <td>bOj3ojq</td>\n",
       "      <td>2018</td>\n",
       "      <td>2</td>\n",
       "      <td>Wednesday</td>\n",
       "      <td>23</td>\n",
       "    </tr>\n",
       "    <tr>\n",
       "      <th>926022</th>\n",
       "      <td>1112347283</td>\n",
       "      <td>ZDNJzJE</td>\n",
       "      <td>2018</td>\n",
       "      <td>2</td>\n",
       "      <td>Wednesday</td>\n",
       "      <td>23</td>\n",
       "    </tr>\n",
       "    <tr>\n",
       "      <th>926023</th>\n",
       "      <td>1112316657</td>\n",
       "      <td>owavZOL</td>\n",
       "      <td>2018</td>\n",
       "      <td>2</td>\n",
       "      <td>Wednesday</td>\n",
       "      <td>23</td>\n",
       "    </tr>\n",
       "  </tbody>\n",
       "</table>\n",
       "</div>"
      ],
      "text/plain": [
       "           idAviso idpostulante  Anio  Mes        Dia  Hora\n",
       "926019  1112352879      vV9BGbE  2018    2  Wednesday    23\n",
       "926020  1112303807      ZD8QEXE  2018    2  Wednesday    23\n",
       "926021  1112322670      bOj3ojq  2018    2  Wednesday    23\n",
       "926022  1112347283      ZDNJzJE  2018    2  Wednesday    23\n",
       "926023  1112316657      owavZOL  2018    2  Wednesday    23"
      ]
     },
     "execution_count": 40,
     "metadata": {},
     "output_type": "execute_result"
    }
   ],
   "source": [
    "visitasFebrero.tail()"
   ]
  },
  {
   "cell_type": "code",
   "execution_count": 41,
   "metadata": {
    "collapsed": false
   },
   "outputs": [
    {
     "data": {
      "text/plain": [
       "idAviso         False\n",
       "idpostulante    False\n",
       "Anio            False\n",
       "Mes             False\n",
       "Dia             False\n",
       "Hora            False\n",
       "dtype: bool"
      ]
     },
     "execution_count": 41,
     "metadata": {},
     "output_type": "execute_result"
    }
   ],
   "source": [
    "visitasFebrero.isnull().any()"
   ]
  },
  {
   "cell_type": "code",
   "execution_count": 42,
   "metadata": {
    "collapsed": false,
    "scrolled": true
   },
   "outputs": [
    {
     "data": {
      "text/plain": [
       "Hora\n",
       "8      4445\n",
       "7      4550\n",
       "9      5957\n",
       "6      7487\n",
       "5     11966\n",
       "4     17512\n",
       "10    18679\n",
       "3     28553\n",
       "2     31818\n",
       "1     34463\n",
       "0     36136\n",
       "11    36364\n",
       "12    50213\n",
       "22    51527\n",
       "23    51656\n",
       "21    53928\n",
       "17    54704\n",
       "16    56415\n",
       "18    56568\n",
       "20    58042\n",
       "19    59214\n",
       "13    60972\n",
       "15    63737\n",
       "14    66168\n",
       "Name: (idAviso, count), dtype: int64"
      ]
     },
     "execution_count": 42,
     "metadata": {},
     "output_type": "execute_result"
    }
   ],
   "source": [
    "visitasFebreroPorHora=visitasFebrero\n",
    "\n",
    "grouped = visitasFebreroPorHora.loc[:,['Hora','idAviso']].groupby('Hora').agg(['count'])\n",
    "top_visitas = grouped[('idAviso','count')].sort_values(ascending=True)\n",
    "top_visitas"
   ]
  },
  {
   "cell_type": "code",
   "execution_count": 43,
   "metadata": {
    "collapsed": false
   },
   "outputs": [
    {
     "ename": "UnicodeDecodeError",
     "evalue": "'ascii' codec can't decode byte 0xc3 in position 23: ordinal not in range(128)",
     "output_type": "error",
     "traceback": [
      "\u001b[0;31m---------------------------------------------------------------------------\u001b[0m",
      "\u001b[0;31mUnicodeDecodeError\u001b[0m                        Traceback (most recent call last)",
      "\u001b[0;32m<ipython-input-43-d911964d936b>\u001b[0m in \u001b[0;36m<module>\u001b[0;34m()\u001b[0m\n\u001b[1;32m      3\u001b[0m \u001b[0mtop_visitas\u001b[0m \u001b[0;34m=\u001b[0m \u001b[0mvisitasFebreroPorHora\u001b[0m\u001b[0;34m.\u001b[0m\u001b[0mgroupby\u001b[0m\u001b[0;34m(\u001b[0m\u001b[0;34m'Hora'\u001b[0m\u001b[0;34m)\u001b[0m\u001b[0;34m.\u001b[0m\u001b[0mcount\u001b[0m\u001b[0;34m(\u001b[0m\u001b[0;34m)\u001b[0m\u001b[0;34m.\u001b[0m\u001b[0mloc\u001b[0m\u001b[0;34m[\u001b[0m\u001b[0;34m:\u001b[0m\u001b[0;34m,\u001b[0m\u001b[0;34m'idAviso'\u001b[0m\u001b[0;34m]\u001b[0m\u001b[0;34m.\u001b[0m\u001b[0mplot\u001b[0m\u001b[0;34m(\u001b[0m\u001b[0mlinewidth\u001b[0m\u001b[0;34m=\u001b[0m\u001b[0;36m2\u001b[0m\u001b[0;34m,\u001b[0m\u001b[0mfigsize\u001b[0m\u001b[0;34m=\u001b[0m\u001b[0;34m(\u001b[0m\u001b[0;36m10\u001b[0m\u001b[0;34m,\u001b[0m\u001b[0;36m6\u001b[0m\u001b[0;34m)\u001b[0m\u001b[0;34m)\u001b[0m\u001b[0;34m;\u001b[0m\u001b[0;34m\u001b[0m\u001b[0m\n\u001b[1;32m      4\u001b[0m \u001b[0;34m\u001b[0m\u001b[0m\n\u001b[0;32m----> 5\u001b[0;31m \u001b[0mtop_visitas\u001b[0m\u001b[0;34m.\u001b[0m\u001b[0mset_title\u001b[0m\u001b[0;34m(\u001b[0m\u001b[0;34m\"Cantidad de visitas según la hora\"\u001b[0m\u001b[0;34m,\u001b[0m \u001b[0mfontsize\u001b[0m\u001b[0;34m=\u001b[0m\u001b[0;36m18\u001b[0m\u001b[0;34m)\u001b[0m\u001b[0;34m\u001b[0m\u001b[0m\n\u001b[0m\u001b[1;32m      6\u001b[0m \u001b[0mtop_visitas\u001b[0m\u001b[0;34m.\u001b[0m\u001b[0mset_ylabel\u001b[0m\u001b[0;34m(\u001b[0m\u001b[0;34m\"Cantidad de visitas\"\u001b[0m\u001b[0;34m,\u001b[0m \u001b[0mfontsize\u001b[0m\u001b[0;34m=\u001b[0m\u001b[0;36m10\u001b[0m\u001b[0;34m)\u001b[0m\u001b[0;34m\u001b[0m\u001b[0m\n\u001b[1;32m      7\u001b[0m \u001b[0mtop_visitas\u001b[0m\u001b[0;34m.\u001b[0m\u001b[0mset_xlabel\u001b[0m\u001b[0;34m(\u001b[0m\u001b[0;34m\"something at 55°\"\u001b[0m\u001b[0;34m,\u001b[0m \u001b[0mfontsize\u001b[0m\u001b[0;34m=\u001b[0m\u001b[0;36m10\u001b[0m\u001b[0;34m)\u001b[0m\u001b[0;34m\u001b[0m\u001b[0m\n",
      "\u001b[0;32m/usr/lib/python2.7/dist-packages/matplotlib/axes/_axes.pyc\u001b[0m in \u001b[0;36mset_title\u001b[0;34m(self, label, fontdict, loc, **kwargs)\u001b[0m\n\u001b[1;32m    184\u001b[0m             \u001b[0;34m'verticalalignment'\u001b[0m\u001b[0;34m:\u001b[0m \u001b[0;34m'baseline'\u001b[0m\u001b[0;34m,\u001b[0m\u001b[0;34m\u001b[0m\u001b[0m\n\u001b[1;32m    185\u001b[0m             'horizontalalignment': loc.lower()}\n\u001b[0;32m--> 186\u001b[0;31m         \u001b[0mtitle\u001b[0m\u001b[0;34m.\u001b[0m\u001b[0mset_text\u001b[0m\u001b[0;34m(\u001b[0m\u001b[0mlabel\u001b[0m\u001b[0;34m)\u001b[0m\u001b[0;34m\u001b[0m\u001b[0m\n\u001b[0m\u001b[1;32m    187\u001b[0m         \u001b[0mtitle\u001b[0m\u001b[0;34m.\u001b[0m\u001b[0mupdate\u001b[0m\u001b[0;34m(\u001b[0m\u001b[0mdefault\u001b[0m\u001b[0;34m)\u001b[0m\u001b[0;34m\u001b[0m\u001b[0m\n\u001b[1;32m    188\u001b[0m         \u001b[0;32mif\u001b[0m \u001b[0mfontdict\u001b[0m \u001b[0;32mis\u001b[0m \u001b[0;32mnot\u001b[0m \u001b[0mNone\u001b[0m\u001b[0;34m:\u001b[0m\u001b[0;34m\u001b[0m\u001b[0m\n",
      "\u001b[0;32m/usr/lib/python2.7/dist-packages/matplotlib/text.pyc\u001b[0m in \u001b[0;36mset_text\u001b[0;34m(self, s)\u001b[0m\n\u001b[1;32m   1210\u001b[0m         \u001b[0mACCEPTS\u001b[0m\u001b[0;34m:\u001b[0m \u001b[0mstring\u001b[0m \u001b[0;32mor\u001b[0m \u001b[0manything\u001b[0m \u001b[0mprintable\u001b[0m \u001b[0;32mwith\u001b[0m \u001b[0;34m'%s'\u001b[0m \u001b[0mconversion\u001b[0m\u001b[0;34m.\u001b[0m\u001b[0;34m\u001b[0m\u001b[0m\n\u001b[1;32m   1211\u001b[0m         \"\"\"\n\u001b[0;32m-> 1212\u001b[0;31m         \u001b[0mself\u001b[0m\u001b[0;34m.\u001b[0m\u001b[0m_text\u001b[0m \u001b[0;34m=\u001b[0m \u001b[0;34m'%s'\u001b[0m \u001b[0;34m%\u001b[0m \u001b[0;34m(\u001b[0m\u001b[0ms\u001b[0m\u001b[0;34m,\u001b[0m\u001b[0;34m)\u001b[0m\u001b[0;34m\u001b[0m\u001b[0m\n\u001b[0m\u001b[1;32m   1213\u001b[0m         \u001b[0mself\u001b[0m\u001b[0;34m.\u001b[0m\u001b[0mstale\u001b[0m \u001b[0;34m=\u001b[0m \u001b[0mTrue\u001b[0m\u001b[0;34m\u001b[0m\u001b[0m\n\u001b[1;32m   1214\u001b[0m \u001b[0;34m\u001b[0m\u001b[0m\n",
      "\u001b[0;31mUnicodeDecodeError\u001b[0m: 'ascii' codec can't decode byte 0xc3 in position 23: ordinal not in range(128)"
     ]
    },
    {
     "data": {
      "image/png": "[encoded data removed]",
      "text/plain": [
       "<matplotlib.figure.Figure at 0x7fee8cea9190>"
      ]
     },
     "metadata": {},
     "output_type": "display_data"
    }
   ],
   "source": [
    "visitasFebreroPorHora=visitasFebrero\n",
    "\n",
    "top_visitas = visitasFebreroPorHora.groupby('Hora').count().loc[:,'idAviso'].plot(linewidth=2,figsize=(10,6));\n",
    "\n",
    "top_visitas.set_title(\"Cantidad de visitas según la hora\", fontsize=18)\n",
    "top_visitas.set_ylabel(\"Cantidad de visitas\", fontsize=10)\n",
    "top_visitas.set_xlabel(\"something at 55°\", fontsize=10)"
   ]
  },
  {
   "cell_type": "markdown",
   "metadata": {},
   "source": [
    "### 7) Día de la semana con mayor y menor cantidad de visitas"
   ]
  },
  {
   "cell_type": "code",
   "execution_count": 45,
   "metadata": {
    "collapsed": false
   },
   "outputs": [
    {
     "data": {
      "text/plain": [
       "Dia\n",
       "Friday        47236\n",
       "Sunday        90646\n",
       "Saturday      95930\n",
       "Wednesday    227160\n",
       "Monday       227957\n",
       "Tuesday      232145\n",
       "Name: (idAviso, count), dtype: int64"
      ]
     },
     "execution_count": 45,
     "metadata": {},
     "output_type": "execute_result"
    }
   ],
   "source": [
    "visitasFebreroPorDia=visitasFebrero\n",
    "\n",
    "grouped = visitasFebreroPorDia.loc[:,['Dia','idAviso']].groupby('Dia').agg(['count'])\n",
    "top_visitas = grouped[('idAviso','count')].sort_values(ascending=True)\n",
    "top_visitas"
   ]
  },
  {
   "cell_type": "code",
   "execution_count": 44,
   "metadata": {
    "collapsed": false
   },
   "outputs": [
    {
     "data": {
      "text/plain": [
       "<matplotlib.text.Text at 0x7fee8cc3a050>"
      ]
     },
     "execution_count": 44,
     "metadata": {},
     "output_type": "execute_result"
    },
    {
     "data": {
      "image/png": "[encoded data removed]",
      "text/plain": [
       "<matplotlib.figure.Figure at 0x7feea8286950>"
      ]
     },
     "metadata": {},
     "output_type": "display_data"
    }
   ],
   "source": [
    "visualizacionVisitasPorDia=visitasFebrero\n",
    "\n",
    "g = sns.countplot(x='Dia', data=visualizacionVisitasPorDia, order=visualizacionVisitasPorDia['Dia'].value_counts().index, orient='v')\n",
    "g.set_xticklabels(g.get_xticklabels(),rotation=90)\n",
    "g.set_xlabel(\"Dias\", fontsize=15)\n",
    "g.set_ylabel(\"Cantidad \", fontsize=15)\n",
    "g.set_title(\"Cantidad de visitas por dia en el mes de Febrero\", fontsize=15)"
   ]
  },
  {
   "cell_type": "markdown",
   "metadata": {},
   "source": [
    "## grafico boxplot de visitas dia por hora"
   ]
  },
  {
   "cell_type": "code",
   "execution_count": 128,
   "metadata": {
    "collapsed": false
   },
   "outputs": [
    {
     "data": {
      "text/plain": [
       "<matplotlib.axes._subplots.AxesSubplot at 0x7fee8ce58850>"
      ]
     },
     "execution_count": 128,
     "metadata": {},
     "output_type": "execute_result"
    },
    {
     "data": {
      "image/png": "[encoded data removed]",
      "text/plain": [
       "<matplotlib.figure.Figure at 0x7fee71f18390>"
      ]
     },
     "metadata": {},
     "output_type": "display_data"
    }
   ],
   "source": [
    "visi3=visitasFebrero[['Dia','Hora']]\n",
    "visi3.boxplot(by='Dia')"
   ]
  },
  {
   "cell_type": "code",
   "execution_count": null,
   "metadata": {
    "collapsed": true
   },
   "outputs": [],
   "source": [
    "#conlusiones:vemos que la mediana en horas los viernes es de 20 hrs, mientras que los otros dias es 15 hrs(\n",
    "#excepto el sabado)\n",
    "# vemos que en el sabado la  parte baja de la caja es mayor que la de arriba; ello quiere decir que\n",
    "#las horas  comprendidas entre el 25% y el 50% de ese dia está más dispersa que entre el 50% y el 75%,idem con\n",
    "#el viernes, y en los demas la mediana esta en el centro y es simetrica la distribucion de horas\n"
   ]
  },
  {
   "cell_type": "markdown",
   "metadata": {},
   "source": [
    "## hora en el dia que mas se postulan"
   ]
  },
  {
   "cell_type": "code",
   "execution_count": 54,
   "metadata": {
    "collapsed": false
   },
   "outputs": [
    {
     "data": {
      "image/png": "[encoded data removed]",
      "text/plain": [
       "<matplotlib.figure.Figure at 0x7fee71e52650>"
      ]
     },
     "metadata": {},
     "output_type": "display_data"
    }
   ],
   "source": [
    "visualizacionvisitasporhora=visualizacionVisitasPorDia.groupby('Hora')['idpostulante'].agg(['count']).reset_index()\n",
    "\n",
    "visualizacionvisitasporhora.plot.scatter('Hora','count',alpha=0.25,figsize=(12,8));"
   ]
  },
  {
   "cell_type": "code",
   "execution_count": null,
   "metadata": {
    "collapsed": true
   },
   "outputs": [],
   "source": [
    "#CONCLUSION ALACANSA UN PICO EN LAS 15 HORAS, MIENTRAS QUE  ENTRE LAS 5 Y 10 AM SON LAS HORAS QUE MENOS SE POSTULAN."
   ]
  },
  {
   "cell_type": "markdown",
   "metadata": {},
   "source": [
    "###  Empresas con mayor y menor cantidad de postulaciones"
   ]
  },
  {
   "cell_type": "code",
   "execution_count": null,
   "metadata": {
    "collapsed": true
   },
   "outputs": [],
   "source": [
    "dataframe2= pd.merge(avisos,postulaciones, on='idaviso', how='inner')"
   ]
  },
  {
   "cell_type": "code",
   "execution_count": null,
   "metadata": {
    "collapsed": true
   },
   "outputs": [],
   "source": [
    "empresas=dataframe2[['idaviso','denominacion_empresa']]"
   ]
  },
  {
   "cell_type": "code",
   "execution_count": null,
   "metadata": {
    "collapsed": true
   },
   "outputs": [],
   "source": [
    "empresas.dropna(subset=['denominacion_empresa'],inplace=True)"
   ]
  },
  {
   "cell_type": "code",
   "execution_count": null,
   "metadata": {
    "collapsed": false
   },
   "outputs": [],
   "source": [
    "empresas.isnull().sum()"
   ]
  },
  {
   "cell_type": "code",
   "execution_count": null,
   "metadata": {
    "collapsed": false
   },
   "outputs": [],
   "source": [
    "grouped = empresas.loc[:,['denominacion_empresa','idaviso']].groupby('denominacion_empresa').agg(['count'])\n",
    "top10_empresas = grouped[('idaviso','count')].sort_values(ascending=False)\n",
    "top10_empresas.head(10)"
   ]
  },
  {
   "cell_type": "code",
   "execution_count": null,
   "metadata": {
    "collapsed": false
   },
   "outputs": [],
   "source": [
    "empresas.groupby('denominacion_empresa')['idaviso'].count().sort_values(ascending = False)[0:10].plot(kind='bar',rot = 90,figsize=(10,5),color='blue',fontsize=10)\n",
    "\n",
    "plt.title('Empresas con mayor cantidad de postulaciones', fontsize=15);\n",
    "plt.xlabel('Nombre de Empresas', fontsize=12);\n",
    "plt.ylabel('Cantidad de postulaciones', fontsize=12);"
   ]
  }
 ],
 "metadata": {
  "kernelspec": {
   "display_name": "Python 2",
   "language": "python",
   "name": "python2"
  },
  "language_info": {
   "codemirror_mode": {
    "name": "ipython",
    "version": 2
   },
   "file_extension": ".py",
   "mimetype": "text/x-python",
   "name": "python",
   "nbconvert_exporter": "python",
   "pygments_lexer": "ipython2",
   "version": "2.7.13"
  }
 },
 "nbformat": 4,
 "nbformat_minor": 2
}
