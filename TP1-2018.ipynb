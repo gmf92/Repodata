{
 "cells": [
  {
   "cell_type": "code",
   "execution_count": 1,
   "metadata": {},
   "outputs": [],
   "source": [
    "import datetime as datetime\n",
    "import pandas as pd\n",
    "import numpy as np\n",
    "import seaborn as sns\n",
    "import matplotlib.pyplot as plt"
   ]
  },
  {
   "cell_type": "markdown",
   "metadata": {},
   "source": [
    "**CARGA DE DATOS**\n",
    "====================="
   ]
  },
  {
   "cell_type": "code",
   "execution_count": null,
   "metadata": {},
   "outputs": [],
   "source": [
    "postulantesEducacion=pd.read_csv('/home/sherly/Escritorio/datos_navent_fiuba/fiuba_1_postulantes_educacion.csv',low_memory=False)\n",
    "postulantesGeneroYEdad=pd.read_csv('/home/sherly/Escritorio/datos_navent_fiuba/fiuba_2_postulantes_genero_y_edad.csv',low_memory=False)\n",
    "vistas=pd.read_csv('/home/sherly/Escritorio/datos_navent_fiuba/fiuba_3_vistas.csv',low_memory=False)\n",
    "postulaciones=pd.read_csv('/home/sherly/Escritorio/datos_navent_fiuba/fiuba_4_postulaciones.csv',low_memory=False)\n",
    "avisosOnline=pd.read_csv('/home/sherly/Escritorio/datos_navent_fiuba/fiuba_5_avisos_online.csv',low_memory=False)\n",
    "avisosDetalle=pd.read_csv('/home/sherly/Escritorio/datos_navent_fiuba/fiuba_6_avisos_detalle.csv',low_memory=False)"
   ]
  }
 ],
 "metadata": {
  "kernelspec": {
   "display_name": "Python [conda root]",
   "language": "python",
   "name": "conda-root-py"
  },
  "language_info": {
   "codemirror_mode": {
    "name": "ipython",
    "version": 3
   },
   "file_extension": ".py",
   "mimetype": "text/x-python",
   "name": "python",
   "nbconvert_exporter": "python",
   "pygments_lexer": "ipython3",
   "version": "3.5.2"
  }
 },
 "nbformat": 4,
 "nbformat_minor": 2
}
